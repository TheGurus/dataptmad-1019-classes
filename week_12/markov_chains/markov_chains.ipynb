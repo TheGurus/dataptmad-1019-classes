{
 "cells": [
  {
   "cell_type": "markdown",
   "metadata": {},
   "source": [
    "# Markovify"
   ]
  },
  {
   "cell_type": "markdown",
   "metadata": {},
   "source": [
    "https://github.com/jsvine/markovify"
   ]
  },
  {
   "cell_type": "code",
   "execution_count": 1,
   "metadata": {},
   "outputs": [
    {
     "name": "stdout",
     "output_type": "stream",
     "text": [
      "Requirement already satisfied: markovify in /home/ubuntu/miniconda3/envs/ironhack_env/lib/python3.7/site-packages (0.8.0)\n",
      "Requirement already satisfied: unidecode in /home/ubuntu/miniconda3/envs/ironhack_env/lib/python3.7/site-packages (from markovify) (1.1.1)\n"
     ]
    }
   ],
   "source": [
    "!pip install markovify"
   ]
  },
  {
   "cell_type": "code",
   "execution_count": 2,
   "metadata": {},
   "outputs": [],
   "source": [
    "import markovify"
   ]
  },
  {
   "cell_type": "markdown",
   "metadata": {},
   "source": [
    "## Read Romeo and Juliet corpus"
   ]
  },
  {
   "cell_type": "code",
   "execution_count": 4,
   "metadata": {},
   "outputs": [
    {
     "data": {
      "text/plain": [
       "'\\n                        THE PROLOGUE\\n\\n                        Enter Chorus.\\n\\n\\n  Chor. Two households, both alike in dignity,\\n    In fair Verona, where we lay our scene,\\n    From ancient grudge break to new mutiny,\\n    Where civil blood makes civil hands unclean.\\n    From forth the fatal loins of th'"
      ]
     },
     "execution_count": 4,
     "metadata": {},
     "output_type": "execute_result"
    }
   ],
   "source": [
    "with open(\"data/romeo_and_juliet.txt\") as f:\n",
    "    romeo_and_juliet = f.read()\n",
    "\n",
    "romeo_and_juliet[:300]"
   ]
  },
  {
   "cell_type": "markdown",
   "metadata": {},
   "source": [
    "**everything would work better with a good text cleanup...**"
   ]
  },
  {
   "cell_type": "markdown",
   "metadata": {},
   "source": [
    "## Generate random sentences using Markov chain algorithm"
   ]
  },
  {
   "cell_type": "code",
   "execution_count": 5,
   "metadata": {},
   "outputs": [],
   "source": [
    "raj_model = markovify.Text(romeo_and_juliet)"
   ]
  },
  {
   "cell_type": "code",
   "execution_count": 8,
   "metadata": {},
   "outputs": [
    {
     "name": "stdout",
     "output_type": "stream",
     "text": [
      "1: What say'st thou, my dear son with such sour company.\n",
      "2: This is dear mercy, and thou shalt live till we can clear these ambiguities And know their spring, their head, their true qualities; For naught so vile that on the misty mountain tops.\n",
      "3: Let me see her.\n",
      "4: His name is Romeo, and a Montague, our foe; A villain, that is hither come in spite of me.\n",
      "5: Not to his foe suppos'd he must complain, And she shall scant show well that now seems best.\n"
     ]
    }
   ],
   "source": [
    "for i in range(5):\n",
    "    print(f'{i+1}: {raj_model.make_sentence()}')\n"
   ]
  },
  {
   "cell_type": "markdown",
   "metadata": {},
   "source": [
    "## Read Donald Trump corpus"
   ]
  },
  {
   "cell_type": "code",
   "execution_count": 9,
   "metadata": {},
   "outputs": [
    {
     "data": {
      "text/plain": [
       "'\".@chucktodd is a nice guy , but just hopeless. He knows so little about politics and, in particular, winning!  I fixed his rating problem.\"\\n\".@Morning_Joe just went off the rails. I will beat Hillary easily - she does not want to run against me. I am tuning them out, waste of time\"\\n\".@tedcruz shoul'"
      ]
     },
     "execution_count": 9,
     "metadata": {},
     "output_type": "execute_result"
    }
   ],
   "source": [
    "with open(\"data/donald_trump.txt\") as f:\n",
    "    donald_trump = f.read()\n",
    "\n",
    "donald_trump[:300]"
   ]
  },
  {
   "cell_type": "markdown",
   "metadata": {},
   "source": [
    "## Generate random sentences using Markov chain algorithm"
   ]
  },
  {
   "cell_type": "code",
   "execution_count": 10,
   "metadata": {},
   "outputs": [],
   "source": [
    "dt_model = markovify.NewlineText(donald_trump)"
   ]
  },
  {
   "cell_type": "code",
   "execution_count": 13,
   "metadata": {},
   "outputs": [
    {
     "name": "stdout",
     "output_type": "stream",
     "text": [
      "1: Thank you for your commentary last night proved that Hillary is running against the “B” team. She won’t be so far-fetched” http://t.co/CvrbpD\n",
      "2: RT @IvankaTrump: .@realDonaldTrump won tonight's #GOBDebate by a candidate with a commanding lead - points above his closest competition @RealBenCa…\n",
      "3: .@MonicaCrowley you were terrific on @seanhannity at :. There is no nation at all. We must be vigilant!\n",
      "4: Why does the failing and he wanted to have me on a waiting list and gets no care.\n",
      "5: .@FoxNews You shouldn’t have @KarlRove on the @colbertlateshow tonight at PM.\n"
     ]
    }
   ],
   "source": [
    "for i in range(5):\n",
    "    print(f'{i+1}: {dt_model.make_sentence()}')"
   ]
  },
  {
   "cell_type": "code",
   "execution_count": null,
   "metadata": {},
   "outputs": [],
   "source": []
  }
 ],
 "metadata": {
  "kernelspec": {
   "display_name": "Python [conda env:ironhack_env]",
   "language": "python",
   "name": "conda-env-ironhack_env-py"
  },
  "language_info": {
   "codemirror_mode": {
    "name": "ipython",
    "version": 3
   },
   "file_extension": ".py",
   "mimetype": "text/x-python",
   "name": "python",
   "nbconvert_exporter": "python",
   "pygments_lexer": "ipython3",
   "version": "3.7.4"
  }
 },
 "nbformat": 4,
 "nbformat_minor": 4
}
