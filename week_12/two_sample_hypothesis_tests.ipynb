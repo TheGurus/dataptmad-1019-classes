{
 "cells": [
  {
   "cell_type": "markdown",
   "metadata": {},
   "source": [
    "## 0. python imports"
   ]
  },
  {
   "cell_type": "code",
   "execution_count": 1,
   "metadata": {},
   "outputs": [],
   "source": [
    "import pandas as pd\n",
    "from scipy.stats import ttest_rel, ttest_1samp, ttest_ind"
   ]
  },
  {
   "cell_type": "markdown",
   "metadata": {},
   "source": [
    "## 1. data loading"
   ]
  },
  {
   "cell_type": "code",
   "execution_count": 2,
   "metadata": {},
   "outputs": [
    {
     "data": {
      "text/html": [
       "<div>\n",
       "<style scoped>\n",
       "    .dataframe tbody tr th:only-of-type {\n",
       "        vertical-align: middle;\n",
       "    }\n",
       "\n",
       "    .dataframe tbody tr th {\n",
       "        vertical-align: top;\n",
       "    }\n",
       "\n",
       "    .dataframe thead th {\n",
       "        text-align: right;\n",
       "    }\n",
       "</style>\n",
       "<table border=\"1\" class=\"dataframe\">\n",
       "  <thead>\n",
       "    <tr style=\"text-align: right;\">\n",
       "      <th></th>\n",
       "      <th>before</th>\n",
       "      <th>after</th>\n",
       "    </tr>\n",
       "  </thead>\n",
       "  <tbody>\n",
       "    <tr>\n",
       "      <th>0</th>\n",
       "      <td>136.713072</td>\n",
       "      <td>92.432965</td>\n",
       "    </tr>\n",
       "    <tr>\n",
       "      <th>1</th>\n",
       "      <td>134.735618</td>\n",
       "      <td>105.022643</td>\n",
       "    </tr>\n",
       "    <tr>\n",
       "      <th>2</th>\n",
       "      <td>127.529115</td>\n",
       "      <td>82.242766</td>\n",
       "    </tr>\n",
       "    <tr>\n",
       "      <th>3</th>\n",
       "      <td>144.527126</td>\n",
       "      <td>93.607172</td>\n",
       "    </tr>\n",
       "    <tr>\n",
       "      <th>4</th>\n",
       "      <td>124.214720</td>\n",
       "      <td>103.212223</td>\n",
       "    </tr>\n",
       "  </tbody>\n",
       "</table>\n",
       "</div>"
      ],
      "text/plain": [
       "       before       after\n",
       "0  136.713072   92.432965\n",
       "1  134.735618  105.022643\n",
       "2  127.529115   82.242766\n",
       "3  144.527126   93.607172\n",
       "4  124.214720  103.212223"
      ]
     },
     "execution_count": 2,
     "metadata": {},
     "output_type": "execute_result"
    }
   ],
   "source": [
    "blood_pressure = pd.read_csv('./data/blood_pressure.csv')\n",
    "blood_pressure.head()"
   ]
  },
  {
   "cell_type": "code",
   "execution_count": 3,
   "metadata": {},
   "outputs": [
    {
     "data": {
      "text/html": [
       "<div>\n",
       "<style scoped>\n",
       "    .dataframe tbody tr th:only-of-type {\n",
       "        vertical-align: middle;\n",
       "    }\n",
       "\n",
       "    .dataframe tbody tr th {\n",
       "        vertical-align: top;\n",
       "    }\n",
       "\n",
       "    .dataframe thead th {\n",
       "        text-align: right;\n",
       "    }\n",
       "</style>\n",
       "<table border=\"1\" class=\"dataframe\">\n",
       "  <thead>\n",
       "    <tr style=\"text-align: right;\">\n",
       "      <th></th>\n",
       "      <th>a</th>\n",
       "      <th>b</th>\n",
       "    </tr>\n",
       "  </thead>\n",
       "  <tbody>\n",
       "    <tr>\n",
       "      <th>0</th>\n",
       "      <td>0.27</td>\n",
       "      <td>13.61</td>\n",
       "    </tr>\n",
       "    <tr>\n",
       "      <th>1</th>\n",
       "      <td>6.08</td>\n",
       "      <td>21.53</td>\n",
       "    </tr>\n",
       "    <tr>\n",
       "      <th>2</th>\n",
       "      <td>13.74</td>\n",
       "      <td>9.23</td>\n",
       "    </tr>\n",
       "    <tr>\n",
       "      <th>3</th>\n",
       "      <td>9.70</td>\n",
       "      <td>5.36</td>\n",
       "    </tr>\n",
       "    <tr>\n",
       "      <th>4</th>\n",
       "      <td>7.00</td>\n",
       "      <td>12.90</td>\n",
       "    </tr>\n",
       "  </tbody>\n",
       "</table>\n",
       "</div>"
      ],
      "text/plain": [
       "       a      b\n",
       "0   0.27  13.61\n",
       "1   6.08  21.53\n",
       "2  13.74   9.23\n",
       "3   9.70   5.36\n",
       "4   7.00  12.90"
      ]
     },
     "execution_count": 3,
     "metadata": {},
     "output_type": "execute_result"
    }
   ],
   "source": [
    "ab_test = pd.read_csv('./data/ab_test.csv')\n",
    "ab_test.head()"
   ]
  },
  {
   "cell_type": "markdown",
   "metadata": {},
   "source": [
    "## 2. hypothesis test example (related samples)"
   ]
  },
  {
   "cell_type": "markdown",
   "metadata": {},
   "source": [
    "test related distributions, is the differences between them due to chance?"
   ]
  },
  {
   "cell_type": "code",
   "execution_count": 4,
   "metadata": {},
   "outputs": [
    {
     "data": {
      "text/plain": [
       "Ttest_relResult(statistic=27.291841767560236, pvalue=7.303035069608042e-48)"
      ]
     },
     "execution_count": 4,
     "metadata": {},
     "output_type": "execute_result"
    }
   ],
   "source": [
    "ttest_rel(blood_pressure['before'], blood_pressure['after'])"
   ]
  },
  {
   "cell_type": "markdown",
   "metadata": {},
   "source": [
    "test related distributions as mean difference is zero"
   ]
  },
  {
   "cell_type": "code",
   "execution_count": 5,
   "metadata": {},
   "outputs": [
    {
     "data": {
      "text/html": [
       "<div>\n",
       "<style scoped>\n",
       "    .dataframe tbody tr th:only-of-type {\n",
       "        vertical-align: middle;\n",
       "    }\n",
       "\n",
       "    .dataframe tbody tr th {\n",
       "        vertical-align: top;\n",
       "    }\n",
       "\n",
       "    .dataframe thead th {\n",
       "        text-align: right;\n",
       "    }\n",
       "</style>\n",
       "<table border=\"1\" class=\"dataframe\">\n",
       "  <thead>\n",
       "    <tr style=\"text-align: right;\">\n",
       "      <th></th>\n",
       "      <th>before</th>\n",
       "      <th>after</th>\n",
       "      <th>diff</th>\n",
       "    </tr>\n",
       "  </thead>\n",
       "  <tbody>\n",
       "    <tr>\n",
       "      <th>0</th>\n",
       "      <td>136.713072</td>\n",
       "      <td>92.432965</td>\n",
       "      <td>-44.280107</td>\n",
       "    </tr>\n",
       "    <tr>\n",
       "      <th>1</th>\n",
       "      <td>134.735618</td>\n",
       "      <td>105.022643</td>\n",
       "      <td>-29.712975</td>\n",
       "    </tr>\n",
       "    <tr>\n",
       "      <th>2</th>\n",
       "      <td>127.529115</td>\n",
       "      <td>82.242766</td>\n",
       "      <td>-45.286349</td>\n",
       "    </tr>\n",
       "    <tr>\n",
       "      <th>3</th>\n",
       "      <td>144.527126</td>\n",
       "      <td>93.607172</td>\n",
       "      <td>-50.919953</td>\n",
       "    </tr>\n",
       "    <tr>\n",
       "      <th>4</th>\n",
       "      <td>124.214720</td>\n",
       "      <td>103.212223</td>\n",
       "      <td>-21.002497</td>\n",
       "    </tr>\n",
       "  </tbody>\n",
       "</table>\n",
       "</div>"
      ],
      "text/plain": [
       "       before       after       diff\n",
       "0  136.713072   92.432965 -44.280107\n",
       "1  134.735618  105.022643 -29.712975\n",
       "2  127.529115   82.242766 -45.286349\n",
       "3  144.527126   93.607172 -50.919953\n",
       "4  124.214720  103.212223 -21.002497"
      ]
     },
     "execution_count": 5,
     "metadata": {},
     "output_type": "execute_result"
    }
   ],
   "source": [
    "blood_pressure['diff'] = blood_pressure['after'] - blood_pressure['before']\n",
    "blood_pressure.head()"
   ]
  },
  {
   "cell_type": "code",
   "execution_count": 6,
   "metadata": {},
   "outputs": [
    {
     "data": {
      "text/plain": [
       "Ttest_1sampResult(statistic=-27.291841767560236, pvalue=7.303035069608042e-48)"
      ]
     },
     "execution_count": 6,
     "metadata": {},
     "output_type": "execute_result"
    }
   ],
   "source": [
    "ttest_1samp(blood_pressure['diff'], 0)"
   ]
  },
  {
   "cell_type": "markdown",
   "metadata": {},
   "source": [
    "ojo: https://stackoverflow.com/questions/15984221/how-to-perform-two-sample-one-tailed-t-test-with-numpy-scipy"
   ]
  },
  {
   "cell_type": "markdown",
   "metadata": {},
   "source": [
    "## 3. hypothesis test example (independent samples)"
   ]
  },
  {
   "cell_type": "markdown",
   "metadata": {},
   "source": [
    "assuming equal variances"
   ]
  },
  {
   "cell_type": "code",
   "execution_count": 7,
   "metadata": {},
   "outputs": [
    {
     "data": {
      "text/plain": [
       "\u001b[0;31mSignature:\u001b[0m \u001b[0mttest_ind\u001b[0m\u001b[0;34m(\u001b[0m\u001b[0ma\u001b[0m\u001b[0;34m,\u001b[0m \u001b[0mb\u001b[0m\u001b[0;34m,\u001b[0m \u001b[0maxis\u001b[0m\u001b[0;34m=\u001b[0m\u001b[0;36m0\u001b[0m\u001b[0;34m,\u001b[0m \u001b[0mequal_var\u001b[0m\u001b[0;34m=\u001b[0m\u001b[0;32mTrue\u001b[0m\u001b[0;34m,\u001b[0m \u001b[0mnan_policy\u001b[0m\u001b[0;34m=\u001b[0m\u001b[0;34m'propagate'\u001b[0m\u001b[0;34m)\u001b[0m\u001b[0;34m\u001b[0m\u001b[0;34m\u001b[0m\u001b[0m\n",
       "\u001b[0;31mDocstring:\u001b[0m\n",
       "Calculate the T-test for the means of *two independent* samples of scores.\n",
       "\n",
       "This is a two-sided test for the null hypothesis that 2 independent samples\n",
       "have identical average (expected) values. This test assumes that the\n",
       "populations have identical variances by default.\n",
       "\n",
       "Parameters\n",
       "----------\n",
       "a, b : array_like\n",
       "    The arrays must have the same shape, except in the dimension\n",
       "    corresponding to `axis` (the first, by default).\n",
       "axis : int or None, optional\n",
       "    Axis along which to compute test. If None, compute over the whole\n",
       "    arrays, `a`, and `b`.\n",
       "equal_var : bool, optional\n",
       "    If True (default), perform a standard independent 2 sample test\n",
       "    that assumes equal population variances [1]_.\n",
       "    If False, perform Welch's t-test, which does not assume equal\n",
       "    population variance [2]_.\n",
       "\n",
       "    .. versionadded:: 0.11.0\n",
       "nan_policy : {'propagate', 'raise', 'omit'}, optional\n",
       "    Defines how to handle when input contains nan. 'propagate' returns nan,\n",
       "    'raise' throws an error, 'omit' performs the calculations ignoring nan\n",
       "    values. Default is 'propagate'.\n",
       "\n",
       "\n",
       "Returns\n",
       "-------\n",
       "statistic : float or array\n",
       "    The calculated t-statistic.\n",
       "pvalue : float or array\n",
       "    The two-tailed p-value.\n",
       "\n",
       "Notes\n",
       "-----\n",
       "We can use this test, if we observe two independent samples from\n",
       "the same or different population, e.g. exam scores of boys and\n",
       "girls or of two ethnic groups. The test measures whether the\n",
       "average (expected) value differs significantly across samples. If\n",
       "we observe a large p-value, for example larger than 0.05 or 0.1,\n",
       "then we cannot reject the null hypothesis of identical average scores.\n",
       "If the p-value is smaller than the threshold, e.g. 1%, 5% or 10%,\n",
       "then we reject the null hypothesis of equal averages.\n",
       "\n",
       "References\n",
       "----------\n",
       ".. [1] https://en.wikipedia.org/wiki/T-test#Independent_two-sample_t-test\n",
       "\n",
       ".. [2] https://en.wikipedia.org/wiki/Welch%27s_t-test\n",
       "\n",
       "Examples\n",
       "--------\n",
       ">>> from scipy import stats\n",
       ">>> np.random.seed(12345678)\n",
       "\n",
       "Test with sample with identical means:\n",
       "\n",
       ">>> rvs1 = stats.norm.rvs(loc=5,scale=10,size=500)\n",
       ">>> rvs2 = stats.norm.rvs(loc=5,scale=10,size=500)\n",
       ">>> stats.ttest_ind(rvs1,rvs2)\n",
       "(0.26833823296239279, 0.78849443369564776)\n",
       ">>> stats.ttest_ind(rvs1,rvs2, equal_var = False)\n",
       "(0.26833823296239279, 0.78849452749500748)\n",
       "\n",
       "`ttest_ind` underestimates p for unequal variances:\n",
       "\n",
       ">>> rvs3 = stats.norm.rvs(loc=5, scale=20, size=500)\n",
       ">>> stats.ttest_ind(rvs1, rvs3)\n",
       "(-0.46580283298287162, 0.64145827413436174)\n",
       ">>> stats.ttest_ind(rvs1, rvs3, equal_var = False)\n",
       "(-0.46580283298287162, 0.64149646246569292)\n",
       "\n",
       "When n1 != n2, the equal variance t-statistic is no longer equal to the\n",
       "unequal variance t-statistic:\n",
       "\n",
       ">>> rvs4 = stats.norm.rvs(loc=5, scale=20, size=100)\n",
       ">>> stats.ttest_ind(rvs1, rvs4)\n",
       "(-0.99882539442782481, 0.3182832709103896)\n",
       ">>> stats.ttest_ind(rvs1, rvs4, equal_var = False)\n",
       "(-0.69712570584654099, 0.48716927725402048)\n",
       "\n",
       "T-test with different means, variance, and n:\n",
       "\n",
       ">>> rvs5 = stats.norm.rvs(loc=8, scale=20, size=100)\n",
       ">>> stats.ttest_ind(rvs1, rvs5)\n",
       "(-1.4679669854490653, 0.14263895620529152)\n",
       ">>> stats.ttest_ind(rvs1, rvs5, equal_var = False)\n",
       "(-0.94365973617132992, 0.34744170334794122)\n",
       "\u001b[0;31mFile:\u001b[0m      ~/miniconda3/envs/ironhack_env/lib/python3.7/site-packages/scipy/stats/stats.py\n",
       "\u001b[0;31mType:\u001b[0m      function\n"
      ]
     },
     "metadata": {},
     "output_type": "display_data"
    }
   ],
   "source": [
    "?ttest_ind"
   ]
  },
  {
   "cell_type": "code",
   "execution_count": 10,
   "metadata": {},
   "outputs": [
    {
     "data": {
      "text/plain": [
       "Ttest_indResult(statistic=2.637533181209767, pvalue=0.009713140852447347)"
      ]
     },
     "execution_count": 10,
     "metadata": {},
     "output_type": "execute_result"
    }
   ],
   "source": [
    "ttest_ind(ab_test['b'], ab_test['a'], equal_var=True)"
   ]
  },
  {
   "cell_type": "markdown",
   "metadata": {},
   "source": [
    "assuming unequal variances (Welch's)"
   ]
  },
  {
   "cell_type": "code",
   "execution_count": 12,
   "metadata": {},
   "outputs": [],
   "source": [
    "import numpy as np"
   ]
  },
  {
   "cell_type": "code",
   "execution_count": 13,
   "metadata": {},
   "outputs": [
    {
     "data": {
      "text/plain": [
       "Ttest_indResult(statistic=-8.880552212361339, pvalue=1.0319889242001474e-08)"
      ]
     },
     "execution_count": 13,
     "metadata": {},
     "output_type": "execute_result"
    }
   ],
   "source": [
    "ttest_ind(np.array([1, 2, 3, 4]), ab_test['b'], equal_var=False)"
   ]
  },
  {
   "cell_type": "markdown",
   "metadata": {},
   "source": [
    "## 4. chi squared contingency test"
   ]
  },
  {
   "cell_type": "markdown",
   "metadata": {},
   "source": [
    "**if there is enough time, perform a test for renfe dataset**"
   ]
  },
  {
   "cell_type": "code",
   "execution_count": 14,
   "metadata": {},
   "outputs": [],
   "source": [
    "from scipy.stats import chi2_contingency"
   ]
  },
  {
   "cell_type": "code",
   "execution_count": 15,
   "metadata": {},
   "outputs": [
    {
     "data": {
      "text/plain": [
       "\u001b[0;31mSignature:\u001b[0m \u001b[0mchi2_contingency\u001b[0m\u001b[0;34m(\u001b[0m\u001b[0mobserved\u001b[0m\u001b[0;34m,\u001b[0m \u001b[0mcorrection\u001b[0m\u001b[0;34m=\u001b[0m\u001b[0;32mTrue\u001b[0m\u001b[0;34m,\u001b[0m \u001b[0mlambda_\u001b[0m\u001b[0;34m=\u001b[0m\u001b[0;32mNone\u001b[0m\u001b[0;34m)\u001b[0m\u001b[0;34m\u001b[0m\u001b[0;34m\u001b[0m\u001b[0m\n",
       "\u001b[0;31mDocstring:\u001b[0m\n",
       "Chi-square test of independence of variables in a contingency table.\n",
       "\n",
       "This function computes the chi-square statistic and p-value for the\n",
       "hypothesis test of independence of the observed frequencies in the\n",
       "contingency table [1]_ `observed`.  The expected frequencies are computed\n",
       "based on the marginal sums under the assumption of independence; see\n",
       "`scipy.stats.contingency.expected_freq`.  The number of degrees of\n",
       "freedom is (expressed using numpy functions and attributes)::\n",
       "\n",
       "    dof = observed.size - sum(observed.shape) + observed.ndim - 1\n",
       "\n",
       "\n",
       "Parameters\n",
       "----------\n",
       "observed : array_like\n",
       "    The contingency table. The table contains the observed frequencies\n",
       "    (i.e. number of occurrences) in each category.  In the two-dimensional\n",
       "    case, the table is often described as an \"R x C table\".\n",
       "correction : bool, optional\n",
       "    If True, *and* the degrees of freedom is 1, apply Yates' correction\n",
       "    for continuity.  The effect of the correction is to adjust each\n",
       "    observed value by 0.5 towards the corresponding expected value.\n",
       "lambda_ : float or str, optional.\n",
       "    By default, the statistic computed in this test is Pearson's\n",
       "    chi-squared statistic [2]_.  `lambda_` allows a statistic from the\n",
       "    Cressie-Read power divergence family [3]_ to be used instead.  See\n",
       "    `power_divergence` for details.\n",
       "\n",
       "Returns\n",
       "-------\n",
       "chi2 : float\n",
       "    The test statistic.\n",
       "p : float\n",
       "    The p-value of the test\n",
       "dof : int\n",
       "    Degrees of freedom\n",
       "expected : ndarray, same shape as `observed`\n",
       "    The expected frequencies, based on the marginal sums of the table.\n",
       "\n",
       "See Also\n",
       "--------\n",
       "contingency.expected_freq\n",
       "fisher_exact\n",
       "chisquare\n",
       "power_divergence\n",
       "\n",
       "Notes\n",
       "-----\n",
       "An often quoted guideline for the validity of this calculation is that\n",
       "the test should be used only if the observed and expected frequencies\n",
       "in each cell are at least 5.\n",
       "\n",
       "This is a test for the independence of different categories of a\n",
       "population. The test is only meaningful when the dimension of\n",
       "`observed` is two or more.  Applying the test to a one-dimensional\n",
       "table will always result in `expected` equal to `observed` and a\n",
       "chi-square statistic equal to 0.\n",
       "\n",
       "This function does not handle masked arrays, because the calculation\n",
       "does not make sense with missing values.\n",
       "\n",
       "Like stats.chisquare, this function computes a chi-square statistic;\n",
       "the convenience this function provides is to figure out the expected\n",
       "frequencies and degrees of freedom from the given contingency table.\n",
       "If these were already known, and if the Yates' correction was not\n",
       "required, one could use stats.chisquare.  That is, if one calls::\n",
       "\n",
       "    chi2, p, dof, ex = chi2_contingency(obs, correction=False)\n",
       "\n",
       "then the following is true::\n",
       "\n",
       "    (chi2, p) == stats.chisquare(obs.ravel(), f_exp=ex.ravel(),\n",
       "                                 ddof=obs.size - 1 - dof)\n",
       "\n",
       "The `lambda_` argument was added in version 0.13.0 of scipy.\n",
       "\n",
       "References\n",
       "----------\n",
       ".. [1] \"Contingency table\",\n",
       "       https://en.wikipedia.org/wiki/Contingency_table\n",
       ".. [2] \"Pearson's chi-squared test\",\n",
       "       https://en.wikipedia.org/wiki/Pearson%27s_chi-squared_test\n",
       ".. [3] Cressie, N. and Read, T. R. C., \"Multinomial Goodness-of-Fit\n",
       "       Tests\", J. Royal Stat. Soc. Series B, Vol. 46, No. 3 (1984),\n",
       "       pp. 440-464.\n",
       "\n",
       "Examples\n",
       "--------\n",
       "A two-way example (2 x 3):\n",
       "\n",
       ">>> from scipy.stats import chi2_contingency\n",
       ">>> obs = np.array([[10, 10, 20], [20, 20, 20]])\n",
       ">>> chi2_contingency(obs)\n",
       "(2.7777777777777777,\n",
       " 0.24935220877729619,\n",
       " 2,\n",
       " array([[ 12.,  12.,  16.],\n",
       "        [ 18.,  18.,  24.]]))\n",
       "\n",
       "Perform the test using the log-likelihood ratio (i.e. the \"G-test\")\n",
       "instead of Pearson's chi-squared statistic.\n",
       "\n",
       ">>> g, p, dof, expctd = chi2_contingency(obs, lambda_=\"log-likelihood\")\n",
       ">>> g, p\n",
       "(2.7688587616781319, 0.25046668010954165)\n",
       "\n",
       "A four-way example (2 x 2 x 2 x 2):\n",
       "\n",
       ">>> obs = np.array(\n",
       "...     [[[[12, 17],\n",
       "...        [11, 16]],\n",
       "...       [[11, 12],\n",
       "...        [15, 16]]],\n",
       "...      [[[23, 15],\n",
       "...        [30, 22]],\n",
       "...       [[14, 17],\n",
       "...        [15, 16]]]])\n",
       ">>> chi2_contingency(obs)\n",
       "(8.7584514426741897,\n",
       " 0.64417725029295503,\n",
       " 11,\n",
       " array([[[[ 14.15462386,  14.15462386],\n",
       "          [ 16.49423111,  16.49423111]],\n",
       "         [[ 11.2461395 ,  11.2461395 ],\n",
       "          [ 13.10500554,  13.10500554]]],\n",
       "        [[[ 19.5591166 ,  19.5591166 ],\n",
       "          [ 22.79202844,  22.79202844]],\n",
       "         [[ 15.54012004,  15.54012004],\n",
       "          [ 18.10873492,  18.10873492]]]]))\n",
       "\u001b[0;31mFile:\u001b[0m      ~/miniconda3/envs/ironhack_env/lib/python3.7/site-packages/scipy/stats/contingency.py\n",
       "\u001b[0;31mType:\u001b[0m      function\n"
      ]
     },
     "metadata": {},
     "output_type": "display_data"
    }
   ],
   "source": [
    "?chi2_contingency"
   ]
  },
  {
   "cell_type": "code",
   "execution_count": 16,
   "metadata": {},
   "outputs": [],
   "source": [
    "renfe = pd.read_csv('../hypothesis_testing/data/renfe.csv')"
   ]
  },
  {
   "cell_type": "code",
   "execution_count": 17,
   "metadata": {},
   "outputs": [
    {
     "data": {
      "text/plain": [
       "Index(['insert_date', 'origin', 'destination', 'start_date', 'end_date',\n",
       "       'train_type', 'price', 'train_class', 'fare'],\n",
       "      dtype='object')"
      ]
     },
     "execution_count": 17,
     "metadata": {},
     "output_type": "execute_result"
    }
   ],
   "source": [
    "renfe.columns"
   ]
  },
  {
   "cell_type": "code",
   "execution_count": 19,
   "metadata": {},
   "outputs": [
    {
     "data": {
      "text/html": [
       "<div>\n",
       "<style scoped>\n",
       "    .dataframe tbody tr th:only-of-type {\n",
       "        vertical-align: middle;\n",
       "    }\n",
       "\n",
       "    .dataframe tbody tr th {\n",
       "        vertical-align: top;\n",
       "    }\n",
       "\n",
       "    .dataframe thead th {\n",
       "        text-align: right;\n",
       "    }\n",
       "</style>\n",
       "<table border=\"1\" class=\"dataframe\">\n",
       "  <thead>\n",
       "    <tr style=\"text-align: right;\">\n",
       "      <th>fare</th>\n",
       "      <th>4x100</th>\n",
       "      <th>Adulto ida</th>\n",
       "      <th>COD.PROMOCIONAL</th>\n",
       "      <th>Doble Familiar-Flexible</th>\n",
       "      <th>Flexible</th>\n",
       "      <th>Grupos Ida</th>\n",
       "      <th>Individual-Flexible</th>\n",
       "      <th>Mesa</th>\n",
       "      <th>Promo</th>\n",
       "      <th>Promo +</th>\n",
       "    </tr>\n",
       "    <tr>\n",
       "      <th>train_class</th>\n",
       "      <th></th>\n",
       "      <th></th>\n",
       "      <th></th>\n",
       "      <th></th>\n",
       "      <th></th>\n",
       "      <th></th>\n",
       "      <th></th>\n",
       "      <th></th>\n",
       "      <th></th>\n",
       "      <th></th>\n",
       "    </tr>\n",
       "  </thead>\n",
       "  <tbody>\n",
       "    <tr>\n",
       "      <th>Cama G. Clase</th>\n",
       "      <td>0</td>\n",
       "      <td>0</td>\n",
       "      <td>0</td>\n",
       "      <td>31</td>\n",
       "      <td>0</td>\n",
       "      <td>0</td>\n",
       "      <td>214</td>\n",
       "      <td>0</td>\n",
       "      <td>0</td>\n",
       "      <td>0</td>\n",
       "    </tr>\n",
       "    <tr>\n",
       "      <th>Cama Turista</th>\n",
       "      <td>0</td>\n",
       "      <td>0</td>\n",
       "      <td>0</td>\n",
       "      <td>0</td>\n",
       "      <td>6137</td>\n",
       "      <td>0</td>\n",
       "      <td>0</td>\n",
       "      <td>0</td>\n",
       "      <td>0</td>\n",
       "      <td>0</td>\n",
       "    </tr>\n",
       "    <tr>\n",
       "      <th>Preferente</th>\n",
       "      <td>0</td>\n",
       "      <td>0</td>\n",
       "      <td>44</td>\n",
       "      <td>0</td>\n",
       "      <td>86889</td>\n",
       "      <td>1</td>\n",
       "      <td>0</td>\n",
       "      <td>61</td>\n",
       "      <td>658880</td>\n",
       "      <td>15</td>\n",
       "    </tr>\n",
       "    <tr>\n",
       "      <th>PreferenteSólo plaza H</th>\n",
       "      <td>0</td>\n",
       "      <td>0</td>\n",
       "      <td>0</td>\n",
       "      <td>0</td>\n",
       "      <td>5242</td>\n",
       "      <td>0</td>\n",
       "      <td>0</td>\n",
       "      <td>0</td>\n",
       "      <td>1497</td>\n",
       "      <td>0</td>\n",
       "    </tr>\n",
       "    <tr>\n",
       "      <th>Turista</th>\n",
       "      <td>1</td>\n",
       "      <td>479771</td>\n",
       "      <td>3216</td>\n",
       "      <td>0</td>\n",
       "      <td>1282739</td>\n",
       "      <td>20</td>\n",
       "      <td>0</td>\n",
       "      <td>33</td>\n",
       "      <td>4052436</td>\n",
       "      <td>55</td>\n",
       "    </tr>\n",
       "    <tr>\n",
       "      <th>Turista Plus</th>\n",
       "      <td>0</td>\n",
       "      <td>0</td>\n",
       "      <td>29</td>\n",
       "      <td>0</td>\n",
       "      <td>13601</td>\n",
       "      <td>0</td>\n",
       "      <td>0</td>\n",
       "      <td>66</td>\n",
       "      <td>526004</td>\n",
       "      <td>1</td>\n",
       "    </tr>\n",
       "    <tr>\n",
       "      <th>Turista PlusSólo plaza H</th>\n",
       "      <td>0</td>\n",
       "      <td>0</td>\n",
       "      <td>0</td>\n",
       "      <td>0</td>\n",
       "      <td>22</td>\n",
       "      <td>0</td>\n",
       "      <td>0</td>\n",
       "      <td>0</td>\n",
       "      <td>0</td>\n",
       "      <td>0</td>\n",
       "    </tr>\n",
       "    <tr>\n",
       "      <th>Turista con enlace</th>\n",
       "      <td>0</td>\n",
       "      <td>0</td>\n",
       "      <td>0</td>\n",
       "      <td>0</td>\n",
       "      <td>203120</td>\n",
       "      <td>0</td>\n",
       "      <td>0</td>\n",
       "      <td>0</td>\n",
       "      <td>83209</td>\n",
       "      <td>187370</td>\n",
       "    </tr>\n",
       "    <tr>\n",
       "      <th>TuristaSólo plaza H</th>\n",
       "      <td>0</td>\n",
       "      <td>0</td>\n",
       "      <td>107</td>\n",
       "      <td>0</td>\n",
       "      <td>53316</td>\n",
       "      <td>0</td>\n",
       "      <td>0</td>\n",
       "      <td>0</td>\n",
       "      <td>537</td>\n",
       "      <td>0</td>\n",
       "    </tr>\n",
       "  </tbody>\n",
       "</table>\n",
       "</div>"
      ],
      "text/plain": [
       "fare                      4x100  Adulto ida  COD.PROMOCIONAL  \\\n",
       "train_class                                                    \n",
       "Cama G. Clase                 0           0                0   \n",
       "Cama Turista                  0           0                0   \n",
       "Preferente                    0           0               44   \n",
       "PreferenteSólo plaza H        0           0                0   \n",
       "Turista                       1      479771             3216   \n",
       "Turista Plus                  0           0               29   \n",
       "Turista PlusSólo plaza H      0           0                0   \n",
       "Turista con enlace            0           0                0   \n",
       "TuristaSólo plaza H           0           0              107   \n",
       "\n",
       "fare                      Doble Familiar-Flexible  Flexible  Grupos Ida  \\\n",
       "train_class                                                               \n",
       "Cama G. Clase                                  31         0           0   \n",
       "Cama Turista                                    0      6137           0   \n",
       "Preferente                                      0     86889           1   \n",
       "PreferenteSólo plaza H                          0      5242           0   \n",
       "Turista                                         0   1282739          20   \n",
       "Turista Plus                                    0     13601           0   \n",
       "Turista PlusSólo plaza H                        0        22           0   \n",
       "Turista con enlace                              0    203120           0   \n",
       "TuristaSólo plaza H                             0     53316           0   \n",
       "\n",
       "fare                      Individual-Flexible  Mesa    Promo  Promo +  \n",
       "train_class                                                            \n",
       "Cama G. Clase                             214     0        0        0  \n",
       "Cama Turista                                0     0        0        0  \n",
       "Preferente                                  0    61   658880       15  \n",
       "PreferenteSólo plaza H                      0     0     1497        0  \n",
       "Turista                                     0    33  4052436       55  \n",
       "Turista Plus                                0    66   526004        1  \n",
       "Turista PlusSólo plaza H                    0     0        0        0  \n",
       "Turista con enlace                          0     0    83209   187370  \n",
       "TuristaSólo plaza H                         0     0      537        0  "
      ]
     },
     "execution_count": 19,
     "metadata": {},
     "output_type": "execute_result"
    }
   ],
   "source": [
    "pd.crosstab(renfe['train_class'], renfe['fare'])"
   ]
  },
  {
   "cell_type": "code",
   "execution_count": 43,
   "metadata": {},
   "outputs": [],
   "source": [
    "chi2, p, dof, ex = chi2_contingency(np.array([[4, 61],[108, 627]]), correction=False)"
   ]
  },
  {
   "cell_type": "code",
   "execution_count": 46,
   "metadata": {},
   "outputs": [
    {
     "data": {
      "text/plain": [
       "1"
      ]
     },
     "execution_count": 46,
     "metadata": {},
     "output_type": "execute_result"
    }
   ],
   "source": [
    "dof"
   ]
  },
  {
   "cell_type": "code",
   "execution_count": null,
   "metadata": {},
   "outputs": [],
   "source": [
    "ex"
   ]
  },
  {
   "cell_type": "code",
   "execution_count": 20,
   "metadata": {},
   "outputs": [],
   "source": [
    "def x():\n",
    "    return 1, 2, 3"
   ]
  },
  {
   "cell_type": "code",
   "execution_count": 21,
   "metadata": {},
   "outputs": [],
   "source": [
    "a, b, c = x()"
   ]
  },
  {
   "cell_type": "code",
   "execution_count": 22,
   "metadata": {},
   "outputs": [
    {
     "data": {
      "text/plain": [
       "1"
      ]
     },
     "execution_count": 22,
     "metadata": {},
     "output_type": "execute_result"
    }
   ],
   "source": [
    "a"
   ]
  },
  {
   "cell_type": "code",
   "execution_count": 23,
   "metadata": {},
   "outputs": [
    {
     "data": {
      "text/plain": [
       "2"
      ]
     },
     "execution_count": 23,
     "metadata": {},
     "output_type": "execute_result"
    }
   ],
   "source": [
    "b"
   ]
  },
  {
   "cell_type": "code",
   "execution_count": 24,
   "metadata": {},
   "outputs": [
    {
     "data": {
      "text/plain": [
       "3"
      ]
     },
     "execution_count": 24,
     "metadata": {},
     "output_type": "execute_result"
    }
   ],
   "source": [
    "c"
   ]
  }
 ],
 "metadata": {
  "kernelspec": {
   "display_name": "Python [conda env:ironhack_env]",
   "language": "python",
   "name": "conda-env-ironhack_env-py"
  },
  "language_info": {
   "codemirror_mode": {
    "name": "ipython",
    "version": 3
   },
   "file_extension": ".py",
   "mimetype": "text/x-python",
   "name": "python",
   "nbconvert_exporter": "python",
   "pygments_lexer": "ipython3",
   "version": "3.7.4"
  }
 },
 "nbformat": 4,
 "nbformat_minor": 4
}
