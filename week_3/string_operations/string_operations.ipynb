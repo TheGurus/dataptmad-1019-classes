{
 "cells": [
  {
   "cell_type": "markdown",
   "metadata": {},
   "source": [
    "# String Operations"
   ]
  },
  {
   "cell_type": "markdown",
   "metadata": {},
   "source": [
    "## Common operations"
   ]
  },
  {
   "cell_type": "code",
   "execution_count": 29,
   "metadata": {},
   "outputs": [
    {
     "name": "stdout",
     "output_type": "stream",
     "text": [
      "HelloWorld\n"
     ]
    }
   ],
   "source": [
    "print('Hello' + 'World')"
   ]
  },
  {
   "cell_type": "code",
   "execution_count": 30,
   "metadata": {},
   "outputs": [
    {
     "name": "stdout",
     "output_type": "stream",
     "text": [
      "HelloHelloHelloHelloHelloHelloHelloHello\n"
     ]
    }
   ],
   "source": [
    "print('Hello' * 8)"
   ]
  },
  {
   "cell_type": "code",
   "execution_count": 41,
   "metadata": {},
   "outputs": [
    {
     "name": "stdout",
     "output_type": "stream",
     "text": [
      "Hello a beautiful dog\n",
      "Hello beautiful dog why Hello\n",
      "Hello beautiful dog\n"
     ]
    }
   ],
   "source": [
    "a = 'Hello'\n",
    "b = 'dog'\n",
    "\n",
    "# forget about this\n",
    "print(a + ' a ' + 'beautiful' + ' ' + b)\n",
    "print('{0} beautiful {1} why {0}'.format(a, b))\n",
    "\n",
    "# this is cream\n",
    "print(f'{a} beautiful {b}')"
   ]
  },
  {
   "cell_type": "code",
   "execution_count": 46,
   "metadata": {},
   "outputs": [
    {
     "name": "stdout",
     "output_type": "stream",
     "text": [
      "['Happy', 'Puppies', 'Happy']\n",
      "HappyhelloPuppieshelloHappy\n",
      "Happy Puppies Happy\n"
     ]
    }
   ],
   "source": [
    "x = 'Happy'\n",
    "y = 'Puppies'\n",
    "z = [x,y,x]\n",
    "\n",
    "print(z)\n",
    "print('hello'.join(z))\n",
    "print(' '.join(z))"
   ]
  },
  {
   "cell_type": "code",
   "execution_count": 48,
   "metadata": {},
   "outputs": [
    {
     "name": "stdout",
     "output_type": "stream",
     "text": [
      "1\n",
      "10\n"
     ]
    }
   ],
   "source": [
    "print(len(['automobile']))\n",
    "print(len('automobile'))"
   ]
  },
  {
   "cell_type": "markdown",
   "metadata": {},
   "source": [
    "### Slicing"
   ]
  },
  {
   "cell_type": "code",
   "execution_count": 49,
   "metadata": {},
   "outputs": [
    {
     "name": "stdout",
     "output_type": "stream",
     "text": [
      "a\n",
      "o\n",
      "e\n",
      "auto\n",
      "auto\n",
      "at\n",
      "ile\n"
     ]
    }
   ],
   "source": [
    "word = 'automobile'\n",
    "\n",
    "print(word[0])\n",
    "print(word[5])\n",
    "print(word[-1])\n",
    "print(word[0:4])\n",
    "print(word[:4])\n",
    "\n",
    "# f:l:s -> i first index, f last index, s step\n",
    "print(word[0:4:2])\n",
    "print(word[-3:])\n",
    "\n",
    "## TODO\n",
    "# turn the string word using slicing\n",
    "# expected result: elibomotua"
   ]
  },
  {
   "cell_type": "code",
   "execution_count": 51,
   "metadata": {},
   "outputs": [
    {
     "name": "stdout",
     "output_type": "stream",
     "text": [
      "['They', 'ate', 'the', 'mystery', 'meat.', 'It', 'tasted', 'like', 'chicken.']\n",
      "['They ate the mystery meat', ' It tasted like chicken', '']\n",
      "['They ate the ', 'ystery ', 'eat. It tasted like chicken.']\n",
      "['They ate the mystery ', '. It tasted like chicken.']\n"
     ]
    }
   ],
   "source": [
    "a = 'They ate the mystery meat. It tasted like chicken.'\n",
    "\n",
    "# check the splitter is not included\n",
    "print(a.split())\n",
    "print(a.split('.'))\n",
    "print(a.split('m'))\n",
    "print(a.split('meat'))"
   ]
  },
  {
   "cell_type": "code",
   "execution_count": 52,
   "metadata": {},
   "outputs": [
    {
     "name": "stdout",
     "output_type": "stream",
     "text": [
      "True\n",
      "True\n",
      "False\n",
      "True\n",
      "True\n",
      "False\n"
     ]
    }
   ],
   "source": [
    "b = 'There is no business like show business.'\n",
    "\n",
    "print(b.startswith('T'))\n",
    "print(b.startswith('There'))\n",
    "print(b.startswith('there'))\n",
    "\n",
    "print(b.endswith('.'))\n",
    "print(b.endswith('business.'))\n",
    "print(b.endswith('Business.'))"
   ]
  },
  {
   "cell_type": "code",
   "execution_count": 53,
   "metadata": {},
   "outputs": [
    {
     "name": "stdout",
     "output_type": "stream",
     "text": [
      "True\n",
      "True\n",
      "False\n"
     ]
    }
   ],
   "source": [
    "print('like' in b)\n",
    "print('business' in b)\n",
    "print('Business' in b)"
   ]
  },
  {
   "cell_type": "code",
   "execution_count": 54,
   "metadata": {},
   "outputs": [
    {
     "name": "stdout",
     "output_type": "stream",
     "text": [
      "she had a marvelous assortment of puppets.\n",
      "SHE HAD A MARVELOUS ASSORTMENT OF PUPPETS.\n",
      "She had a marvelous assortment of puppets.\n",
      "She Had A Marvelous Assortment Of Puppets.\n"
     ]
    }
   ],
   "source": [
    "c = 'shE HaD a maRveLoUs aSsoRtmeNt of PUPPETS.'\n",
    "\n",
    "print(c.lower())\n",
    "print(c.upper())\n",
    "print(c.capitalize())\n",
    "print(c.title())"
   ]
  },
  {
   "cell_type": "code",
   "execution_count": 56,
   "metadata": {},
   "outputs": [
    {
     "name": "stdout",
     "output_type": "stream",
     "text": [
      "I have a tendency to leave       trailing spaces.\n",
      "I have a tendency to leave       trailing spaces.   \n",
      "   I have a tendency to leave       trailing spaces.\n"
     ]
    }
   ],
   "source": [
    "d = '   I have a tendency to leave       trailing spaces.   '\n",
    "\n",
    "print(d.strip())\n",
    "print(d.lstrip())\n",
    "print(d.rstrip())"
   ]
  },
  {
   "cell_type": "code",
   "execution_count": 59,
   "metadata": {},
   "outputs": [
    {
     "name": "stdout",
     "output_type": "stream",
     "text": [
      "I thought the movie was horrible!\n",
      "I thought the movie was just OK!\n",
      "I thlaksjdflñkjasñdlught the mlaksjdflñkjasñdlvie was wlaksjdflñkjasñdlnderful!\n",
      "Ithoughtthemoviewaswonderful!\n"
     ]
    }
   ],
   "source": [
    "e = 'I thought       the movie    was wonderful!   '\n",
    "\n",
    "print(e.replace('wonderful', 'horrible'))\n",
    "print(e.replace('wonderful', 'just OK'))\n",
    "print(e.replace('o', 'laksjdflñkjasñdl'))\n",
    "print(e.replace(' ', ''))"
   ]
  },
  {
   "cell_type": "code",
   "execution_count": 61,
   "metadata": {},
   "outputs": [
    {
     "data": {
      "text/plain": [
       "'I thought the movie was wonderful!'"
      ]
     },
     "execution_count": 61,
     "metadata": {},
     "output_type": "execute_result"
    }
   ],
   "source": [
    "' '.join(e.split(' '))"
   ]
  },
  {
   "cell_type": "markdown",
   "metadata": {},
   "source": [
    "## Regex Introduction"
   ]
  },
  {
   "cell_type": "markdown",
   "metadata": {},
   "source": [
    "Regular expressions allow us to perform different types of pattern matching on text in order to arrive at the result we want"
   ]
  },
  {
   "cell_type": "code",
   "execution_count": 62,
   "metadata": {},
   "outputs": [],
   "source": [
    "import re"
   ]
  },
  {
   "cell_type": "markdown",
   "metadata": {},
   "source": [
    "- search: Returns the first instance of an expression in a string\n",
    "- findall: Finds all instances of an expression in a string and returns them as a list\n",
    "- split: Splits a string based on a specified delimiter\n",
    "- sub: Substitutes a string/substring with another"
   ]
  },
  {
   "cell_type": "code",
   "execution_count": 89,
   "metadata": {},
   "outputs": [
    {
     "name": "stdout",
     "output_type": "stream",
     "text": [
      "['neigh']\n"
     ]
    }
   ],
   "source": [
    "text = 'My neighbor, Mr Rogers, Has 35 dogs.'\n",
    "print(re.findall('neigh', text))"
   ]
  },
  {
   "cell_type": "code",
   "execution_count": 72,
   "metadata": {},
   "outputs": [
    {
     "name": "stdout",
     "output_type": "stream",
     "text": [
      "<re.Match object; span=(34, 35), match='.'>\n",
      "['n', 'e', 'i', 'g', 'h', 'g', 'e', 'g']\n"
     ]
    }
   ],
   "source": [
    "print(re.search('[.]', text))\n",
    "print(re.findall('[neigh]', text))"
   ]
  },
  {
   "cell_type": "code",
   "execution_count": 73,
   "metadata": {},
   "outputs": [
    {
     "data": {
      "text/plain": [
       "35"
      ]
     },
     "execution_count": 73,
     "metadata": {},
     "output_type": "execute_result"
    }
   ],
   "source": [
    "len(text)"
   ]
  },
  {
   "cell_type": "code",
   "execution_count": 75,
   "metadata": {},
   "outputs": [
    {
     "data": {
      "text/plain": [
       "'.'"
      ]
     },
     "execution_count": 75,
     "metadata": {},
     "output_type": "execute_result"
    }
   ],
   "source": [
    "text[34:35]"
   ]
  },
  {
   "cell_type": "code",
   "execution_count": 70,
   "metadata": {},
   "outputs": [
    {
     "name": "stdout",
     "output_type": "stream",
     "text": [
      "['__class__', '__copy__', '__deepcopy__', '__delattr__', '__dir__', '__doc__', '__eq__', '__format__', '__ge__', '__getattribute__', '__getitem__', '__gt__', '__hash__', '__init__', '__init_subclass__', '__le__', '__lt__', '__ne__', '__new__', '__reduce__', '__reduce_ex__', '__repr__', '__setattr__', '__sizeof__', '__str__', '__subclasshook__', 'end', 'endpos', 'expand', 'group', 'groupdict', 'groups', 'lastgroup', 'lastindex', 'pos', 're', 'regs', 'span', 'start', 'string']\n"
     ]
    }
   ],
   "source": [
    "# use dir to search for methods or attributes\n",
    "print(dir(re.search('[mngbors]', text)))"
   ]
  },
  {
   "cell_type": "code",
   "execution_count": 81,
   "metadata": {},
   "outputs": [
    {
     "name": "stdout",
     "output_type": "stream",
     "text": [
      "(3, 4)\n",
      "n\n",
      "3\n"
     ]
    }
   ],
   "source": [
    "print(re.search('[mngbors]', text).span())\n",
    "print(re.search('[mngbors]', text).group())\n",
    "print(re.search('[mngbors]', text).start())"
   ]
  },
  {
   "cell_type": "code",
   "execution_count": 82,
   "metadata": {},
   "outputs": [
    {
     "name": "stdout",
     "output_type": "stream",
     "text": [
      "['n', 'g', 'b', 'o', 'r', 'r', 'o', 'g', 'r', 's', 's', 'o', 'g', 's']\n"
     ]
    }
   ],
   "source": [
    "print(re.findall('[mngbors]', text))"
   ]
  },
  {
   "cell_type": "markdown",
   "metadata": {},
   "source": [
    "Patterns:\n",
    "\n",
    "- [a-z]: Any lowercase letter between a and z.\n",
    "- [A-Z]: Any uppercase letter between A and Z.\n",
    "- [0-9]: Any numeric character between 0 and 9."
   ]
  },
  {
   "cell_type": "code",
   "execution_count": 83,
   "metadata": {},
   "outputs": [
    {
     "name": "stdout",
     "output_type": "stream",
     "text": [
      "['y', 'n', 'e', 'i', 'g', 'h', 'b', 'o', 'r', 'r', 'o', 'g', 'e', 'r', 's', 'a', 's', 'd', 'o', 'g', 's']\n"
     ]
    }
   ],
   "source": [
    "print(re.findall('[a-z]', text))"
   ]
  },
  {
   "cell_type": "code",
   "execution_count": 84,
   "metadata": {},
   "outputs": [
    {
     "name": "stdout",
     "output_type": "stream",
     "text": [
      "['M', ' ', ',', ' ', 'M', ' ', 'R', ',', ' ', 'H', ' ', '5', ' ', '.']\n"
     ]
    }
   ],
   "source": [
    "print(re.findall('[^a-z]', text))"
   ]
  },
  {
   "cell_type": "code",
   "execution_count": 85,
   "metadata": {},
   "outputs": [
    {
     "name": "stdout",
     "output_type": "stream",
     "text": [
      "['M', 'y', 'n', 'e', 'i', 'g', 'h', 'b', 'o', 'r', 'M', 'r', 'R', 'o', 'g', 'e', 'r', 's', 'H', 'a', 's', 'd', 'o', 'g', 's']\n"
     ]
    }
   ],
   "source": [
    "print(re.findall('[a-zA-Z]', text))"
   ]
  },
  {
   "cell_type": "code",
   "execution_count": 86,
   "metadata": {},
   "outputs": [
    {
     "name": "stdout",
     "output_type": "stream",
     "text": [
      "['M', 'y', ' ', 'n', 'e', 'i', 'g', 'h', 'b', 'o', 'r', ' ', 'M', 'r', ' ', 'R', 'o', 'g', 'e', 'r', 's', ' ', 'H', 'a', 's', ' ', ' ', 'd', 'o', 'g', 's']\n"
     ]
    }
   ],
   "source": [
    "print(re.findall('[a-zA-Z ]', text))"
   ]
  },
  {
   "cell_type": "markdown",
   "metadata": {},
   "source": [
    "Pattern shortcuts:\n",
    "\n",
    "- \\w: Any alphanumeric character.\n",
    "- \\W: Any non-alphanumeric character.\n",
    "- \\d: Any numeric character.\n",
    "- \\D: Any non-numeric character.\n",
    "- \\s: Any whitespace characters.\n",
    "- \\S: Any non-whitespace characters.\n",
    "- .: Any character except newline (\\n)."
   ]
  },
  {
   "cell_type": "code",
   "execution_count": 94,
   "metadata": {},
   "outputs": [
    {
     "name": "stdout",
     "output_type": "stream",
     "text": [
      "['35']\n"
     ]
    }
   ],
   "source": [
    "print(re.findall('[\\d]+', text))"
   ]
  },
  {
   "cell_type": "code",
   "execution_count": 88,
   "metadata": {},
   "outputs": [
    {
     "name": "stdout",
     "output_type": "stream",
     "text": [
      "['M', 'y', 'n', 'e', 'i', 'g', 'h', 'b', 'o', 'r', 'M', 'r', 'R', 'o', 'g', 'e', 'r', 's', 'H', 'a', 's', '5', 'd', 'o', 'g', 's']\n"
     ]
    }
   ],
   "source": [
    "print(re.findall('[\\w]', text))"
   ]
  },
  {
   "cell_type": "code",
   "execution_count": 95,
   "metadata": {},
   "outputs": [
    {
     "name": "stdout",
     "output_type": "stream",
     "text": [
      "['M', 'y', 'n', 'e', 'i', 'g', 'h', 'b', 'o', 'r', ',', 'M', 'r', 'R', 'o', 'g', 'e', 'r', 's', ',', 'H', 'a', 's', '3', '5', 'd', 'o', 'g', 's', '.']\n"
     ]
    }
   ],
   "source": [
    "print(re.findall('[\\S]', text))"
   ]
  },
  {
   "cell_type": "code",
   "execution_count": 96,
   "metadata": {},
   "outputs": [
    {
     "name": "stdout",
     "output_type": "stream",
     "text": [
      "['M', 'y', ' ', 'n', 'e', 'i', 'g', 'h', 'b', 'o', 'r', ',', ' ', 'M', 'r', ' ', 'R', 'o', 'g', 'e', 'r', 's', ',', ' ', 'H', 'a', 's', ' ', '3', '5', ' ', 'd', 'o', 'g', 's', '.']\n"
     ]
    }
   ],
   "source": [
    "print(re.findall('.', text))"
   ]
  },
  {
   "cell_type": "code",
   "execution_count": null,
   "metadata": {},
   "outputs": [],
   "source": [
    "print(re.split(', ', text))"
   ]
  },
  {
   "cell_type": "code",
   "execution_count": 98,
   "metadata": {},
   "outputs": [
    {
     "name": "stdout",
     "output_type": "stream",
     "text": [
      "['My neighbor, Mr Rogers, Has 35 dogs.']\n",
      "['My neighbor, Mr Rogers, Has ', '', ' dogs.']\n",
      "['My neighbor, Mr Rogers, Has ', ' dogs.']\n"
     ]
    }
   ],
   "source": [
    "print(text.split('[0-9]'))\n",
    "print(re.split('[0-9]', text))\n",
    "print(re.split('[0-9]+', text))"
   ]
  },
  {
   "cell_type": "code",
   "execution_count": 101,
   "metadata": {},
   "outputs": [
    {
     "name": "stdout",
     "output_type": "stream",
     "text": [
      "My neighbor, Mr Rogers, Has 35 dogs.\n",
      "My neighbor, Mr Rogers, Has 100100 dogs.\n",
      "My neighbor, Mr Rogers, Has 100 dogs.\n",
      "My neighbor, Mr Rogers, Has 35 dogs.\n",
      "My neighbor, Mr Rogers, Has 100 dogs.\n"
     ]
    }
   ],
   "source": [
    "print(text.replace('[0-9]', text))\n",
    "print(re.sub('[0-9]', '100', text))\n",
    "print(re.sub('[0-9]{2}', '100', text))\n",
    "print(re.sub('[0-9]{3}', '100', text))\n",
    "print(re.sub('[0-9]+', '100', text))"
   ]
  },
  {
   "cell_type": "code",
   "execution_count": null,
   "metadata": {},
   "outputs": [],
   "source": []
  }
 ],
 "metadata": {
  "kernelspec": {
   "display_name": "ironhack_env",
   "language": "python",
   "name": "ironhack_env"
  },
  "language_info": {
   "codemirror_mode": {
    "name": "ipython",
    "version": 3
   },
   "file_extension": ".py",
   "mimetype": "text/x-python",
   "name": "python",
   "nbconvert_exporter": "python",
   "pygments_lexer": "ipython3",
   "version": "3.7.4"
  }
 },
 "nbformat": 4,
 "nbformat_minor": 4
}
