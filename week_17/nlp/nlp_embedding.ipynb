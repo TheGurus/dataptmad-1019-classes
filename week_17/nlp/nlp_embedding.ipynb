{
 "cells": [
  {
   "cell_type": "markdown",
   "metadata": {},
   "source": [
    "# Embedding - Spacy"
   ]
  },
  {
   "cell_type": "code",
   "execution_count": 1,
   "metadata": {},
   "outputs": [
    {
     "name": "stdout",
     "output_type": "stream",
     "text": [
      "Requirement already satisfied: spacy in /home/ubuntu/miniconda3/envs/ironhack_env/lib/python3.7/site-packages (2.2.4)\n",
      "Requirement already satisfied: cymem<2.1.0,>=2.0.2 in /home/ubuntu/miniconda3/envs/ironhack_env/lib/python3.7/site-packages (from spacy) (2.0.3)\n",
      "Requirement already satisfied: numpy>=1.15.0 in /home/ubuntu/miniconda3/envs/ironhack_env/lib/python3.7/site-packages (from spacy) (1.17.3)\n",
      "Requirement already satisfied: thinc==7.4.0 in /home/ubuntu/miniconda3/envs/ironhack_env/lib/python3.7/site-packages (from spacy) (7.4.0)\n",
      "Requirement already satisfied: tqdm<5.0.0,>=4.38.0 in /home/ubuntu/miniconda3/envs/ironhack_env/lib/python3.7/site-packages (from spacy) (4.43.0)\n",
      "Requirement already satisfied: catalogue<1.1.0,>=0.0.7 in /home/ubuntu/miniconda3/envs/ironhack_env/lib/python3.7/site-packages (from spacy) (1.0.0)\n",
      "Requirement already satisfied: preshed<3.1.0,>=3.0.2 in /home/ubuntu/miniconda3/envs/ironhack_env/lib/python3.7/site-packages (from spacy) (3.0.2)\n",
      "Requirement already satisfied: requests<3.0.0,>=2.13.0 in /home/ubuntu/miniconda3/envs/ironhack_env/lib/python3.7/site-packages (from spacy) (2.22.0)\n",
      "Requirement already satisfied: setuptools in /home/ubuntu/miniconda3/envs/ironhack_env/lib/python3.7/site-packages (from spacy) (41.4.0)\n",
      "Requirement already satisfied: srsly<1.1.0,>=1.0.2 in /home/ubuntu/miniconda3/envs/ironhack_env/lib/python3.7/site-packages (from spacy) (1.0.2)\n",
      "Requirement already satisfied: blis<0.5.0,>=0.4.0 in /home/ubuntu/miniconda3/envs/ironhack_env/lib/python3.7/site-packages (from spacy) (0.4.1)\n",
      "Requirement already satisfied: plac<1.2.0,>=0.9.6 in /home/ubuntu/miniconda3/envs/ironhack_env/lib/python3.7/site-packages (from spacy) (1.1.3)\n",
      "Requirement already satisfied: wasabi<1.1.0,>=0.4.0 in /home/ubuntu/miniconda3/envs/ironhack_env/lib/python3.7/site-packages (from spacy) (0.6.0)\n",
      "Requirement already satisfied: murmurhash<1.1.0,>=0.28.0 in /home/ubuntu/miniconda3/envs/ironhack_env/lib/python3.7/site-packages (from spacy) (1.0.2)\n",
      "Requirement already satisfied: importlib-metadata>=0.20; python_version < \"3.8\" in /home/ubuntu/miniconda3/envs/ironhack_env/lib/python3.7/site-packages (from catalogue<1.1.0,>=0.0.7->spacy) (0.23)\n",
      "Requirement already satisfied: certifi>=2017.4.17 in /home/ubuntu/miniconda3/envs/ironhack_env/lib/python3.7/site-packages (from requests<3.0.0,>=2.13.0->spacy) (2019.9.11)\n",
      "Requirement already satisfied: urllib3!=1.25.0,!=1.25.1,<1.26,>=1.21.1 in /home/ubuntu/miniconda3/envs/ironhack_env/lib/python3.7/site-packages (from requests<3.0.0,>=2.13.0->spacy) (1.25.7)\n",
      "Requirement already satisfied: idna<2.9,>=2.5 in /home/ubuntu/miniconda3/envs/ironhack_env/lib/python3.7/site-packages (from requests<3.0.0,>=2.13.0->spacy) (2.8)\n",
      "Requirement already satisfied: chardet<3.1.0,>=3.0.2 in /home/ubuntu/miniconda3/envs/ironhack_env/lib/python3.7/site-packages (from requests<3.0.0,>=2.13.0->spacy) (3.0.4)\n",
      "Requirement already satisfied: zipp>=0.5 in /home/ubuntu/miniconda3/envs/ironhack_env/lib/python3.7/site-packages (from importlib-metadata>=0.20; python_version < \"3.8\"->catalogue<1.1.0,>=0.0.7->spacy) (0.6.0)\n",
      "Requirement already satisfied: more-itertools in /home/ubuntu/miniconda3/envs/ironhack_env/lib/python3.7/site-packages (from zipp>=0.5->importlib-metadata>=0.20; python_version < \"3.8\"->catalogue<1.1.0,>=0.0.7->spacy) (7.2.0)\n"
     ]
    }
   ],
   "source": [
    "!pip install spacy"
   ]
  },
  {
   "cell_type": "code",
   "execution_count": 2,
   "metadata": {},
   "outputs": [
    {
     "name": "stdout",
     "output_type": "stream",
     "text": [
      "Requirement already satisfied: es_core_news_md==2.2.5 from https://github.com/explosion/spacy-models/releases/download/es_core_news_md-2.2.5/es_core_news_md-2.2.5.tar.gz#egg=es_core_news_md==2.2.5 in /home/ubuntu/miniconda3/envs/ironhack_env/lib/python3.7/site-packages (2.2.5)\n",
      "Requirement already satisfied: spacy>=2.2.2 in /home/ubuntu/miniconda3/envs/ironhack_env/lib/python3.7/site-packages (from es_core_news_md==2.2.5) (2.2.4)\n",
      "Requirement already satisfied: murmurhash<1.1.0,>=0.28.0 in /home/ubuntu/miniconda3/envs/ironhack_env/lib/python3.7/site-packages (from spacy>=2.2.2->es_core_news_md==2.2.5) (1.0.2)\n",
      "Requirement already satisfied: tqdm<5.0.0,>=4.38.0 in /home/ubuntu/miniconda3/envs/ironhack_env/lib/python3.7/site-packages (from spacy>=2.2.2->es_core_news_md==2.2.5) (4.43.0)\n",
      "Requirement already satisfied: thinc==7.4.0 in /home/ubuntu/miniconda3/envs/ironhack_env/lib/python3.7/site-packages (from spacy>=2.2.2->es_core_news_md==2.2.5) (7.4.0)\n",
      "Requirement already satisfied: numpy>=1.15.0 in /home/ubuntu/miniconda3/envs/ironhack_env/lib/python3.7/site-packages (from spacy>=2.2.2->es_core_news_md==2.2.5) (1.17.3)\n",
      "Requirement already satisfied: setuptools in /home/ubuntu/miniconda3/envs/ironhack_env/lib/python3.7/site-packages (from spacy>=2.2.2->es_core_news_md==2.2.5) (41.4.0)\n",
      "Requirement already satisfied: srsly<1.1.0,>=1.0.2 in /home/ubuntu/miniconda3/envs/ironhack_env/lib/python3.7/site-packages (from spacy>=2.2.2->es_core_news_md==2.2.5) (1.0.2)\n",
      "Requirement already satisfied: catalogue<1.1.0,>=0.0.7 in /home/ubuntu/miniconda3/envs/ironhack_env/lib/python3.7/site-packages (from spacy>=2.2.2->es_core_news_md==2.2.5) (1.0.0)\n",
      "Requirement already satisfied: cymem<2.1.0,>=2.0.2 in /home/ubuntu/miniconda3/envs/ironhack_env/lib/python3.7/site-packages (from spacy>=2.2.2->es_core_news_md==2.2.5) (2.0.3)\n",
      "Requirement already satisfied: wasabi<1.1.0,>=0.4.0 in /home/ubuntu/miniconda3/envs/ironhack_env/lib/python3.7/site-packages (from spacy>=2.2.2->es_core_news_md==2.2.5) (0.6.0)\n",
      "Requirement already satisfied: requests<3.0.0,>=2.13.0 in /home/ubuntu/miniconda3/envs/ironhack_env/lib/python3.7/site-packages (from spacy>=2.2.2->es_core_news_md==2.2.5) (2.22.0)\n",
      "Requirement already satisfied: blis<0.5.0,>=0.4.0 in /home/ubuntu/miniconda3/envs/ironhack_env/lib/python3.7/site-packages (from spacy>=2.2.2->es_core_news_md==2.2.5) (0.4.1)\n",
      "Requirement already satisfied: preshed<3.1.0,>=3.0.2 in /home/ubuntu/miniconda3/envs/ironhack_env/lib/python3.7/site-packages (from spacy>=2.2.2->es_core_news_md==2.2.5) (3.0.2)\n",
      "Requirement already satisfied: plac<1.2.0,>=0.9.6 in /home/ubuntu/miniconda3/envs/ironhack_env/lib/python3.7/site-packages (from spacy>=2.2.2->es_core_news_md==2.2.5) (1.1.3)\n",
      "Requirement already satisfied: importlib-metadata>=0.20; python_version < \"3.8\" in /home/ubuntu/miniconda3/envs/ironhack_env/lib/python3.7/site-packages (from catalogue<1.1.0,>=0.0.7->spacy>=2.2.2->es_core_news_md==2.2.5) (0.23)\n",
      "Requirement already satisfied: urllib3!=1.25.0,!=1.25.1,<1.26,>=1.21.1 in /home/ubuntu/miniconda3/envs/ironhack_env/lib/python3.7/site-packages (from requests<3.0.0,>=2.13.0->spacy>=2.2.2->es_core_news_md==2.2.5) (1.25.7)\n",
      "Requirement already satisfied: chardet<3.1.0,>=3.0.2 in /home/ubuntu/miniconda3/envs/ironhack_env/lib/python3.7/site-packages (from requests<3.0.0,>=2.13.0->spacy>=2.2.2->es_core_news_md==2.2.5) (3.0.4)\n",
      "Requirement already satisfied: certifi>=2017.4.17 in /home/ubuntu/miniconda3/envs/ironhack_env/lib/python3.7/site-packages (from requests<3.0.0,>=2.13.0->spacy>=2.2.2->es_core_news_md==2.2.5) (2019.9.11)\n",
      "Requirement already satisfied: idna<2.9,>=2.5 in /home/ubuntu/miniconda3/envs/ironhack_env/lib/python3.7/site-packages (from requests<3.0.0,>=2.13.0->spacy>=2.2.2->es_core_news_md==2.2.5) (2.8)\n",
      "Requirement already satisfied: zipp>=0.5 in /home/ubuntu/miniconda3/envs/ironhack_env/lib/python3.7/site-packages (from importlib-metadata>=0.20; python_version < \"3.8\"->catalogue<1.1.0,>=0.0.7->spacy>=2.2.2->es_core_news_md==2.2.5) (0.6.0)\n",
      "Requirement already satisfied: more-itertools in /home/ubuntu/miniconda3/envs/ironhack_env/lib/python3.7/site-packages (from zipp>=0.5->importlib-metadata>=0.20; python_version < \"3.8\"->catalogue<1.1.0,>=0.0.7->spacy>=2.2.2->es_core_news_md==2.2.5) (7.2.0)\n",
      "\u001b[38;5;2m✔ Download and installation successful\u001b[0m\n",
      "You can now load the model via spacy.load('es_core_news_md')\n"
     ]
    }
   ],
   "source": [
    "import spacy\n",
    "from spacy.lang.es.stop_words import STOP_WORDS\n",
    "\n",
    "! python -m spacy download es_core_news_md\n",
    "\n",
    "nlp = spacy.load('es_core_news_md')"
   ]
  },
  {
   "cell_type": "markdown",
   "metadata": {},
   "source": [
    "## Text Cleaning? No thanks"
   ]
  },
  {
   "cell_type": "code",
   "execution_count": 3,
   "metadata": {},
   "outputs": [
    {
     "name": "stdout",
     "output_type": "stream",
     "text": [
      "3.4278557\n",
      "3.4278557300567627\n"
     ]
    }
   ],
   "source": [
    "# check that the embedding of a document is the mean of the word embeddings that constitute it \n",
    "doc2vec = nlp('hola me llamo Pedro').vector.sum()\n",
    "word2vec = (nlp('hola').vector + nlp('me').vector + nlp('llamo').vector + nlp('Pedro').vector).sum() / 4\n",
    "\n",
    "print(doc2vec)\n",
    "print(word2vec)"
   ]
  },
  {
   "cell_type": "code",
   "execution_count": 4,
   "metadata": {},
   "outputs": [
    {
     "data": {
      "text/plain": [
       "0.7411545992521026"
      ]
     },
     "execution_count": 4,
     "metadata": {},
     "output_type": "execute_result"
    }
   ],
   "source": [
    "nlp('quiero la muerte de todos los humanos').similarity(nlp('quiero matar'))"
   ]
  },
  {
   "cell_type": "markdown",
   "metadata": {},
   "source": [
    "## Text Cleaning? Yes please"
   ]
  },
  {
   "cell_type": "code",
   "execution_count": 5,
   "metadata": {},
   "outputs": [],
   "source": [
    "import re\n",
    "\n",
    "def spacy_tokenizer(sentence):\n",
    "\n",
    "    tokens = nlp(sentence)\n",
    "    \n",
    "    filtered_tokens = []\n",
    "    for word in tokens:\n",
    "        lemma = word.lemma_.lower().strip()\n",
    "        \n",
    "        if lemma not in STOP_WORDS and re.search('^[a-zA-Z]+$', lemma):\n",
    "            filtered_tokens.append(lemma)\n",
    "\n",
    "    return filtered_tokens"
   ]
  },
  {
   "cell_type": "code",
   "execution_count": 6,
   "metadata": {},
   "outputs": [],
   "source": [
    "tokens_1 = spacy_tokenizer('quiero la muerte de todos los humanos')\n",
    "tokens_2 = spacy_tokenizer('quiero matar')"
   ]
  },
  {
   "cell_type": "code",
   "execution_count": 7,
   "metadata": {},
   "outputs": [
    {
     "data": {
      "text/plain": [
       "0.8602272999051866"
      ]
     },
     "execution_count": 7,
     "metadata": {},
     "output_type": "execute_result"
    }
   ],
   "source": [
    "nlp(' '.join(tokens_1)).similarity(nlp(' '.join(tokens_2)))"
   ]
  },
  {
   "cell_type": "code",
   "execution_count": null,
   "metadata": {},
   "outputs": [],
   "source": []
  }
 ],
 "metadata": {
  "kernelspec": {
   "display_name": "Python [conda env:ironhack_env]",
   "language": "python",
   "name": "conda-env-ironhack_env-py"
  },
  "language_info": {
   "codemirror_mode": {
    "name": "ipython",
    "version": 3
   },
   "file_extension": ".py",
   "mimetype": "text/x-python",
   "name": "python",
   "nbconvert_exporter": "python",
   "pygments_lexer": "ipython3",
   "version": "3.7.4"
  }
 },
 "nbformat": 4,
 "nbformat_minor": 4
}
