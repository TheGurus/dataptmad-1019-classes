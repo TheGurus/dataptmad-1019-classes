{
 "cells": [
  {
   "cell_type": "code",
   "execution_count": 1,
   "metadata": {},
   "outputs": [],
   "source": [
    "import spotipy\n",
    "from spotipy.oauth2 import SpotifyClientCredentials\n",
    "\n",
    "CID = '201e56b767154817b46c5cf2fcb26fec'\n",
    "SECRET = 'd7026ef7aa784204a601b9e2e651d292'\n",
    "\n",
    "client_credentials_manager = SpotifyClientCredentials(client_id=CID, client_secret=SECRET)\n",
    "sp = spotipy.Spotify(client_credentials_manager=client_credentials_manager)"
   ]
  },
  {
   "cell_type": "code",
   "execution_count": 2,
   "metadata": {},
   "outputs": [],
   "source": [
    "def get_song(artist, song):\n",
    "    \n",
    "    search = sp.search(q='artist:' + artist + ' track:' + song, type='track')\n",
    "    top = search['tracks']['items'][:10]\n",
    "    \n",
    "    ids = []\n",
    "    if len(top):\n",
    "        for i, song in enumerate(top):\n",
    "            print(f\"{i+1}. {song['name']} - {song['artists'][0]['name']}\")\n",
    "            ids.append([song['name'].replace(' ', ''), song['id']])\n",
    "        return ids\n",
    "    else:\n",
    "        print('song not found')\n",
    "        return None"
   ]
  },
  {
   "cell_type": "code",
   "execution_count": 61,
   "metadata": {},
   "outputs": [
    {
     "name": "stdout",
     "output_type": "stream",
     "text": [
      "1. Whole Lotta Love - 1990 Remaster - Led Zeppelin\n",
      "2. Whole Lotta Love - 2012 Remaster - Led Zeppelin\n",
      "3. Whole Lotta Love - 2007 Remaster - Led Zeppelin\n",
      "4. Whole Lotta Love - 2012 Remaster - Led Zeppelin\n",
      "5. Whole Lotta Love - 29/6/69 Top Gear; 2016 Remaster - Led Zeppelin\n",
      "6. Whole Lotta Love - 2012 Remaster - Led Zeppelin\n",
      "7. Whole Lotta Love - Live at MSG 1973; 2018 Remaster - Led Zeppelin\n",
      "8. Whole Lotta Love - Rough Mix with Vocal - Led Zeppelin\n",
      "9. Whole Lotta Love - Live 1972; 2018 Remaster - Led Zeppelin\n",
      "10. Whole Lotta Love (Medley) - 1/4/71 Paris Theatre; 2016 Remaster - Led Zeppelin\n"
     ]
    }
   ],
   "source": [
    "artist = 'led'\n",
    "song = 'whole'\n",
    "\n",
    "songs = get_song(artist, song)"
   ]
  },
  {
   "cell_type": "code",
   "execution_count": 62,
   "metadata": {},
   "outputs": [],
   "source": [
    "import urllib\n",
    "import os\n",
    "\n",
    "def download_song(song_name, song_id):\n",
    "    url = sp.track(song_id)['preview_url']\n",
    "    print(f'downloading {song_name}...')\n",
    "    try:\n",
    "        urllib.request.urlretrieve(url, f'{song_name}.mp3')\n",
    "        print('file downloaded')\n",
    "        os.system(f'mpg123 {song_name}.mp3')\n",
    "        \n",
    "    except:\n",
    "        print('preview not available')"
   ]
  },
  {
   "cell_type": "code",
   "execution_count": 63,
   "metadata": {},
   "outputs": [
    {
     "name": "stdout",
     "output_type": "stream",
     "text": [
      "downloading WholeLottaLove-1990Remaster...\n",
      "file downloaded\n"
     ]
    }
   ],
   "source": [
    "id = 1\n",
    "download_song(songs[id - 1][0], songs[id - 1][1])"
   ]
  },
  {
   "cell_type": "code",
   "execution_count": 28,
   "metadata": {
    "scrolled": true
   },
   "outputs": [
    {
     "name": "stdout",
     "output_type": "stream",
     "text": [
      "total 1272\n",
      "drwxrwxr-x 4 ubuntu ubuntu   4096 abr 24 11:32 .\n",
      "drwxrwxr-x 5 ubuntu ubuntu   4096 ago 12  2019 ..\n",
      "-rw-rw-r-- 1 ubuntu ubuntu   2614 ago 12  2019 face.py\n",
      "drwxr-xr-x 2 ubuntu ubuntu   4096 abr 24 11:18 .ipynb_checkpoints\n",
      "-rw-rw-r-- 1 ubuntu ubuntu 341406 ago 12  2019 model_eyes.xml\n",
      "-rw-rw-r-- 1 ubuntu ubuntu 930127 ago 12  2019 model_faces.xml\n",
      "drwxr-xr-x 2 ubuntu ubuntu   4096 abr 24 11:32 songs\n",
      "-rw-rw-r-- 1 ubuntu ubuntu   3398 abr 24 11:32 spotipy.ipynb\n"
     ]
    }
   ],
   "source": [
    "! ls -al"
   ]
  },
  {
   "cell_type": "code",
   "execution_count": null,
   "metadata": {},
   "outputs": [],
   "source": []
  }
 ],
 "metadata": {
  "kernelspec": {
   "display_name": "Python [conda env:test_env]",
   "language": "python",
   "name": "conda-env-test_env-py"
  },
  "language_info": {
   "codemirror_mode": {
    "name": "ipython",
    "version": 3
   },
   "file_extension": ".py",
   "mimetype": "text/x-python",
   "name": "python",
   "nbconvert_exporter": "python",
   "pygments_lexer": "ipython3",
   "version": "3.7.4"
  }
 },
 "nbformat": 4,
 "nbformat_minor": 4
}
