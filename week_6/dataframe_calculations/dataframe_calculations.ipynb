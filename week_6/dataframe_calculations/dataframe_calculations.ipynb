{
 "cells": [
  {
   "cell_type": "markdown",
   "metadata": {},
   "source": [
    "# dataframe calculations"
   ]
  },
  {
   "cell_type": "markdown",
   "metadata": {},
   "source": [
    "## 1. introduction"
   ]
  },
  {
   "cell_type": "markdown",
   "metadata": {},
   "source": [
    "* calculations with pandas are 'easy'\n",
    "* calculations are usually fast depending on your machine and size of dataset"
   ]
  },
  {
   "cell_type": "markdown",
   "metadata": {},
   "source": [
    "## 2. data loading"
   ]
  },
  {
   "cell_type": "markdown",
   "metadata": {},
   "source": [
    "As animals dataset link is not provided, let's use a 'huge' dataset from Renfe trips..."
   ]
  },
  {
   "cell_type": "markdown",
   "metadata": {},
   "source": [
    "https://www.kaggle.com/thegurusteam/spanish-high-speed-rail-system-ticket-pricing/data"
   ]
  },
  {
   "cell_type": "code",
   "execution_count": 2,
   "metadata": {},
   "outputs": [],
   "source": [
    "# import pandas as pd\n",
    "import numpy as np\n",
    "import os\n",
    "\n",
    "os.environ['MODIN_OUT_OF_CORE'] = 'true'\n",
    "import modin.pandas as pd"
   ]
  },
  {
   "cell_type": "code",
   "execution_count": 3,
   "metadata": {},
   "outputs": [],
   "source": [
    "renfe = pd.read_csv('./data/spanish-high-speed-rail-system-ticket-pricing.zip')"
   ]
  },
  {
   "cell_type": "code",
   "execution_count": 4,
   "metadata": {},
   "outputs": [
    {
     "name": "stderr",
     "output_type": "stream",
     "text": [
      "UserWarning: `DataFrame.info` defaulting to pandas implementation.\n",
      "To request implementation, send an email to feature_requests@modin.org.\n"
     ]
    },
    {
     "name": "stdout",
     "output_type": "stream",
     "text": [
      "<class 'modin.pandas.dataframe.DataFrame'>\n",
      "RangeIndex: 7671354 entries, 0 to 7671353\n",
      "Data columns (total 9 columns):\n",
      "insert_date    object\n",
      "origin         object\n",
      "destination    object\n",
      "start_date     object\n",
      "end_date       object\n",
      "train_type     object\n",
      "price          float64\n",
      "train_class    object\n",
      "fare           object\n",
      "dtypes: float64(1), object(8)\n",
      "memory usage: 4.0 GB\n"
     ]
    }
   ],
   "source": [
    "renfe.info(memory_usage='deep')"
   ]
  },
  {
   "cell_type": "code",
   "execution_count": 5,
   "metadata": {},
   "outputs": [
    {
     "data": {
      "text/html": [
       "<div>\n",
       "<style scoped>\n",
       "    .dataframe tbody tr th:only-of-type {\n",
       "        vertical-align: middle;\n",
       "    }\n",
       "\n",
       "    .dataframe tbody tr th {\n",
       "        vertical-align: top;\n",
       "    }\n",
       "\n",
       "    .dataframe thead th {\n",
       "        text-align: right;\n",
       "    }\n",
       "</style>\n",
       "<table border=\"1\" class=\"dataframe\">\n",
       "  <thead>\n",
       "    <tr style=\"text-align: right;\">\n",
       "      <th></th>\n",
       "      <th>insert_date</th>\n",
       "      <th>origin</th>\n",
       "      <th>destination</th>\n",
       "      <th>start_date</th>\n",
       "      <th>end_date</th>\n",
       "      <th>train_type</th>\n",
       "      <th>price</th>\n",
       "      <th>train_class</th>\n",
       "      <th>fare</th>\n",
       "    </tr>\n",
       "  </thead>\n",
       "  <tbody>\n",
       "    <tr>\n",
       "      <th>0</th>\n",
       "      <td>2019-04-11 21:49:46</td>\n",
       "      <td>MADRID</td>\n",
       "      <td>BARCELONA</td>\n",
       "      <td>2019-04-18 05:50:00</td>\n",
       "      <td>2019-04-18 08:55:00</td>\n",
       "      <td>AVE</td>\n",
       "      <td>68.95</td>\n",
       "      <td>Preferente</td>\n",
       "      <td>Promo</td>\n",
       "    </tr>\n",
       "    <tr>\n",
       "      <th>1</th>\n",
       "      <td>2019-04-11 21:49:46</td>\n",
       "      <td>MADRID</td>\n",
       "      <td>BARCELONA</td>\n",
       "      <td>2019-04-18 06:30:00</td>\n",
       "      <td>2019-04-18 09:20:00</td>\n",
       "      <td>AVE</td>\n",
       "      <td>75.40</td>\n",
       "      <td>Turista</td>\n",
       "      <td>Promo</td>\n",
       "    </tr>\n",
       "    <tr>\n",
       "      <th>2</th>\n",
       "      <td>2019-04-11 21:49:46</td>\n",
       "      <td>MADRID</td>\n",
       "      <td>BARCELONA</td>\n",
       "      <td>2019-04-18 07:00:00</td>\n",
       "      <td>2019-04-18 09:30:00</td>\n",
       "      <td>AVE</td>\n",
       "      <td>106.75</td>\n",
       "      <td>Turista Plus</td>\n",
       "      <td>Promo</td>\n",
       "    </tr>\n",
       "    <tr>\n",
       "      <th>3</th>\n",
       "      <td>2019-04-11 21:49:46</td>\n",
       "      <td>MADRID</td>\n",
       "      <td>BARCELONA</td>\n",
       "      <td>2019-04-18 07:30:00</td>\n",
       "      <td>2019-04-18 10:40:00</td>\n",
       "      <td>AVE</td>\n",
       "      <td>90.50</td>\n",
       "      <td>Turista Plus</td>\n",
       "      <td>Promo</td>\n",
       "    </tr>\n",
       "    <tr>\n",
       "      <th>4</th>\n",
       "      <td>2019-04-11 21:49:46</td>\n",
       "      <td>MADRID</td>\n",
       "      <td>BARCELONA</td>\n",
       "      <td>2019-04-18 08:00:00</td>\n",
       "      <td>2019-04-18 10:30:00</td>\n",
       "      <td>AVE</td>\n",
       "      <td>88.95</td>\n",
       "      <td>Turista</td>\n",
       "      <td>Promo</td>\n",
       "    </tr>\n",
       "    <tr>\n",
       "      <th>...</th>\n",
       "      <td>...</td>\n",
       "      <td>...</td>\n",
       "      <td>...</td>\n",
       "      <td>...</td>\n",
       "      <td>...</td>\n",
       "      <td>...</td>\n",
       "      <td>...</td>\n",
       "      <td>...</td>\n",
       "      <td>...</td>\n",
       "    </tr>\n",
       "    <tr>\n",
       "      <th>7671349</th>\n",
       "      <td>2019-05-25 21:26:25</td>\n",
       "      <td>VALENCIA</td>\n",
       "      <td>MADRID</td>\n",
       "      <td>2019-07-20 14:50:00</td>\n",
       "      <td>2019-07-20 22:17:00</td>\n",
       "      <td>REGIONAL</td>\n",
       "      <td>28.35</td>\n",
       "      <td>Turista</td>\n",
       "      <td>Adulto ida</td>\n",
       "    </tr>\n",
       "    <tr>\n",
       "      <th>7671350</th>\n",
       "      <td>2019-05-25 21:26:25</td>\n",
       "      <td>VALENCIA</td>\n",
       "      <td>MADRID</td>\n",
       "      <td>2019-07-20 14:10:00</td>\n",
       "      <td>2019-07-20 15:48:00</td>\n",
       "      <td>AVE</td>\n",
       "      <td>33.65</td>\n",
       "      <td>Turista</td>\n",
       "      <td>Promo</td>\n",
       "    </tr>\n",
       "    <tr>\n",
       "      <th>7671351</th>\n",
       "      <td>2019-05-25 21:26:25</td>\n",
       "      <td>VALENCIA</td>\n",
       "      <td>MADRID</td>\n",
       "      <td>2019-07-20 12:40:00</td>\n",
       "      <td>2019-07-20 14:20:00</td>\n",
       "      <td>AVE</td>\n",
       "      <td>45.30</td>\n",
       "      <td>Turista</td>\n",
       "      <td>Promo</td>\n",
       "    </tr>\n",
       "    <tr>\n",
       "      <th>7671352</th>\n",
       "      <td>2019-05-25 21:26:25</td>\n",
       "      <td>VALENCIA</td>\n",
       "      <td>MADRID</td>\n",
       "      <td>2019-07-20 10:40:00</td>\n",
       "      <td>2019-07-20 13:05:00</td>\n",
       "      <td>INTERCITY</td>\n",
       "      <td>15.70</td>\n",
       "      <td>Turista</td>\n",
       "      <td>Promo</td>\n",
       "    </tr>\n",
       "    <tr>\n",
       "      <th>7671353</th>\n",
       "      <td>2019-05-25 21:26:25</td>\n",
       "      <td>VALENCIA</td>\n",
       "      <td>MADRID</td>\n",
       "      <td>2019-07-20 09:40:00</td>\n",
       "      <td>2019-07-20 11:20:00</td>\n",
       "      <td>AVE</td>\n",
       "      <td>45.30</td>\n",
       "      <td>Turista</td>\n",
       "      <td>Promo</td>\n",
       "    </tr>\n",
       "  </tbody>\n",
       "</table>\n",
       "<p>7671354 rows x 9 columns</p>\n",
       "</div>"
      ],
      "text/plain": [
       "                 insert_date    origin destination           start_date  \\\n",
       "0        2019-04-11 21:49:46    MADRID   BARCELONA  2019-04-18 05:50:00   \n",
       "1        2019-04-11 21:49:46    MADRID   BARCELONA  2019-04-18 06:30:00   \n",
       "2        2019-04-11 21:49:46    MADRID   BARCELONA  2019-04-18 07:00:00   \n",
       "3        2019-04-11 21:49:46    MADRID   BARCELONA  2019-04-18 07:30:00   \n",
       "4        2019-04-11 21:49:46    MADRID   BARCELONA  2019-04-18 08:00:00   \n",
       "...                      ...       ...         ...                  ...   \n",
       "7671349  2019-05-25 21:26:25  VALENCIA      MADRID  2019-07-20 14:50:00   \n",
       "7671350  2019-05-25 21:26:25  VALENCIA      MADRID  2019-07-20 14:10:00   \n",
       "7671351  2019-05-25 21:26:25  VALENCIA      MADRID  2019-07-20 12:40:00   \n",
       "7671352  2019-05-25 21:26:25  VALENCIA      MADRID  2019-07-20 10:40:00   \n",
       "7671353  2019-05-25 21:26:25  VALENCIA      MADRID  2019-07-20 09:40:00   \n",
       "\n",
       "                    end_date train_type   price   train_class        fare  \n",
       "0        2019-04-18 08:55:00        AVE   68.95    Preferente       Promo  \n",
       "1        2019-04-18 09:20:00        AVE   75.40       Turista       Promo  \n",
       "2        2019-04-18 09:30:00        AVE  106.75  Turista Plus       Promo  \n",
       "3        2019-04-18 10:40:00        AVE   90.50  Turista Plus       Promo  \n",
       "4        2019-04-18 10:30:00        AVE   88.95       Turista       Promo  \n",
       "...                      ...        ...     ...           ...         ...  \n",
       "7671349  2019-07-20 22:17:00   REGIONAL   28.35       Turista  Adulto ida  \n",
       "7671350  2019-07-20 15:48:00        AVE   33.65       Turista       Promo  \n",
       "7671351  2019-07-20 14:20:00        AVE   45.30       Turista       Promo  \n",
       "7671352  2019-07-20 13:05:00  INTERCITY   15.70       Turista       Promo  \n",
       "7671353  2019-07-20 11:20:00        AVE   45.30       Turista       Promo  \n",
       "\n",
       "[7671354 rows x 9 columns]"
      ]
     },
     "execution_count": 5,
     "metadata": {},
     "output_type": "execute_result"
    }
   ],
   "source": [
    "renfe"
   ]
  },
  {
   "cell_type": "markdown",
   "metadata": {},
   "source": [
    "## 3. calculations"
   ]
  },
  {
   "cell_type": "markdown",
   "metadata": {},
   "source": [
    "### combining columns"
   ]
  },
  {
   "cell_type": "markdown",
   "metadata": {},
   "source": [
    "with strings..."
   ]
  },
  {
   "cell_type": "code",
   "execution_count": 6,
   "metadata": {},
   "outputs": [],
   "source": [
    "renfe['destination_origin'] = renfe['origin'] + '_' + renfe['destination']"
   ]
  },
  {
   "cell_type": "code",
   "execution_count": 7,
   "metadata": {},
   "outputs": [
    {
     "data": {
      "text/plain": [
       "0          MADRID_BARCELONA\n",
       "1          MADRID_BARCELONA\n",
       "2          MADRID_BARCELONA\n",
       "3          MADRID_BARCELONA\n",
       "4          MADRID_BARCELONA\n",
       "                 ...       \n",
       "7671349     VALENCIA_MADRID\n",
       "7671350     VALENCIA_MADRID\n",
       "7671351     VALENCIA_MADRID\n",
       "7671352     VALENCIA_MADRID\n",
       "7671353     VALENCIA_MADRID\n",
       "Name: destination_origin, Length: 7671354, dtype: object"
      ]
     },
     "execution_count": 7,
     "metadata": {},
     "output_type": "execute_result"
    }
   ],
   "source": [
    "renfe['destination_origin']"
   ]
  },
  {
   "cell_type": "markdown",
   "metadata": {},
   "source": [
    "dates..."
   ]
  },
  {
   "cell_type": "code",
   "execution_count": 8,
   "metadata": {},
   "outputs": [
    {
     "name": "stderr",
     "output_type": "stream",
     "text": [
      "FutureWarning: the 'box' keyword is deprecated and will be removed in a future version. Please take steps to stop the use of 'box'\n"
     ]
    }
   ],
   "source": [
    "renfe['start_date'] = pd.to_datetime(renfe['start_date'])\n",
    "renfe['end_date'] = pd.to_datetime(renfe['end_date'])"
   ]
  },
  {
   "cell_type": "markdown",
   "metadata": {},
   "source": [
    "converters? be careful..."
   ]
  },
  {
   "cell_type": "markdown",
   "metadata": {},
   "source": [
    "https://pandas.pydata.org/pandas-docs/stable/reference/api/pandas.read_csv.html"
   ]
  },
  {
   "cell_type": "code",
   "execution_count": 21,
   "metadata": {},
   "outputs": [],
   "source": [
    "renfe['trip_duration'] = renfe['end_date'] - renfe['start_date']"
   ]
  },
  {
   "cell_type": "code",
   "execution_count": 35,
   "metadata": {},
   "outputs": [
    {
     "data": {
      "text/plain": [
       "0          3.083333\n",
       "1          2.833333\n",
       "2          2.500000\n",
       "3          3.166667\n",
       "4          2.500000\n",
       "             ...   \n",
       "7671349    7.450000\n",
       "7671350    1.633333\n",
       "7671351    1.666667\n",
       "7671352    2.416667\n",
       "7671353    1.666667\n",
       "Name: trip_duration, Length: 7671354, dtype: float64"
      ]
     },
     "execution_count": 35,
     "metadata": {},
     "output_type": "execute_result"
    }
   ],
   "source": [
    "renfe['trip_duration'].dt.seconds / 3600"
   ]
  },
  {
   "cell_type": "markdown",
   "metadata": {},
   "source": [
    "## constants..."
   ]
  },
  {
   "cell_type": "code",
   "execution_count": 37,
   "metadata": {},
   "outputs": [
    {
     "data": {
      "text/plain": [
       "0         1 days 06:50:00\n",
       "1         1 days 04:20:00\n",
       "2         1 days 01:00:00\n",
       "3         1 days 07:40:00\n",
       "4         1 days 01:00:00\n",
       "                ...      \n",
       "7671349   3 days 02:30:00\n",
       "7671350   0 days 16:20:00\n",
       "7671351   0 days 16:40:00\n",
       "7671352   1 days 00:10:00\n",
       "7671353   0 days 16:40:00\n",
       "Name: trip_duration, Length: 7671354, dtype: timedelta64[ns]"
      ]
     },
     "execution_count": 37,
     "metadata": {},
     "output_type": "execute_result"
    }
   ],
   "source": [
    "renfe['trip_duration'] * 10"
   ]
  },
  {
   "cell_type": "markdown",
   "metadata": {},
   "source": [
    "### conditional calculations"
   ]
  },
  {
   "cell_type": "code",
   "execution_count": 40,
   "metadata": {},
   "outputs": [],
   "source": [
    "renfe['duration_description'] = np.where(renfe['trip_duration'].dt.seconds > 3600 * 2,\n",
    "                                         'long trip', \n",
    "                                         'short trip')"
   ]
  },
  {
   "cell_type": "code",
   "execution_count": 43,
   "metadata": {},
   "outputs": [],
   "source": [
    "renfe['trip_duration_h'] = renfe['trip_duration'].dt.seconds / 3600"
   ]
  },
  {
   "cell_type": "code",
   "execution_count": 48,
   "metadata": {},
   "outputs": [
    {
     "data": {
      "text/plain": [
       "0          36.016667\n",
       "1          39.116667\n",
       "2          54.625000\n",
       "3          46.833333\n",
       "4          45.725000\n",
       "             ...    \n",
       "7671349    17.900000\n",
       "7671350    17.641667\n",
       "7671351    23.483333\n",
       "7671352     9.058333\n",
       "7671353    23.483333\n",
       "Length: 7671354, dtype: float64"
      ]
     },
     "execution_count": 48,
     "metadata": {},
     "output_type": "execute_result"
    }
   ],
   "source": [
    "renfe[['trip_duration_h', 'price']].mean(axis=1)"
   ]
  },
  {
   "cell_type": "markdown",
   "metadata": {},
   "source": [
    "It may take too long..."
   ]
  },
  {
   "cell_type": "markdown",
   "metadata": {},
   "source": [
    "## 4. using pandas 'out of core' with modin"
   ]
  },
  {
   "cell_type": "code",
   "execution_count": null,
   "metadata": {},
   "outputs": [],
   "source": [
    "!pip install modin[ray] psutil"
   ]
  },
  {
   "cell_type": "markdown",
   "metadata": {},
   "source": [
    "https://modin.readthedocs.io/en/latest/UsingPandasonRay/index.html"
   ]
  }
 ],
 "metadata": {
  "kernelspec": {
   "display_name": "Python [conda env:ironhack_env]",
   "language": "python",
   "name": "conda-env-ironhack_env-py"
  },
  "language_info": {
   "codemirror_mode": {
    "name": "ipython",
    "version": 3
   },
   "file_extension": ".py",
   "mimetype": "text/x-python",
   "name": "python",
   "nbconvert_exporter": "python",
   "pygments_lexer": "ipython3",
   "version": "3.7.4"
  }
 },
 "nbformat": 4,
 "nbformat_minor": 4
}
