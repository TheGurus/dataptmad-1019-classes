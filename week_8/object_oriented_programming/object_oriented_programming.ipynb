{
 "cells": [
  {
   "cell_type": "markdown",
   "metadata": {},
   "source": [
    "# object oriented programming (classes 😎)"
   ]
  },
  {
   "cell_type": "markdown",
   "metadata": {},
   "source": [
    "## 0. introduction"
   ]
  },
  {
   "cell_type": "markdown",
   "metadata": {},
   "source": [
    "- you do not really need to be an expert in object oriented programming to do things with data, but...\n",
    "- as classes are a core part of Python, it is almost mandatory to understand the concept.\n",
    "- most libraries are implemented with an object oriented api (understand api as the way to interface with the library, not a web api this time :-D).\n",
    "- classes are a way of abstraction, code abstraction is something you learn with time.\n",
    "- classes are a 'hard' to understand concept for new programmers."
   ]
  },
  {
   "cell_type": "markdown",
   "metadata": {},
   "source": [
    "first of all:"
   ]
  },
  {
   "cell_type": "code",
   "execution_count": 19,
   "metadata": {},
   "outputs": [
    {
     "name": "stdout",
     "output_type": "stream",
     "text": [
      "The Zen of Python, by Tim Peters\n",
      "\n",
      "Beautiful is better than ugly.\n",
      "Explicit is better than implicit.\n",
      "Simple is better than complex.\n",
      "Complex is better than complicated.\n",
      "Flat is better than nested.\n",
      "Sparse is better than dense.\n",
      "Readability counts.\n",
      "Special cases aren't special enough to break the rules.\n",
      "Although practicality beats purity.\n",
      "Errors should never pass silently.\n",
      "Unless explicitly silenced.\n",
      "In the face of ambiguity, refuse the temptation to guess.\n",
      "There should be one-- and preferably only one --obvious way to do it.\n",
      "Although that way may not be obvious at first unless you're Dutch.\n",
      "Now is better than never.\n",
      "Although never is often better than *right* now.\n",
      "If the implementation is hard to explain, it's a bad idea.\n",
      "If the implementation is easy to explain, it may be a good idea.\n",
      "Namespaces are one honking great idea -- let's do more of those!\n"
     ]
    }
   ],
   "source": [
    "import this"
   ]
  },
  {
   "cell_type": "markdown",
   "metadata": {},
   "source": [
    "https://www.python.org/dev/peps/pep-0008/"
   ]
  },
  {
   "cell_type": "markdown",
   "metadata": {},
   "source": [
    "## 1. a class"
   ]
  },
  {
   "cell_type": "markdown",
   "metadata": {},
   "source": [
    "First, let's define a class representing someone..."
   ]
  },
  {
   "cell_type": "code",
   "execution_count": 23,
   "metadata": {},
   "outputs": [
    {
     "data": {
      "text/plain": [
       "\u001b[0;31mInit signature:\u001b[0m \u001b[0mobject\u001b[0m\u001b[0;34m(\u001b[0m\u001b[0;34m)\u001b[0m\u001b[0;34m\u001b[0m\u001b[0;34m\u001b[0m\u001b[0m\n",
       "\u001b[0;31mDocstring:\u001b[0m      The most base type\n",
       "\u001b[0;31mType:\u001b[0m           type\n",
       "\u001b[0;31mSubclasses:\u001b[0m     type, weakref, weakcallableproxy, weakproxy, int, bytearray, bytes, list, NoneType, NotImplementedType, ...\n"
      ]
     },
     "metadata": {},
     "output_type": "display_data"
    }
   ],
   "source": [
    "?object"
   ]
  },
  {
   "cell_type": "code",
   "execution_count": 26,
   "metadata": {},
   "outputs": [],
   "source": [
    "class Human(object):\n",
    "    pass"
   ]
  },
  {
   "cell_type": "markdown",
   "metadata": {},
   "source": [
    "## 2. the init function"
   ]
  },
  {
   "cell_type": "markdown",
   "metadata": {},
   "source": [
    "What attributes define a person?"
   ]
  },
  {
   "cell_type": "code",
   "execution_count": 56,
   "metadata": {},
   "outputs": [],
   "source": [
    "class Human(object):  # classes are usually capitalized.\n",
    "    \n",
    "    GENDER = ['male', 'female']\n",
    "    \n",
    "    def __init__(self, name, family_name, age, height, weight):\n",
    "        \n",
    "        self.name = name\n",
    "        self.family_name = family_name\n",
    "        self.age = age\n",
    "        self.height = height\n",
    "        self.weight = weight\n",
    "        \n",
    "        self.nombre_atributo = 123456789\n",
    "        "
   ]
  },
  {
   "cell_type": "code",
   "execution_count": 58,
   "metadata": {},
   "outputs": [],
   "source": [
    "david = Human(name='david', \n",
    "              family_name='cañones', \n",
    "              age=30, \n",
    "              height=180, \n",
    "              weight=65)"
   ]
  },
  {
   "cell_type": "code",
   "execution_count": 51,
   "metadata": {},
   "outputs": [
    {
     "data": {
      "text/plain": [
       "['male', 'female']"
      ]
     },
     "execution_count": 51,
     "metadata": {},
     "output_type": "execute_result"
    }
   ],
   "source": [
    "david.GENDER"
   ]
  },
  {
   "cell_type": "code",
   "execution_count": 34,
   "metadata": {},
   "outputs": [],
   "source": [
    "asdf = Human(name='lucas', \n",
    "              family_name='contreras', \n",
    "              age=26, \n",
    "              height=180, \n",
    "              weight=70)"
   ]
  },
  {
   "cell_type": "code",
   "execution_count": 36,
   "metadata": {},
   "outputs": [
    {
     "data": {
      "text/plain": [
       "'contreras'"
      ]
     },
     "execution_count": 36,
     "metadata": {},
     "output_type": "execute_result"
    }
   ],
   "source": [
    "asdf.family_name"
   ]
  },
  {
   "cell_type": "code",
   "execution_count": 17,
   "metadata": {},
   "outputs": [
    {
     "data": {
      "text/plain": [
       "18"
      ]
     },
     "execution_count": 17,
     "metadata": {},
     "output_type": "execute_result"
    }
   ],
   "source": [
    "anonymous_human.age"
   ]
  },
  {
   "cell_type": "code",
   "execution_count": 18,
   "metadata": {},
   "outputs": [
    {
     "data": {
      "text/plain": [
       "'no_family'"
      ]
     },
     "execution_count": 18,
     "metadata": {},
     "output_type": "execute_result"
    }
   ],
   "source": [
    "anonymous_human.family_name"
   ]
  },
  {
   "cell_type": "markdown",
   "metadata": {},
   "source": [
    "This may be the loneliest human in the universe..."
   ]
  },
  {
   "cell_type": "markdown",
   "metadata": {},
   "source": [
    "## 3. methods"
   ]
  },
  {
   "cell_type": "markdown",
   "metadata": {},
   "source": [
    "you have been using methods all this time..."
   ]
  },
  {
   "cell_type": "code",
   "execution_count": 59,
   "metadata": {},
   "outputs": [],
   "source": [
    "my_string = 'asdf,fdsa'"
   ]
  },
  {
   "cell_type": "code",
   "execution_count": 62,
   "metadata": {},
   "outputs": [
    {
     "data": {
      "text/plain": [
       "['asdf', 'fdsa']"
      ]
     },
     "execution_count": 62,
     "metadata": {},
     "output_type": "execute_result"
    }
   ],
   "source": [
    "my_string.split(',')"
   ]
  },
  {
   "cell_type": "code",
   "execution_count": 84,
   "metadata": {},
   "outputs": [],
   "source": [
    "import random\n",
    "\n",
    "class Human(object):  # classes are usually capitalized.\n",
    "    \n",
    "    GENDER = ['male', 'female']\n",
    "    \n",
    "    def __init__(self, name, family_name, age, height, weight):\n",
    "                \n",
    "        self.name = name\n",
    "        self.family_name = family_name\n",
    "        self.age = age\n",
    "        self.height = height\n",
    "        self.weight = weight\n",
    "        self.gender = random.choice(self.GENDER)\n",
    "        \n",
    "    def greet(self):\n",
    "        print(f'Hi!, my name is: {self.name}')"
   ]
  },
  {
   "cell_type": "code",
   "execution_count": 93,
   "metadata": {},
   "outputs": [],
   "source": [
    "anonymous_human_1 = Human(name='no_name', \n",
    "                        family_name='no_family', \n",
    "                        age=18, \n",
    "                        height=150, \n",
    "                        weight=60)"
   ]
  },
  {
   "cell_type": "code",
   "execution_count": 94,
   "metadata": {},
   "outputs": [
    {
     "data": {
      "text/plain": [
       "'female'"
      ]
     },
     "execution_count": 94,
     "metadata": {},
     "output_type": "execute_result"
    }
   ],
   "source": [
    "anonymous_human_1.gender"
   ]
  },
  {
   "cell_type": "code",
   "execution_count": 82,
   "metadata": {},
   "outputs": [],
   "source": [
    "anonymous_human_2 = Human(name='no_name', \n",
    "                        family_name='no_family', \n",
    "                        age=18, \n",
    "                        height=150, \n",
    "                        weight=60)"
   ]
  },
  {
   "cell_type": "code",
   "execution_count": null,
   "metadata": {},
   "outputs": [],
   "source": []
  },
  {
   "cell_type": "code",
   "execution_count": 81,
   "metadata": {},
   "outputs": [
    {
     "data": {
      "text/plain": [
       "True"
      ]
     },
     "execution_count": 81,
     "metadata": {},
     "output_type": "execute_result"
    }
   ],
   "source": [
    "anonymous_human_1.he_saludado"
   ]
  },
  {
   "cell_type": "code",
   "execution_count": 100,
   "metadata": {},
   "outputs": [],
   "source": [
    "import pandas as pd"
   ]
  },
  {
   "cell_type": "code",
   "execution_count": 101,
   "metadata": {},
   "outputs": [],
   "source": [
    "df = pd.DataFrame({'a': [1,2,3], 'b':[4, 5, 6]})"
   ]
  },
  {
   "cell_type": "code",
   "execution_count": 106,
   "metadata": {},
   "outputs": [
    {
     "data": {
      "text/html": [
       "<div>\n",
       "<style scoped>\n",
       "    .dataframe tbody tr th:only-of-type {\n",
       "        vertical-align: middle;\n",
       "    }\n",
       "\n",
       "    .dataframe tbody tr th {\n",
       "        vertical-align: top;\n",
       "    }\n",
       "\n",
       "    .dataframe thead th {\n",
       "        text-align: right;\n",
       "    }\n",
       "</style>\n",
       "<table border=\"1\" class=\"dataframe\">\n",
       "  <thead>\n",
       "    <tr style=\"text-align: right;\">\n",
       "      <th></th>\n",
       "      <th>a</th>\n",
       "      <th>b</th>\n",
       "    </tr>\n",
       "  </thead>\n",
       "  <tbody>\n",
       "    <tr>\n",
       "      <th>0</th>\n",
       "      <td>1</td>\n",
       "      <td>4</td>\n",
       "    </tr>\n",
       "    <tr>\n",
       "      <th>1</th>\n",
       "      <td>2</td>\n",
       "      <td>5</td>\n",
       "    </tr>\n",
       "    <tr>\n",
       "      <th>2</th>\n",
       "      <td>3</td>\n",
       "      <td>6</td>\n",
       "    </tr>\n",
       "  </tbody>\n",
       "</table>\n",
       "</div>"
      ],
      "text/plain": [
       "   a  b\n",
       "0  1  4\n",
       "1  2  5\n",
       "2  3  6"
      ]
     },
     "execution_count": 106,
     "metadata": {},
     "output_type": "execute_result"
    }
   ],
   "source": [
    "df"
   ]
  },
  {
   "cell_type": "markdown",
   "metadata": {},
   "source": [
    "## 4. making things more beautiful"
   ]
  },
  {
   "cell_type": "code",
   "execution_count": 107,
   "metadata": {},
   "outputs": [],
   "source": [
    "class Human(object):  # classes are usually capitalized.\n",
    "    \n",
    "    def __init__(self, name, family_name, age, height, weight):\n",
    "        \n",
    "        self.name = name\n",
    "        self.family_name = family_name\n",
    "        self.age = age\n",
    "        self.height = height\n",
    "        self.weight = weight\n",
    "        \n",
    "    def greet(self):\n",
    "        return f'Hi!, my name is: {self.name}'\n",
    "    \n",
    "    def __repr__(self):\n",
    "        return f\"<Human(name: '{self.name}', family_name: '{self.family_name}')>\"\n",
    "    \n",
    "    def __str__(self):\n",
    "        return f\"'{self.name}'\""
   ]
  },
  {
   "cell_type": "code",
   "execution_count": 115,
   "metadata": {},
   "outputs": [],
   "source": [
    "anonymous_human = Human(name='no_name', \n",
    "                        family_name='no_family', \n",
    "                        age=18, \n",
    "                        height=150, \n",
    "                        weight=60)\n",
    "\n",
    "anonymous_human2 = Human(name='no_name', \n",
    "                        family_name='no_family', \n",
    "                        age=18, \n",
    "                        height=150, \n",
    "                        weight=60)\n",
    "\n",
    "anonymous_human3 = Human(name='no_name', \n",
    "                        family_name='no_family', \n",
    "                        age=18, \n",
    "                        height=150, \n",
    "                        weight=60)\n",
    "\n",
    "david = Human(name='david', \n",
    "                        family_name='no_family', \n",
    "                        age=18, \n",
    "                        height=150, \n",
    "                        weight=60)"
   ]
  },
  {
   "cell_type": "code",
   "execution_count": 116,
   "metadata": {},
   "outputs": [
    {
     "name": "stdout",
     "output_type": "stream",
     "text": [
      "'david'\n"
     ]
    }
   ],
   "source": [
    "print(david)"
   ]
  },
  {
   "cell_type": "markdown",
   "metadata": {},
   "source": [
    "## 5. inheritance"
   ]
  },
  {
   "cell_type": "markdown",
   "metadata": {},
   "source": [
    "Allows to extend classes, inheriting all methods and attributes"
   ]
  },
  {
   "cell_type": "code",
   "execution_count": 117,
   "metadata": {},
   "outputs": [],
   "source": [
    "class FootballPlayer(Human):\n",
    "    \n",
    "    def __init__(self, name, family_name, age, height, weight, \n",
    "                 team):\n",
    "        \n",
    "        super().__init__(name, family_name, age, height, weight)\n",
    "        \n",
    "        self.team = team\n",
    "        \n",
    "    def __repr__(self):\n",
    "        return f\"<Footballer(name: '{self.name}', family_name: '{self.family_name}', team: '{self.team}')>\" "
   ]
  },
  {
   "cell_type": "code",
   "execution_count": 119,
   "metadata": {},
   "outputs": [],
   "source": [
    "messi = FootballPlayer(name='Lionel', \n",
    "                       family_name='Messi', \n",
    "                       age=32, \n",
    "                       height=170, \n",
    "                       weight=72, \n",
    "                       team='Barcelona')"
   ]
  },
  {
   "cell_type": "code",
   "execution_count": 121,
   "metadata": {},
   "outputs": [
    {
     "name": "stdout",
     "output_type": "stream",
     "text": [
      "'Lionel'\n"
     ]
    }
   ],
   "source": [
    "print(messi)"
   ]
  },
  {
   "cell_type": "markdown",
   "metadata": {},
   "source": [
    "## 6. some fun"
   ]
  },
  {
   "cell_type": "markdown",
   "metadata": {},
   "source": [
    "let's create some artificial human inside this jupyter..."
   ]
  },
  {
   "cell_type": "code",
   "execution_count": 52,
   "metadata": {},
   "outputs": [],
   "source": [
    "import secrets\n",
    "import numpy as np"
   ]
  },
  {
   "cell_type": "code",
   "execution_count": 92,
   "metadata": {},
   "outputs": [],
   "source": [
    "import random\n",
    "import secrets\n",
    "\n",
    "class Human(object):  # classes are usually capitalized.\n",
    "    \n",
    "    GENDERS = ['male', 'female']\n",
    "    \n",
    "    def __init__(self):\n",
    "        \n",
    "        self.exists = False\n",
    "        self.is_dead = None\n",
    "        \n",
    "        # identity\n",
    "        self.name = None\n",
    "        self.family_name = None\n",
    "        \n",
    "        # modify class attribute to implement incremental ID\n",
    "        self.id = secrets.token_urlsafe(16)\n",
    "        \n",
    "        # traits\n",
    "        self.gender = None\n",
    "        self.age = None\n",
    "        self.height = None\n",
    "        self.weight = None\n",
    "        \n",
    "        # day to day\n",
    "        self.awake = None\n",
    "        \n",
    "        # relationships\n",
    "        self.spouse = None\n",
    "        self.friends = []\n",
    "        \n",
    "        # add new attributes (clothes and more)\n",
    "        \n",
    "    def born(self):\n",
    "        \n",
    "        if self.exists:\n",
    "            raise AssertionError('you can only born once...')\n",
    "        \n",
    "        self.gender = random.choice(self.GENDERS)\n",
    "        \n",
    "        # add random weight and height\n",
    "        self.weight = np.random.normal(3, 0.5)\n",
    "        self.height = np.random.normal(25, 15)\n",
    "        self.exists = True\n",
    "        self.awake = True\n",
    "    \n",
    "        \n",
    "        print(f'a new human was born on earth today, '\n",
    "              f'and is a: {self.gender} with id: {self.id}')\n",
    "        \n",
    "    def give_name(self, name, family_name):\n",
    "        \n",
    "        if not self.exists:\n",
    "            raise AssertionError('this human is not born...')\n",
    "        elif self.is_dead:\n",
    "            raise AssertionError('a dead human can not change name...')\n",
    "            \n",
    "        self.name = name\n",
    "        self.family_name = family_name\n",
    "        \n",
    "        print(f'human with id: {self.id} is now named: {self.name} {self.family_name}')\n",
    "        \n",
    "    def sleep(self):\n",
    "        \n",
    "        if self.awake == True:\n",
    "            self.awake = False\n",
    "            print(f'human {self.id} is sleeping now...')\n",
    "        else:\n",
    "            print(f'human {self.id} is already asleep...')\n",
    "        \n",
    "    def wake_up(self):\n",
    "        if self.awake == True:\n",
    "            print(f'human {self.id} is already awake...')\n",
    "        else:\n",
    "            self.awake = True\n",
    "            print(f'human {self.id} is now wake up...')\n",
    "\n",
    "    def live_a_day(self, lifestyle):\n",
    "        raise NotImplementedError\n",
    "        \n",
    "    def live_a_year(self, lifestyle):\n",
    "        raise NotImplementedError\n",
    "        \n",
    "    def get_married(self, another_human):\n",
    "        raise NotImplementedError\n",
    "        \n",
    "    def have_a_baby(self, another_human):\n",
    "        raise NotImplementedError\n",
    "        \n",
    "    def exercise(self):\n",
    "        self.weight -= 0.5\n",
    "        \n",
    "    def get_friends(self, another_human):\n",
    "        if isinstance(another_human, Human):\n",
    "            if another_human not in self.friends:\n",
    "                \n",
    "            # modify to avoid make friends two times\n",
    "                self.friends.append(another_human)\n",
    "                print(f'{self.name} {self.family_name} become '\n",
    "                  f'friends with {another_human.name} {another_human.family_name}')\n",
    "        \n",
    "    def greet(self):\n",
    "        return f'Hi!, my name is: {self.name}'\n",
    "    \n",
    "    def __repr__(self):\n",
    "        return f\"<Human(name: '{self.name}', family_name: '{self.family_name}')>\"\n",
    "    \n",
    "    def __str__(self):\n",
    "        return f\"'{self.name}'\""
   ]
  },
  {
   "cell_type": "markdown",
   "metadata": {},
   "source": [
    "let's simulate some human life here..."
   ]
  },
  {
   "cell_type": "code",
   "execution_count": 93,
   "metadata": {},
   "outputs": [
    {
     "name": "stdout",
     "output_type": "stream",
     "text": [
      "a new human was born on earth today, and is a: male with id: 5skt1-btUzB7zdMnXDZ6cg\n",
      "human with id: 5skt1-btUzB7zdMnXDZ6cg is now named: david cañones\n"
     ]
    }
   ],
   "source": [
    "david = Human()\n",
    "david.born()\n",
    "david.give_name('david', 'cañones')"
   ]
  },
  {
   "cell_type": "code",
   "execution_count": 72,
   "metadata": {},
   "outputs": [
    {
     "data": {
      "text/plain": [
       "3.042214976282857"
      ]
     },
     "execution_count": 72,
     "metadata": {},
     "output_type": "execute_result"
    }
   ],
   "source": [
    "david.weight"
   ]
  },
  {
   "cell_type": "code",
   "execution_count": 73,
   "metadata": {},
   "outputs": [
    {
     "name": "stdout",
     "output_type": "stream",
     "text": [
      "human rZKklZihXO6d1Cw149Zcrg is sleeping now...\n"
     ]
    }
   ],
   "source": [
    "david.sleep()"
   ]
  },
  {
   "cell_type": "code",
   "execution_count": 74,
   "metadata": {},
   "outputs": [
    {
     "name": "stdout",
     "output_type": "stream",
     "text": [
      "human rZKklZihXO6d1Cw149Zcrg is now wake up...\n"
     ]
    }
   ],
   "source": [
    "david.wake_up()"
   ]
  },
  {
   "cell_type": "code",
   "execution_count": 75,
   "metadata": {},
   "outputs": [
    {
     "name": "stdout",
     "output_type": "stream",
     "text": [
      "human rZKklZihXO6d1Cw149Zcrg is already awake...\n"
     ]
    }
   ],
   "source": [
    "david.wake_up()"
   ]
  },
  {
   "cell_type": "code",
   "execution_count": 76,
   "metadata": {},
   "outputs": [],
   "source": [
    "david.exercise()"
   ]
  },
  {
   "cell_type": "code",
   "execution_count": 94,
   "metadata": {},
   "outputs": [
    {
     "name": "stdout",
     "output_type": "stream",
     "text": [
      "a new human was born on earth today, and is a: male with id: L1aL4Azx8awjhzg0-CYH9g\n",
      "human with id: L1aL4Azx8awjhzg0-CYH9g is now named: pedro muñoz\n"
     ]
    }
   ],
   "source": [
    "pedro = Human()\n",
    "pedro.born()\n",
    "pedro.give_name('pedro', 'muñoz')"
   ]
  },
  {
   "cell_type": "code",
   "execution_count": 98,
   "metadata": {},
   "outputs": [],
   "source": [
    "david.get_friends(pedro)"
   ]
  },
  {
   "cell_type": "code",
   "execution_count": 99,
   "metadata": {},
   "outputs": [
    {
     "data": {
      "text/plain": [
       "[<Human(name: 'pedro', family_name: 'muñoz')>]"
      ]
     },
     "execution_count": 99,
     "metadata": {},
     "output_type": "execute_result"
    }
   ],
   "source": [
    "david.friends"
   ]
  },
  {
   "cell_type": "code",
   "execution_count": 112,
   "metadata": {},
   "outputs": [
    {
     "name": "stdout",
     "output_type": "stream",
     "text": [
      "a new human was born on earth today, and is a: male with id: JZIv1z1rKPmzoDkFMu96Mw\n",
      "human with id: JZIv1z1rKPmzoDkFMu96Mw is now named: cristina ruiz\n"
     ]
    }
   ],
   "source": [
    "cristina = Human()\n",
    "cristina.born()\n",
    "cristina.give_name('cristina', 'ruiz')"
   ]
  },
  {
   "cell_type": "markdown",
   "metadata": {},
   "source": [
    "## 7. real usage in a data science environment"
   ]
  },
  {
   "cell_type": "markdown",
   "metadata": {},
   "source": [
    "### classes in a real project..."
   ]
  },
  {
   "cell_type": "markdown",
   "metadata": {},
   "source": [
    "real examples from real world projects (PyCharm time)..."
   ]
  },
  {
   "cell_type": "markdown",
   "metadata": {},
   "source": [
    "### classes as machine learning models"
   ]
  },
  {
   "cell_type": "code",
   "execution_count": 6,
   "metadata": {},
   "outputs": [],
   "source": [
    "from sklearn.datasets import make_classification\n",
    "from sklearn.linear_model import LogisticRegression"
   ]
  },
  {
   "cell_type": "code",
   "execution_count": 7,
   "metadata": {},
   "outputs": [],
   "source": [
    "X, y = make_classification()"
   ]
  },
  {
   "cell_type": "markdown",
   "metadata": {},
   "source": [
    "and the ML algorithm is implemented as a class :-D"
   ]
  },
  {
   "cell_type": "code",
   "execution_count": 10,
   "metadata": {},
   "outputs": [],
   "source": [
    "lr = LogisticRegression(solver='lbfgs')"
   ]
  },
  {
   "cell_type": "code",
   "execution_count": 11,
   "metadata": {},
   "outputs": [
    {
     "data": {
      "text/plain": [
       "LogisticRegression(C=1.0, class_weight=None, dual=False, fit_intercept=True,\n",
       "                   intercept_scaling=1, l1_ratio=None, max_iter=100,\n",
       "                   multi_class='warn', n_jobs=None, penalty='l2',\n",
       "                   random_state=None, solver='lbfgs', tol=0.0001, verbose=0,\n",
       "                   warm_start=False)"
      ]
     },
     "execution_count": 11,
     "metadata": {},
     "output_type": "execute_result"
    }
   ],
   "source": [
    "lr.fit(X, y)"
   ]
  },
  {
   "cell_type": "code",
   "execution_count": 15,
   "metadata": {},
   "outputs": [
    {
     "data": {
      "text/plain": [
       "array([1, 1, 0, 1, 1])"
      ]
     },
     "execution_count": 15,
     "metadata": {},
     "output_type": "execute_result"
    }
   ],
   "source": [
    "lr.predict(X[:5,:])"
   ]
  }
 ],
 "metadata": {
  "kernelspec": {
   "display_name": "Python [conda env:ironhack_env]",
   "language": "python",
   "name": "conda-env-ironhack_env-py"
  },
  "language_info": {
   "codemirror_mode": {
    "name": "ipython",
    "version": 3
   },
   "file_extension": ".py",
   "mimetype": "text/x-python",
   "name": "python",
   "nbconvert_exporter": "python",
   "pygments_lexer": "ipython3",
   "version": "3.7.4"
  }
 },
 "nbformat": 4,
 "nbformat_minor": 4
}
