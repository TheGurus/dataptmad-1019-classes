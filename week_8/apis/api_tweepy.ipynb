{
 "cells": [
  {
   "cell_type": "markdown",
   "metadata": {},
   "source": [
    "# Tweepy"
   ]
  },
  {
   "cell_type": "markdown",
   "metadata": {},
   "source": [
    "- Go to https://developer.twitter.com/en/apply-for-access.html.\n",
    "- Click Apply for a developer account.\n",
    "- Follow the instructions and provide the information necessary to create a developer account for personal use.\n",
    "- Twitter will review your application and approve your account (assuming you didn't say you would do anything that violates their terms of service)."
   ]
  },
  {
   "cell_type": "markdown",
   "metadata": {},
   "source": [
    "http://docs.tweepy.org/en/latest/getting_started.html"
   ]
  },
  {
   "cell_type": "code",
   "execution_count": 1,
   "metadata": {},
   "outputs": [
    {
     "name": "stdout",
     "output_type": "stream",
     "text": [
      "Requirement already satisfied: tweepy in /home/ubuntu/miniconda3/envs/ironhack_env/lib/python3.7/site-packages (3.8.0)\n",
      "Requirement already satisfied: six>=1.10.0 in /home/ubuntu/.local/lib/python3.7/site-packages (from tweepy) (1.12.0)\n",
      "Requirement already satisfied: PySocks>=1.5.7 in /home/ubuntu/miniconda3/envs/ironhack_env/lib/python3.7/site-packages (from tweepy) (1.7.1)\n",
      "Requirement already satisfied: requests>=2.11.1 in /home/ubuntu/miniconda3/envs/ironhack_env/lib/python3.7/site-packages (from tweepy) (2.22.0)\n",
      "Requirement already satisfied: requests-oauthlib>=0.7.0 in /home/ubuntu/miniconda3/envs/ironhack_env/lib/python3.7/site-packages (from tweepy) (1.3.0)\n",
      "Requirement already satisfied: certifi>=2017.4.17 in /home/ubuntu/miniconda3/envs/ironhack_env/lib/python3.7/site-packages (from requests>=2.11.1->tweepy) (2019.9.11)\n",
      "Requirement already satisfied: idna<2.9,>=2.5 in /home/ubuntu/miniconda3/envs/ironhack_env/lib/python3.7/site-packages (from requests>=2.11.1->tweepy) (2.8)\n",
      "Requirement already satisfied: chardet<3.1.0,>=3.0.2 in /home/ubuntu/miniconda3/envs/ironhack_env/lib/python3.7/site-packages (from requests>=2.11.1->tweepy) (3.0.4)\n",
      "Requirement already satisfied: urllib3!=1.25.0,!=1.25.1,<1.26,>=1.21.1 in /home/ubuntu/miniconda3/envs/ironhack_env/lib/python3.7/site-packages (from requests>=2.11.1->tweepy) (1.25.7)\n",
      "Requirement already satisfied: oauthlib>=3.0.0 in /home/ubuntu/miniconda3/envs/ironhack_env/lib/python3.7/site-packages (from requests-oauthlib>=0.7.0->tweepy) (3.1.0)\n"
     ]
    }
   ],
   "source": [
    "!pip install tweepy"
   ]
  },
  {
   "cell_type": "code",
   "execution_count": 2,
   "metadata": {},
   "outputs": [
    {
     "data": {
      "text/plain": [
       "<tweepy.api.API at 0x7fbcd85ef890>"
      ]
     },
     "execution_count": 2,
     "metadata": {},
     "output_type": "execute_result"
    }
   ],
   "source": [
    "import tweepy\n",
    "\n",
    "GURUS_CONSUMER_KEY = ''\n",
    "GURUS_CONSUMER_SECRET = ''\n",
    "GURUS_ACCESS_TOKEN = ''\n",
    "GURUS_ACCESS_SECRET = ''\n",
    "\n",
    "auth = tweepy.OAuthHandler(GURUS_CONSUMER_KEY, GURUS_CONSUMER_SECRET)\n",
    "auth.set_access_token(GURUS_ACCESS_TOKEN, GURUS_ACCESS_SECRET)\n",
    "\n",
    "api = tweepy.API(auth)\n",
    "\n",
    "api"
   ]
  },
  {
   "cell_type": "markdown",
   "metadata": {},
   "source": [
    "## Get Twitter followers"
   ]
  },
  {
   "cell_type": "code",
   "execution_count": 6,
   "metadata": {},
   "outputs": [
    {
     "data": {
      "text/plain": [
       "[User(_api=<tweepy.api.API object at 0x7fbcd85ef890>, _json={'id': 1194702871666864129, 'id_str': '1194702871666864129', 'name': 'Noticias Trading', 'screen_name': 'NoticiasTrading', 'location': '', 'description': 'Economía, criptomonedas, forex y más para tu libertad financiera.', 'url': 'https://t.co/6INquV1Bwj', 'entities': {'url': {'urls': [{'url': 'https://t.co/6INquV1Bwj', 'expanded_url': 'http://www.noticiastrading.com', 'display_url': 'noticiastrading.com', 'indices': [0, 23]}]}, 'description': {'urls': []}}, 'protected': False, 'followers_count': 341, 'friends_count': 1041, 'listed_count': 1, 'created_at': 'Wed Nov 13 19:45:49 +0000 2019', 'favourites_count': 70, 'utc_offset': None, 'time_zone': None, 'geo_enabled': False, 'verified': False, 'statuses_count': 39, 'lang': None, 'status': {'created_at': 'Tue Dec 17 18:02:49 +0000 2019', 'id': 1206998196406366208, 'id_str': '1206998196406366208', 'text': '$BTC #Bitcoin\\n\\nEl precio ha llegado a la zona que esperabamos, $6,700.\\n\\nNo creemos que el precio pueda caer mucho m… https://t.co/fnGEZO2C26', 'truncated': True, 'entities': {'hashtags': [{'text': 'Bitcoin', 'indices': [5, 13]}], 'symbols': [{'text': 'BTC', 'indices': [0, 4]}], 'user_mentions': [], 'urls': [{'url': 'https://t.co/fnGEZO2C26', 'expanded_url': 'https://twitter.com/i/web/status/1206998196406366208', 'display_url': 'twitter.com/i/web/status/1…', 'indices': [117, 140]}]}, 'source': '<a href=\"http://twitter.com/download/iphone\" rel=\"nofollow\">Twitter for iPhone</a>', 'in_reply_to_status_id': None, 'in_reply_to_status_id_str': None, 'in_reply_to_user_id': None, 'in_reply_to_user_id_str': None, 'in_reply_to_screen_name': None, 'geo': None, 'coordinates': None, 'place': None, 'contributors': None, 'is_quote_status': False, 'retweet_count': 0, 'favorite_count': 1, 'favorited': False, 'retweeted': False, 'possibly_sensitive': False, 'lang': 'es'}, 'contributors_enabled': False, 'is_translator': False, 'is_translation_enabled': False, 'profile_background_color': 'F5F8FA', 'profile_background_image_url': None, 'profile_background_image_url_https': None, 'profile_background_tile': False, 'profile_image_url': 'http://pbs.twimg.com/profile_images/1198600102035759104/7AJdBl65_normal.jpg', 'profile_image_url_https': 'https://pbs.twimg.com/profile_images/1198600102035759104/7AJdBl65_normal.jpg', 'profile_link_color': '1DA1F2', 'profile_sidebar_border_color': 'C0DEED', 'profile_sidebar_fill_color': 'DDEEF6', 'profile_text_color': '333333', 'profile_use_background_image': True, 'has_extended_profile': False, 'default_profile': True, 'default_profile_image': False, 'can_media_tag': True, 'followed_by': False, 'following': False, 'live_following': False, 'follow_request_sent': False, 'notifications': False, 'muting': False, 'blocking': False, 'blocked_by': False, 'translator_type': 'none'}, id=1194702871666864129, id_str='1194702871666864129', name='Noticias Trading', screen_name='NoticiasTrading', location='', description='Economía, criptomonedas, forex y más para tu libertad financiera.', url='https://t.co/6INquV1Bwj', entities={'url': {'urls': [{'url': 'https://t.co/6INquV1Bwj', 'expanded_url': 'http://www.noticiastrading.com', 'display_url': 'noticiastrading.com', 'indices': [0, 23]}]}, 'description': {'urls': []}}, protected=False, followers_count=341, friends_count=1041, listed_count=1, created_at=datetime.datetime(2019, 11, 13, 19, 45, 49), favourites_count=70, utc_offset=None, time_zone=None, geo_enabled=False, verified=False, statuses_count=39, lang=None, status=Status(_api=<tweepy.api.API object at 0x7fbcd85ef890>, _json={'created_at': 'Tue Dec 17 18:02:49 +0000 2019', 'id': 1206998196406366208, 'id_str': '1206998196406366208', 'text': '$BTC #Bitcoin\\n\\nEl precio ha llegado a la zona que esperabamos, $6,700.\\n\\nNo creemos que el precio pueda caer mucho m… https://t.co/fnGEZO2C26', 'truncated': True, 'entities': {'hashtags': [{'text': 'Bitcoin', 'indices': [5, 13]}], 'symbols': [{'text': 'BTC', 'indices': [0, 4]}], 'user_mentions': [], 'urls': [{'url': 'https://t.co/fnGEZO2C26', 'expanded_url': 'https://twitter.com/i/web/status/1206998196406366208', 'display_url': 'twitter.com/i/web/status/1…', 'indices': [117, 140]}]}, 'source': '<a href=\"http://twitter.com/download/iphone\" rel=\"nofollow\">Twitter for iPhone</a>', 'in_reply_to_status_id': None, 'in_reply_to_status_id_str': None, 'in_reply_to_user_id': None, 'in_reply_to_user_id_str': None, 'in_reply_to_screen_name': None, 'geo': None, 'coordinates': None, 'place': None, 'contributors': None, 'is_quote_status': False, 'retweet_count': 0, 'favorite_count': 1, 'favorited': False, 'retweeted': False, 'possibly_sensitive': False, 'lang': 'es'}, created_at=datetime.datetime(2019, 12, 17, 18, 2, 49), id=1206998196406366208, id_str='1206998196406366208', text='$BTC #Bitcoin\\n\\nEl precio ha llegado a la zona que esperabamos, $6,700.\\n\\nNo creemos que el precio pueda caer mucho m… https://t.co/fnGEZO2C26', truncated=True, entities={'hashtags': [{'text': 'Bitcoin', 'indices': [5, 13]}], 'symbols': [{'text': 'BTC', 'indices': [0, 4]}], 'user_mentions': [], 'urls': [{'url': 'https://t.co/fnGEZO2C26', 'expanded_url': 'https://twitter.com/i/web/status/1206998196406366208', 'display_url': 'twitter.com/i/web/status/1…', 'indices': [117, 140]}]}, source='Twitter for iPhone', source_url='http://twitter.com/download/iphone', in_reply_to_status_id=None, in_reply_to_status_id_str=None, in_reply_to_user_id=None, in_reply_to_user_id_str=None, in_reply_to_screen_name=None, geo=None, coordinates=None, place=None, contributors=None, is_quote_status=False, retweet_count=0, favorite_count=1, favorited=False, retweeted=False, possibly_sensitive=False, lang='es'), contributors_enabled=False, is_translator=False, is_translation_enabled=False, profile_background_color='F5F8FA', profile_background_image_url=None, profile_background_image_url_https=None, profile_background_tile=False, profile_image_url='http://pbs.twimg.com/profile_images/1198600102035759104/7AJdBl65_normal.jpg', profile_image_url_https='https://pbs.twimg.com/profile_images/1198600102035759104/7AJdBl65_normal.jpg', profile_link_color='1DA1F2', profile_sidebar_border_color='C0DEED', profile_sidebar_fill_color='DDEEF6', profile_text_color='333333', profile_use_background_image=True, has_extended_profile=False, default_profile=True, default_profile_image=False, can_media_tag=True, followed_by=False, following=False, live_following=False, follow_request_sent=False, notifications=False, muting=False, blocking=False, blocked_by=False, translator_type='none'),\n",
       " User(_api=<tweepy.api.API object at 0x7fbcd85ef890>, _json={'id': 1125559764883320832, 'id_str': '1125559764883320832', 'name': 'LeandroBolsa', 'screen_name': 'LeandroBolsa', 'location': '', 'description': 'Opiniones y comentarios acerca de los mercados', 'url': 'https://t.co/MXcVylmACg', 'entities': {'url': {'urls': [{'url': 'https://t.co/MXcVylmACg', 'expanded_url': 'http://www.bolsaleandro.com', 'display_url': 'bolsaleandro.com', 'indices': [0, 23]}]}, 'description': {'urls': []}}, 'protected': False, 'followers_count': 102, 'friends_count': 512, 'listed_count': 0, 'created_at': 'Tue May 07 00:35:34 +0000 2019', 'favourites_count': 1, 'utc_offset': None, 'time_zone': None, 'geo_enabled': False, 'verified': False, 'statuses_count': 55, 'lang': None, 'status': {'created_at': 'Thu Dec 12 16:35:30 +0000 2019', 'id': 1205164282247286784, 'id_str': '1205164282247286784', 'text': 'Ver esta foto de Instagram de @bolsaleandro https://t.co/hmXtWpuMno', 'truncated': False, 'entities': {'hashtags': [], 'symbols': [], 'user_mentions': [{'screen_name': 'bolsaleandro', 'name': 'bolsa', 'id': 166979876, 'id_str': '166979876', 'indices': [30, 43]}], 'urls': [{'url': 'https://t.co/hmXtWpuMno', 'expanded_url': 'https://www.instagram.com/p/B5-okwiA4Fi/?utm_source=ig_web_options_share_sheet', 'display_url': 'instagram.com/p/B5-okwiA4Fi/…', 'indices': [44, 67]}]}, 'source': '<a href=\"http://twitter.com\" rel=\"nofollow\">Twitter Web Client</a>', 'in_reply_to_status_id': None, 'in_reply_to_status_id_str': None, 'in_reply_to_user_id': None, 'in_reply_to_user_id_str': None, 'in_reply_to_screen_name': None, 'geo': None, 'coordinates': None, 'place': None, 'contributors': None, 'is_quote_status': False, 'retweet_count': 0, 'favorite_count': 0, 'favorited': False, 'retweeted': False, 'possibly_sensitive': False, 'lang': 'pt'}, 'contributors_enabled': False, 'is_translator': False, 'is_translation_enabled': False, 'profile_background_color': 'F5F8FA', 'profile_background_image_url': None, 'profile_background_image_url_https': None, 'profile_background_tile': False, 'profile_image_url': 'http://pbs.twimg.com/profile_images/1125560282489729025/y4Yp94k-_normal.png', 'profile_image_url_https': 'https://pbs.twimg.com/profile_images/1125560282489729025/y4Yp94k-_normal.png', 'profile_link_color': '1DA1F2', 'profile_sidebar_border_color': 'C0DEED', 'profile_sidebar_fill_color': 'DDEEF6', 'profile_text_color': '333333', 'profile_use_background_image': True, 'has_extended_profile': True, 'default_profile': True, 'default_profile_image': False, 'can_media_tag': False, 'followed_by': False, 'following': False, 'live_following': False, 'follow_request_sent': False, 'notifications': False, 'muting': False, 'blocking': False, 'blocked_by': False, 'translator_type': 'none'}, id=1125559764883320832, id_str='1125559764883320832', name='LeandroBolsa', screen_name='LeandroBolsa', location='', description='Opiniones y comentarios acerca de los mercados', url='https://t.co/MXcVylmACg', entities={'url': {'urls': [{'url': 'https://t.co/MXcVylmACg', 'expanded_url': 'http://www.bolsaleandro.com', 'display_url': 'bolsaleandro.com', 'indices': [0, 23]}]}, 'description': {'urls': []}}, protected=False, followers_count=102, friends_count=512, listed_count=0, created_at=datetime.datetime(2019, 5, 7, 0, 35, 34), favourites_count=1, utc_offset=None, time_zone=None, geo_enabled=False, verified=False, statuses_count=55, lang=None, status=Status(_api=<tweepy.api.API object at 0x7fbcd85ef890>, _json={'created_at': 'Thu Dec 12 16:35:30 +0000 2019', 'id': 1205164282247286784, 'id_str': '1205164282247286784', 'text': 'Ver esta foto de Instagram de @bolsaleandro https://t.co/hmXtWpuMno', 'truncated': False, 'entities': {'hashtags': [], 'symbols': [], 'user_mentions': [{'screen_name': 'bolsaleandro', 'name': 'bolsa', 'id': 166979876, 'id_str': '166979876', 'indices': [30, 43]}], 'urls': [{'url': 'https://t.co/hmXtWpuMno', 'expanded_url': 'https://www.instagram.com/p/B5-okwiA4Fi/?utm_source=ig_web_options_share_sheet', 'display_url': 'instagram.com/p/B5-okwiA4Fi/…', 'indices': [44, 67]}]}, 'source': '<a href=\"http://twitter.com\" rel=\"nofollow\">Twitter Web Client</a>', 'in_reply_to_status_id': None, 'in_reply_to_status_id_str': None, 'in_reply_to_user_id': None, 'in_reply_to_user_id_str': None, 'in_reply_to_screen_name': None, 'geo': None, 'coordinates': None, 'place': None, 'contributors': None, 'is_quote_status': False, 'retweet_count': 0, 'favorite_count': 0, 'favorited': False, 'retweeted': False, 'possibly_sensitive': False, 'lang': 'pt'}, created_at=datetime.datetime(2019, 12, 12, 16, 35, 30), id=1205164282247286784, id_str='1205164282247286784', text='Ver esta foto de Instagram de @bolsaleandro https://t.co/hmXtWpuMno', truncated=False, entities={'hashtags': [], 'symbols': [], 'user_mentions': [{'screen_name': 'bolsaleandro', 'name': 'bolsa', 'id': 166979876, 'id_str': '166979876', 'indices': [30, 43]}], 'urls': [{'url': 'https://t.co/hmXtWpuMno', 'expanded_url': 'https://www.instagram.com/p/B5-okwiA4Fi/?utm_source=ig_web_options_share_sheet', 'display_url': 'instagram.com/p/B5-okwiA4Fi/…', 'indices': [44, 67]}]}, source='Twitter Web Client', source_url='http://twitter.com', in_reply_to_status_id=None, in_reply_to_status_id_str=None, in_reply_to_user_id=None, in_reply_to_user_id_str=None, in_reply_to_screen_name=None, geo=None, coordinates=None, place=None, contributors=None, is_quote_status=False, retweet_count=0, favorite_count=0, favorited=False, retweeted=False, possibly_sensitive=False, lang='pt'), contributors_enabled=False, is_translator=False, is_translation_enabled=False, profile_background_color='F5F8FA', profile_background_image_url=None, profile_background_image_url_https=None, profile_background_tile=False, profile_image_url='http://pbs.twimg.com/profile_images/1125560282489729025/y4Yp94k-_normal.png', profile_image_url_https='https://pbs.twimg.com/profile_images/1125560282489729025/y4Yp94k-_normal.png', profile_link_color='1DA1F2', profile_sidebar_border_color='C0DEED', profile_sidebar_fill_color='DDEEF6', profile_text_color='333333', profile_use_background_image=True, has_extended_profile=True, default_profile=True, default_profile_image=False, can_media_tag=False, followed_by=False, following=False, live_following=False, follow_request_sent=False, notifications=False, muting=False, blocking=False, blocked_by=False, translator_type='none')]"
      ]
     },
     "execution_count": 6,
     "metadata": {},
     "output_type": "execute_result"
    }
   ],
   "source": [
    "followers = api.followers('@herreradelduque', count=2)\n",
    "\n",
    "followers"
   ]
  },
  {
   "cell_type": "code",
   "execution_count": 7,
   "metadata": {},
   "outputs": [
    {
     "data": {
      "text/plain": [
       "{'id': 1194702871666864129,\n",
       " 'id_str': '1194702871666864129',\n",
       " 'name': 'Noticias Trading',\n",
       " 'screen_name': 'NoticiasTrading',\n",
       " 'location': '',\n",
       " 'description': 'Economía, criptomonedas, forex y más para tu libertad financiera.',\n",
       " 'url': 'https://t.co/6INquV1Bwj',\n",
       " 'entities': {'url': {'urls': [{'url': 'https://t.co/6INquV1Bwj',\n",
       "     'expanded_url': 'http://www.noticiastrading.com',\n",
       "     'display_url': 'noticiastrading.com',\n",
       "     'indices': [0, 23]}]},\n",
       "  'description': {'urls': []}},\n",
       " 'protected': False,\n",
       " 'followers_count': 341,\n",
       " 'friends_count': 1041,\n",
       " 'listed_count': 1,\n",
       " 'created_at': 'Wed Nov 13 19:45:49 +0000 2019',\n",
       " 'favourites_count': 70,\n",
       " 'utc_offset': None,\n",
       " 'time_zone': None,\n",
       " 'geo_enabled': False,\n",
       " 'verified': False,\n",
       " 'statuses_count': 39,\n",
       " 'lang': None,\n",
       " 'status': {'created_at': 'Tue Dec 17 18:02:49 +0000 2019',\n",
       "  'id': 1206998196406366208,\n",
       "  'id_str': '1206998196406366208',\n",
       "  'text': '$BTC #Bitcoin\\n\\nEl precio ha llegado a la zona que esperabamos, $6,700.\\n\\nNo creemos que el precio pueda caer mucho m… https://t.co/fnGEZO2C26',\n",
       "  'truncated': True,\n",
       "  'entities': {'hashtags': [{'text': 'Bitcoin', 'indices': [5, 13]}],\n",
       "   'symbols': [{'text': 'BTC', 'indices': [0, 4]}],\n",
       "   'user_mentions': [],\n",
       "   'urls': [{'url': 'https://t.co/fnGEZO2C26',\n",
       "     'expanded_url': 'https://twitter.com/i/web/status/1206998196406366208',\n",
       "     'display_url': 'twitter.com/i/web/status/1…',\n",
       "     'indices': [117, 140]}]},\n",
       "  'source': '<a href=\"http://twitter.com/download/iphone\" rel=\"nofollow\">Twitter for iPhone</a>',\n",
       "  'in_reply_to_status_id': None,\n",
       "  'in_reply_to_status_id_str': None,\n",
       "  'in_reply_to_user_id': None,\n",
       "  'in_reply_to_user_id_str': None,\n",
       "  'in_reply_to_screen_name': None,\n",
       "  'geo': None,\n",
       "  'coordinates': None,\n",
       "  'place': None,\n",
       "  'contributors': None,\n",
       "  'is_quote_status': False,\n",
       "  'retweet_count': 0,\n",
       "  'favorite_count': 1,\n",
       "  'favorited': False,\n",
       "  'retweeted': False,\n",
       "  'possibly_sensitive': False,\n",
       "  'lang': 'es'},\n",
       " 'contributors_enabled': False,\n",
       " 'is_translator': False,\n",
       " 'is_translation_enabled': False,\n",
       " 'profile_background_color': 'F5F8FA',\n",
       " 'profile_background_image_url': None,\n",
       " 'profile_background_image_url_https': None,\n",
       " 'profile_background_tile': False,\n",
       " 'profile_image_url': 'http://pbs.twimg.com/profile_images/1198600102035759104/7AJdBl65_normal.jpg',\n",
       " 'profile_image_url_https': 'https://pbs.twimg.com/profile_images/1198600102035759104/7AJdBl65_normal.jpg',\n",
       " 'profile_link_color': '1DA1F2',\n",
       " 'profile_sidebar_border_color': 'C0DEED',\n",
       " 'profile_sidebar_fill_color': 'DDEEF6',\n",
       " 'profile_text_color': '333333',\n",
       " 'profile_use_background_image': True,\n",
       " 'has_extended_profile': False,\n",
       " 'default_profile': True,\n",
       " 'default_profile_image': False,\n",
       " 'can_media_tag': True,\n",
       " 'followed_by': False,\n",
       " 'following': False,\n",
       " 'live_following': False,\n",
       " 'follow_request_sent': False,\n",
       " 'notifications': False,\n",
       " 'muting': False,\n",
       " 'blocking': False,\n",
       " 'blocked_by': False,\n",
       " 'translator_type': 'none'}"
      ]
     },
     "execution_count": 7,
     "metadata": {},
     "output_type": "execute_result"
    }
   ],
   "source": [
    "followers[0]._json"
   ]
  },
  {
   "cell_type": "code",
   "execution_count": 8,
   "metadata": {},
   "outputs": [
    {
     "data": {
      "text/html": [
       "<div>\n",
       "<style scoped>\n",
       "    .dataframe tbody tr th:only-of-type {\n",
       "        vertical-align: middle;\n",
       "    }\n",
       "\n",
       "    .dataframe tbody tr th {\n",
       "        vertical-align: top;\n",
       "    }\n",
       "\n",
       "    .dataframe thead th {\n",
       "        text-align: right;\n",
       "    }\n",
       "</style>\n",
       "<table border=\"1\" class=\"dataframe\">\n",
       "  <thead>\n",
       "    <tr style=\"text-align: right;\">\n",
       "      <th></th>\n",
       "      <th>id</th>\n",
       "      <th>id_str</th>\n",
       "      <th>name</th>\n",
       "      <th>screen_name</th>\n",
       "      <th>location</th>\n",
       "      <th>description</th>\n",
       "      <th>url</th>\n",
       "      <th>entities</th>\n",
       "      <th>protected</th>\n",
       "      <th>followers_count</th>\n",
       "      <th>...</th>\n",
       "      <th>can_media_tag</th>\n",
       "      <th>followed_by</th>\n",
       "      <th>following</th>\n",
       "      <th>live_following</th>\n",
       "      <th>follow_request_sent</th>\n",
       "      <th>notifications</th>\n",
       "      <th>muting</th>\n",
       "      <th>blocking</th>\n",
       "      <th>blocked_by</th>\n",
       "      <th>translator_type</th>\n",
       "    </tr>\n",
       "  </thead>\n",
       "  <tbody>\n",
       "    <tr>\n",
       "      <th>0</th>\n",
       "      <td>1194702871666864129</td>\n",
       "      <td>1194702871666864129</td>\n",
       "      <td>Noticias Trading</td>\n",
       "      <td>NoticiasTrading</td>\n",
       "      <td></td>\n",
       "      <td>Economía, criptomonedas, forex y más para tu l...</td>\n",
       "      <td>https://t.co/6INquV1Bwj</td>\n",
       "      <td>{'url': {'urls': [{'url': 'https://t.co/6INquV...</td>\n",
       "      <td>False</td>\n",
       "      <td>341</td>\n",
       "      <td>...</td>\n",
       "      <td>True</td>\n",
       "      <td>False</td>\n",
       "      <td>False</td>\n",
       "      <td>False</td>\n",
       "      <td>False</td>\n",
       "      <td>False</td>\n",
       "      <td>False</td>\n",
       "      <td>False</td>\n",
       "      <td>False</td>\n",
       "      <td>none</td>\n",
       "    </tr>\n",
       "    <tr>\n",
       "      <th>1</th>\n",
       "      <td>1125559764883320832</td>\n",
       "      <td>1125559764883320832</td>\n",
       "      <td>LeandroBolsa</td>\n",
       "      <td>LeandroBolsa</td>\n",
       "      <td></td>\n",
       "      <td>Opiniones y comentarios acerca de los mercados</td>\n",
       "      <td>https://t.co/MXcVylmACg</td>\n",
       "      <td>{'url': {'urls': [{'url': 'https://t.co/MXcVyl...</td>\n",
       "      <td>False</td>\n",
       "      <td>102</td>\n",
       "      <td>...</td>\n",
       "      <td>False</td>\n",
       "      <td>False</td>\n",
       "      <td>False</td>\n",
       "      <td>False</td>\n",
       "      <td>False</td>\n",
       "      <td>False</td>\n",
       "      <td>False</td>\n",
       "      <td>False</td>\n",
       "      <td>False</td>\n",
       "      <td>none</td>\n",
       "    </tr>\n",
       "  </tbody>\n",
       "</table>\n",
       "<p>2 rows × 48 columns</p>\n",
       "</div>"
      ],
      "text/plain": [
       "                    id               id_str              name  \\\n",
       "0  1194702871666864129  1194702871666864129  Noticias Trading   \n",
       "1  1125559764883320832  1125559764883320832      LeandroBolsa   \n",
       "\n",
       "       screen_name location  \\\n",
       "0  NoticiasTrading            \n",
       "1     LeandroBolsa            \n",
       "\n",
       "                                         description                      url  \\\n",
       "0  Economía, criptomonedas, forex y más para tu l...  https://t.co/6INquV1Bwj   \n",
       "1     Opiniones y comentarios acerca de los mercados  https://t.co/MXcVylmACg   \n",
       "\n",
       "                                            entities  protected  \\\n",
       "0  {'url': {'urls': [{'url': 'https://t.co/6INquV...      False   \n",
       "1  {'url': {'urls': [{'url': 'https://t.co/MXcVyl...      False   \n",
       "\n",
       "   followers_count  ...  can_media_tag  followed_by following  live_following  \\\n",
       "0              341  ...           True        False     False           False   \n",
       "1              102  ...          False        False     False           False   \n",
       "\n",
       "  follow_request_sent notifications  muting  blocking  blocked_by  \\\n",
       "0               False         False   False     False       False   \n",
       "1               False         False   False     False       False   \n",
       "\n",
       "  translator_type  \n",
       "0            none  \n",
       "1            none  \n",
       "\n",
       "[2 rows x 48 columns]"
      ]
     },
     "execution_count": 8,
     "metadata": {},
     "output_type": "execute_result"
    }
   ],
   "source": [
    "import pandas as pd\n",
    "\n",
    "pd.DataFrame([pd.Series(follower._json) for follower in followers])"
   ]
  },
  {
   "cell_type": "code",
   "execution_count": 9,
   "metadata": {},
   "outputs": [
    {
     "data": {
      "text/plain": [
       "<function pandas.io.json._normalize.json_normalize(data: Union[Dict, List[Dict]], record_path: Union[str, List, NoneType] = None, meta: Union[str, List, NoneType] = None, meta_prefix: Union[str, NoneType] = None, record_prefix: Union[str, NoneType] = None, errors: Union[str, NoneType] = 'raise', sep: str = '.', max_level: Union[int, NoneType] = None)>"
      ]
     },
     "execution_count": 9,
     "metadata": {},
     "output_type": "execute_result"
    }
   ],
   "source": [
    "pd.io.json.json_normalize"
   ]
  },
  {
   "cell_type": "code",
   "execution_count": 10,
   "metadata": {},
   "outputs": [
    {
     "data": {
      "text/html": [
       "<div>\n",
       "<style scoped>\n",
       "    .dataframe tbody tr th:only-of-type {\n",
       "        vertical-align: middle;\n",
       "    }\n",
       "\n",
       "    .dataframe tbody tr th {\n",
       "        vertical-align: top;\n",
       "    }\n",
       "\n",
       "    .dataframe thead th {\n",
       "        text-align: right;\n",
       "    }\n",
       "</style>\n",
       "<table border=\"1\" class=\"dataframe\">\n",
       "  <thead>\n",
       "    <tr style=\"text-align: right;\">\n",
       "      <th></th>\n",
       "      <th>id</th>\n",
       "      <th>id_str</th>\n",
       "      <th>name</th>\n",
       "      <th>screen_name</th>\n",
       "      <th>location</th>\n",
       "      <th>description</th>\n",
       "      <th>url</th>\n",
       "      <th>entities</th>\n",
       "      <th>protected</th>\n",
       "      <th>followers_count</th>\n",
       "      <th>...</th>\n",
       "      <th>followed_by</th>\n",
       "      <th>following</th>\n",
       "      <th>live_following</th>\n",
       "      <th>follow_request_sent</th>\n",
       "      <th>notifications</th>\n",
       "      <th>muting</th>\n",
       "      <th>blocking</th>\n",
       "      <th>blocked_by</th>\n",
       "      <th>translator_type</th>\n",
       "      <th>profile_banner_url</th>\n",
       "    </tr>\n",
       "  </thead>\n",
       "  <tbody>\n",
       "    <tr>\n",
       "      <th>0</th>\n",
       "      <td>295827245</td>\n",
       "      <td>295827245</td>\n",
       "      <td>Antonio Rodriguez</td>\n",
       "      <td>rod_ant</td>\n",
       "      <td>Madrid, Comunidad de Madrid</td>\n",
       "      <td>Dad, husband, engineer.\\nI work for @AWSCloud ...</td>\n",
       "      <td>None</td>\n",
       "      <td>{'description': {'urls': []}}</td>\n",
       "      <td>False</td>\n",
       "      <td>263</td>\n",
       "      <td>...</td>\n",
       "      <td>True</td>\n",
       "      <td>True</td>\n",
       "      <td>False</td>\n",
       "      <td>False</td>\n",
       "      <td>False</td>\n",
       "      <td>False</td>\n",
       "      <td>False</td>\n",
       "      <td>False</td>\n",
       "      <td>none</td>\n",
       "      <td>NaN</td>\n",
       "    </tr>\n",
       "    <tr>\n",
       "      <th>1</th>\n",
       "      <td>4382409088</td>\n",
       "      <td>4382409088</td>\n",
       "      <td>Cristina Ruiz Aranda</td>\n",
       "      <td>cris_ruar</td>\n",
       "      <td></td>\n",
       "      <td></td>\n",
       "      <td>None</td>\n",
       "      <td>{'description': {'urls': []}}</td>\n",
       "      <td>False</td>\n",
       "      <td>11</td>\n",
       "      <td>...</td>\n",
       "      <td>True</td>\n",
       "      <td>False</td>\n",
       "      <td>False</td>\n",
       "      <td>False</td>\n",
       "      <td>False</td>\n",
       "      <td>False</td>\n",
       "      <td>False</td>\n",
       "      <td>False</td>\n",
       "      <td>none</td>\n",
       "      <td>NaN</td>\n",
       "    </tr>\n",
       "    <tr>\n",
       "      <th>2</th>\n",
       "      <td>227628917</td>\n",
       "      <td>227628917</td>\n",
       "      <td>Álvaro Robles</td>\n",
       "      <td>deobriga01</td>\n",
       "      <td>localhost</td>\n",
       "      <td></td>\n",
       "      <td>None</td>\n",
       "      <td>{'description': {'urls': []}}</td>\n",
       "      <td>True</td>\n",
       "      <td>166</td>\n",
       "      <td>...</td>\n",
       "      <td>True</td>\n",
       "      <td>False</td>\n",
       "      <td>False</td>\n",
       "      <td>False</td>\n",
       "      <td>False</td>\n",
       "      <td>False</td>\n",
       "      <td>False</td>\n",
       "      <td>False</td>\n",
       "      <td>none</td>\n",
       "      <td>https://pbs.twimg.com/profile_banners/22762891...</td>\n",
       "    </tr>\n",
       "    <tr>\n",
       "      <th>3</th>\n",
       "      <td>1397866512</td>\n",
       "      <td>1397866512</td>\n",
       "      <td>Fran Tamarit</td>\n",
       "      <td>FcoTamarit</td>\n",
       "      <td>Spain</td>\n",
       "      <td>Curious individual working in Fintech. Views a...</td>\n",
       "      <td>https://t.co/pqDYRhkA9o</td>\n",
       "      <td>{'url': {'urls': [{'url': 'https://t.co/pqDYRh...</td>\n",
       "      <td>False</td>\n",
       "      <td>19</td>\n",
       "      <td>...</td>\n",
       "      <td>True</td>\n",
       "      <td>False</td>\n",
       "      <td>False</td>\n",
       "      <td>False</td>\n",
       "      <td>False</td>\n",
       "      <td>False</td>\n",
       "      <td>False</td>\n",
       "      <td>False</td>\n",
       "      <td>none</td>\n",
       "      <td>NaN</td>\n",
       "    </tr>\n",
       "    <tr>\n",
       "      <th>4</th>\n",
       "      <td>2884749510</td>\n",
       "      <td>2884749510</td>\n",
       "      <td>Jesús Figueres</td>\n",
       "      <td>jesusfigueres</td>\n",
       "      <td>Madrid</td>\n",
       "      <td>#AI4Good enthusiast, #DevelopmentEconomics res...</td>\n",
       "      <td>None</td>\n",
       "      <td>{'description': {'urls': []}}</td>\n",
       "      <td>False</td>\n",
       "      <td>177</td>\n",
       "      <td>...</td>\n",
       "      <td>True</td>\n",
       "      <td>True</td>\n",
       "      <td>False</td>\n",
       "      <td>False</td>\n",
       "      <td>False</td>\n",
       "      <td>False</td>\n",
       "      <td>False</td>\n",
       "      <td>False</td>\n",
       "      <td>none</td>\n",
       "      <td>https://pbs.twimg.com/profile_banners/28847495...</td>\n",
       "    </tr>\n",
       "  </tbody>\n",
       "</table>\n",
       "<p>5 rows × 49 columns</p>\n",
       "</div>"
      ],
      "text/plain": [
       "           id      id_str                  name    screen_name  \\\n",
       "0   295827245   295827245     Antonio Rodriguez        rod_ant   \n",
       "1  4382409088  4382409088  Cristina Ruiz Aranda      cris_ruar   \n",
       "2   227628917   227628917         Álvaro Robles     deobriga01   \n",
       "3  1397866512  1397866512          Fran Tamarit     FcoTamarit   \n",
       "4  2884749510  2884749510        Jesús Figueres  jesusfigueres   \n",
       "\n",
       "                      location  \\\n",
       "0  Madrid, Comunidad de Madrid   \n",
       "1                                \n",
       "2                    localhost   \n",
       "3                        Spain   \n",
       "4                       Madrid   \n",
       "\n",
       "                                         description                      url  \\\n",
       "0  Dad, husband, engineer.\\nI work for @AWSCloud ...                     None   \n",
       "1                                                                        None   \n",
       "2                                                                        None   \n",
       "3  Curious individual working in Fintech. Views a...  https://t.co/pqDYRhkA9o   \n",
       "4  #AI4Good enthusiast, #DevelopmentEconomics res...                     None   \n",
       "\n",
       "                                            entities  protected  \\\n",
       "0                      {'description': {'urls': []}}      False   \n",
       "1                      {'description': {'urls': []}}      False   \n",
       "2                      {'description': {'urls': []}}       True   \n",
       "3  {'url': {'urls': [{'url': 'https://t.co/pqDYRh...      False   \n",
       "4                      {'description': {'urls': []}}      False   \n",
       "\n",
       "   followers_count  ...  followed_by  following live_following  \\\n",
       "0              263  ...         True       True          False   \n",
       "1               11  ...         True      False          False   \n",
       "2              166  ...         True      False          False   \n",
       "3               19  ...         True      False          False   \n",
       "4              177  ...         True       True          False   \n",
       "\n",
       "   follow_request_sent notifications muting  blocking  blocked_by  \\\n",
       "0                False         False  False     False       False   \n",
       "1                False         False  False     False       False   \n",
       "2                False         False  False     False       False   \n",
       "3                False         False  False     False       False   \n",
       "4                False         False  False     False       False   \n",
       "\n",
       "   translator_type                                 profile_banner_url  \n",
       "0             none                                                NaN  \n",
       "1             none                                                NaN  \n",
       "2             none  https://pbs.twimg.com/profile_banners/22762891...  \n",
       "3             none                                                NaN  \n",
       "4             none  https://pbs.twimg.com/profile_banners/28847495...  \n",
       "\n",
       "[5 rows x 49 columns]"
      ]
     },
     "execution_count": 10,
     "metadata": {},
     "output_type": "execute_result"
    }
   ],
   "source": [
    "def get_followers(user, count=100):\n",
    "    results = api.followers(user, count=count)\n",
    "    followers = [pd.Series(follower._json) for follower in results]\n",
    "    df = pd.DataFrame(followers)\n",
    "    return df\n",
    "\n",
    "gurus_followers = get_followers('@thegurusteam', count=5)\n",
    "gurus_followers.head()"
   ]
  },
  {
   "cell_type": "code",
   "execution_count": 11,
   "metadata": {},
   "outputs": [
    {
     "data": {
      "text/html": [
       "<div>\n",
       "<style scoped>\n",
       "    .dataframe tbody tr th:only-of-type {\n",
       "        vertical-align: middle;\n",
       "    }\n",
       "\n",
       "    .dataframe tbody tr th {\n",
       "        vertical-align: top;\n",
       "    }\n",
       "\n",
       "    .dataframe thead th {\n",
       "        text-align: right;\n",
       "    }\n",
       "</style>\n",
       "<table border=\"1\" class=\"dataframe\">\n",
       "  <thead>\n",
       "    <tr style=\"text-align: right;\">\n",
       "      <th></th>\n",
       "      <th>id</th>\n",
       "      <th>id_str</th>\n",
       "      <th>name</th>\n",
       "      <th>screen_name</th>\n",
       "      <th>location</th>\n",
       "      <th>description</th>\n",
       "      <th>url</th>\n",
       "      <th>protected</th>\n",
       "      <th>followers_count</th>\n",
       "      <th>friends_count</th>\n",
       "      <th>...</th>\n",
       "      <th>status.coordinates</th>\n",
       "      <th>status.place</th>\n",
       "      <th>status.contributors</th>\n",
       "      <th>status.is_quote_status</th>\n",
       "      <th>status.retweet_count</th>\n",
       "      <th>status.favorite_count</th>\n",
       "      <th>status.favorited</th>\n",
       "      <th>status.retweeted</th>\n",
       "      <th>status.possibly_sensitive</th>\n",
       "      <th>status.lang</th>\n",
       "    </tr>\n",
       "  </thead>\n",
       "  <tbody>\n",
       "    <tr>\n",
       "      <th>0</th>\n",
       "      <td>1194702871666864129</td>\n",
       "      <td>1194702871666864129</td>\n",
       "      <td>Noticias Trading</td>\n",
       "      <td>NoticiasTrading</td>\n",
       "      <td></td>\n",
       "      <td>Economía, criptomonedas, forex y más para tu l...</td>\n",
       "      <td>https://t.co/6INquV1Bwj</td>\n",
       "      <td>False</td>\n",
       "      <td>341</td>\n",
       "      <td>1041</td>\n",
       "      <td>...</td>\n",
       "      <td>None</td>\n",
       "      <td>None</td>\n",
       "      <td>None</td>\n",
       "      <td>False</td>\n",
       "      <td>0</td>\n",
       "      <td>1</td>\n",
       "      <td>False</td>\n",
       "      <td>False</td>\n",
       "      <td>False</td>\n",
       "      <td>es</td>\n",
       "    </tr>\n",
       "    <tr>\n",
       "      <th>1</th>\n",
       "      <td>1125559764883320832</td>\n",
       "      <td>1125559764883320832</td>\n",
       "      <td>LeandroBolsa</td>\n",
       "      <td>LeandroBolsa</td>\n",
       "      <td></td>\n",
       "      <td>Opiniones y comentarios acerca de los mercados</td>\n",
       "      <td>https://t.co/MXcVylmACg</td>\n",
       "      <td>False</td>\n",
       "      <td>102</td>\n",
       "      <td>512</td>\n",
       "      <td>...</td>\n",
       "      <td>None</td>\n",
       "      <td>None</td>\n",
       "      <td>None</td>\n",
       "      <td>False</td>\n",
       "      <td>0</td>\n",
       "      <td>0</td>\n",
       "      <td>False</td>\n",
       "      <td>False</td>\n",
       "      <td>False</td>\n",
       "      <td>pt</td>\n",
       "    </tr>\n",
       "  </tbody>\n",
       "</table>\n",
       "<p>2 rows × 74 columns</p>\n",
       "</div>"
      ],
      "text/plain": [
       "                    id               id_str              name  \\\n",
       "0  1194702871666864129  1194702871666864129  Noticias Trading   \n",
       "1  1125559764883320832  1125559764883320832      LeandroBolsa   \n",
       "\n",
       "       screen_name location  \\\n",
       "0  NoticiasTrading            \n",
       "1     LeandroBolsa            \n",
       "\n",
       "                                         description                      url  \\\n",
       "0  Economía, criptomonedas, forex y más para tu l...  https://t.co/6INquV1Bwj   \n",
       "1     Opiniones y comentarios acerca de los mercados  https://t.co/MXcVylmACg   \n",
       "\n",
       "   protected  followers_count  friends_count  ...  status.coordinates  \\\n",
       "0      False              341           1041  ...                None   \n",
       "1      False              102            512  ...                None   \n",
       "\n",
       "  status.place  status.contributors status.is_quote_status  \\\n",
       "0         None                 None                  False   \n",
       "1         None                 None                  False   \n",
       "\n",
       "  status.retweet_count  status.favorite_count  status.favorited  \\\n",
       "0                    0                      1             False   \n",
       "1                    0                      0             False   \n",
       "\n",
       "   status.retweeted status.possibly_sensitive  status.lang  \n",
       "0             False                     False           es  \n",
       "1             False                     False           pt  \n",
       "\n",
       "[2 rows x 74 columns]"
      ]
     },
     "execution_count": 11,
     "metadata": {},
     "output_type": "execute_result"
    }
   ],
   "source": [
    "from pandas.io.json import json_normalize\n",
    "\n",
    "json_response = [follower._json for follower in followers]\n",
    "flattened_data = json_normalize(json_response)\n",
    "\n",
    "flattened_data"
   ]
  },
  {
   "cell_type": "markdown",
   "metadata": {},
   "source": [
    "## Interact with tweets"
   ]
  },
  {
   "cell_type": "code",
   "execution_count": 12,
   "metadata": {},
   "outputs": [
    {
     "data": {
      "text/plain": [
       "<tweepy.cursor.ItemIterator at 0x7fbc9ab71550>"
      ]
     },
     "execution_count": 12,
     "metadata": {},
     "output_type": "execute_result"
    }
   ],
   "source": [
    "tweepy.Cursor(api.user_timeline,\n",
    "              screen_name='@thegurusteam',\n",
    "              tweet_mode='extended',\n",
    "              exclude_replies=True).items(5)"
   ]
  },
  {
   "cell_type": "code",
   "execution_count": 25,
   "metadata": {},
   "outputs": [],
   "source": [
    "tweets = [tweet for tweet in tweepy.Cursor(api.user_timeline,\n",
    "                                           screen_name='@herreradelduque',\n",
    "                                           tweet_mode='extended',\n",
    "                                           exclude_replies=True).items(5)]"
   ]
  },
  {
   "cell_type": "code",
   "execution_count": 28,
   "metadata": {},
   "outputs": [
    {
     "data": {
      "text/plain": [
       "Status(_api=<tweepy.api.API object at 0x7fbcd85ef890>, _json={'created_at': 'Sat Nov 30 07:39:53 +0000 2019', 'id': 1200680835428618240, 'id_str': '1200680835428618240', 'full_text': 'Pablo Iglesias e Irene Montero: niñera, escolta-recadera, chalé... el ascenso de los líderes de Unidas Podemos\\n@elmundoes\\nhttps://t.co/QN6Ivqqwr5', 'truncated': False, 'display_text_range': [0, 145], 'entities': {'hashtags': [], 'symbols': [], 'user_mentions': [{'screen_name': 'elmundoes', 'name': 'EL MUNDO', 'id': 14436030, 'id_str': '14436030', 'indices': [111, 121]}], 'urls': [{'url': 'https://t.co/QN6Ivqqwr5', 'expanded_url': 'https://www.elmundo.es/loc/famosos/2019/11/30/5de104c921efa038118b4571.html', 'display_url': 'elmundo.es/loc/famosos/20…', 'indices': [122, 145]}]}, 'source': '<a href=\"http://twitter.com/download/iphone\" rel=\"nofollow\">Twitter for iPhone</a>', 'in_reply_to_status_id': None, 'in_reply_to_status_id_str': None, 'in_reply_to_user_id': None, 'in_reply_to_user_id_str': None, 'in_reply_to_screen_name': None, 'user': {'id': 257955411, 'id_str': '257955411', 'name': 'Víctor Galán', 'screen_name': 'herreradelduque', 'location': 'Madrid', 'description': '#HackingTime 👨🏻\\u200d💻☕️', 'url': None, 'entities': {'description': {'urls': []}}, 'protected': False, 'followers_count': 1570, 'friends_count': 3361, 'listed_count': 29, 'created_at': 'Sat Feb 26 17:02:22 +0000 2011', 'favourites_count': 4351, 'utc_offset': None, 'time_zone': None, 'geo_enabled': True, 'verified': False, 'statuses_count': 6414, 'lang': None, 'contributors_enabled': False, 'is_translator': False, 'is_translation_enabled': False, 'profile_background_color': '091304', 'profile_background_image_url': 'http://abs.twimg.com/images/themes/theme1/bg.png', 'profile_background_image_url_https': 'https://abs.twimg.com/images/themes/theme1/bg.png', 'profile_background_tile': False, 'profile_image_url': 'http://pbs.twimg.com/profile_images/1187978256496111616/01ZOAlDq_normal.jpg', 'profile_image_url_https': 'https://pbs.twimg.com/profile_images/1187978256496111616/01ZOAlDq_normal.jpg', 'profile_banner_url': 'https://pbs.twimg.com/profile_banners/257955411/1354486616', 'profile_link_color': '7D7D7D', 'profile_sidebar_border_color': 'FFFFFF', 'profile_sidebar_fill_color': '262626', 'profile_text_color': '696545', 'profile_use_background_image': True, 'has_extended_profile': True, 'default_profile': False, 'default_profile_image': False, 'can_media_tag': True, 'followed_by': True, 'following': False, 'follow_request_sent': False, 'notifications': False, 'translator_type': 'none'}, 'geo': None, 'coordinates': None, 'place': None, 'contributors': None, 'is_quote_status': False, 'retweet_count': 1, 'favorite_count': 2, 'favorited': False, 'retweeted': False, 'possibly_sensitive': False, 'lang': 'es'}, created_at=datetime.datetime(2019, 11, 30, 7, 39, 53), id=1200680835428618240, id_str='1200680835428618240', full_text='Pablo Iglesias e Irene Montero: niñera, escolta-recadera, chalé... el ascenso de los líderes de Unidas Podemos\\n@elmundoes\\nhttps://t.co/QN6Ivqqwr5', truncated=False, display_text_range=[0, 145], entities={'hashtags': [], 'symbols': [], 'user_mentions': [{'screen_name': 'elmundoes', 'name': 'EL MUNDO', 'id': 14436030, 'id_str': '14436030', 'indices': [111, 121]}], 'urls': [{'url': 'https://t.co/QN6Ivqqwr5', 'expanded_url': 'https://www.elmundo.es/loc/famosos/2019/11/30/5de104c921efa038118b4571.html', 'display_url': 'elmundo.es/loc/famosos/20…', 'indices': [122, 145]}]}, source='Twitter for iPhone', source_url='http://twitter.com/download/iphone', in_reply_to_status_id=None, in_reply_to_status_id_str=None, in_reply_to_user_id=None, in_reply_to_user_id_str=None, in_reply_to_screen_name=None, author=User(_api=<tweepy.api.API object at 0x7fbcd85ef890>, _json={'id': 257955411, 'id_str': '257955411', 'name': 'Víctor Galán', 'screen_name': 'herreradelduque', 'location': 'Madrid', 'description': '#HackingTime 👨🏻\\u200d💻☕️', 'url': None, 'entities': {'description': {'urls': []}}, 'protected': False, 'followers_count': 1570, 'friends_count': 3361, 'listed_count': 29, 'created_at': 'Sat Feb 26 17:02:22 +0000 2011', 'favourites_count': 4351, 'utc_offset': None, 'time_zone': None, 'geo_enabled': True, 'verified': False, 'statuses_count': 6414, 'lang': None, 'contributors_enabled': False, 'is_translator': False, 'is_translation_enabled': False, 'profile_background_color': '091304', 'profile_background_image_url': 'http://abs.twimg.com/images/themes/theme1/bg.png', 'profile_background_image_url_https': 'https://abs.twimg.com/images/themes/theme1/bg.png', 'profile_background_tile': False, 'profile_image_url': 'http://pbs.twimg.com/profile_images/1187978256496111616/01ZOAlDq_normal.jpg', 'profile_image_url_https': 'https://pbs.twimg.com/profile_images/1187978256496111616/01ZOAlDq_normal.jpg', 'profile_banner_url': 'https://pbs.twimg.com/profile_banners/257955411/1354486616', 'profile_link_color': '7D7D7D', 'profile_sidebar_border_color': 'FFFFFF', 'profile_sidebar_fill_color': '262626', 'profile_text_color': '696545', 'profile_use_background_image': True, 'has_extended_profile': True, 'default_profile': False, 'default_profile_image': False, 'can_media_tag': True, 'followed_by': True, 'following': False, 'follow_request_sent': False, 'notifications': False, 'translator_type': 'none'}, id=257955411, id_str='257955411', name='Víctor Galán', screen_name='herreradelduque', location='Madrid', description='#HackingTime 👨🏻\\u200d💻☕️', url=None, entities={'description': {'urls': []}}, protected=False, followers_count=1570, friends_count=3361, listed_count=29, created_at=datetime.datetime(2011, 2, 26, 17, 2, 22), favourites_count=4351, utc_offset=None, time_zone=None, geo_enabled=True, verified=False, statuses_count=6414, lang=None, contributors_enabled=False, is_translator=False, is_translation_enabled=False, profile_background_color='091304', profile_background_image_url='http://abs.twimg.com/images/themes/theme1/bg.png', profile_background_image_url_https='https://abs.twimg.com/images/themes/theme1/bg.png', profile_background_tile=False, profile_image_url='http://pbs.twimg.com/profile_images/1187978256496111616/01ZOAlDq_normal.jpg', profile_image_url_https='https://pbs.twimg.com/profile_images/1187978256496111616/01ZOAlDq_normal.jpg', profile_banner_url='https://pbs.twimg.com/profile_banners/257955411/1354486616', profile_link_color='7D7D7D', profile_sidebar_border_color='FFFFFF', profile_sidebar_fill_color='262626', profile_text_color='696545', profile_use_background_image=True, has_extended_profile=True, default_profile=False, default_profile_image=False, can_media_tag=True, followed_by=True, following=False, follow_request_sent=False, notifications=False, translator_type='none'), user=User(_api=<tweepy.api.API object at 0x7fbcd85ef890>, _json={'id': 257955411, 'id_str': '257955411', 'name': 'Víctor Galán', 'screen_name': 'herreradelduque', 'location': 'Madrid', 'description': '#HackingTime 👨🏻\\u200d💻☕️', 'url': None, 'entities': {'description': {'urls': []}}, 'protected': False, 'followers_count': 1570, 'friends_count': 3361, 'listed_count': 29, 'created_at': 'Sat Feb 26 17:02:22 +0000 2011', 'favourites_count': 4351, 'utc_offset': None, 'time_zone': None, 'geo_enabled': True, 'verified': False, 'statuses_count': 6414, 'lang': None, 'contributors_enabled': False, 'is_translator': False, 'is_translation_enabled': False, 'profile_background_color': '091304', 'profile_background_image_url': 'http://abs.twimg.com/images/themes/theme1/bg.png', 'profile_background_image_url_https': 'https://abs.twimg.com/images/themes/theme1/bg.png', 'profile_background_tile': False, 'profile_image_url': 'http://pbs.twimg.com/profile_images/1187978256496111616/01ZOAlDq_normal.jpg', 'profile_image_url_https': 'https://pbs.twimg.com/profile_images/1187978256496111616/01ZOAlDq_normal.jpg', 'profile_banner_url': 'https://pbs.twimg.com/profile_banners/257955411/1354486616', 'profile_link_color': '7D7D7D', 'profile_sidebar_border_color': 'FFFFFF', 'profile_sidebar_fill_color': '262626', 'profile_text_color': '696545', 'profile_use_background_image': True, 'has_extended_profile': True, 'default_profile': False, 'default_profile_image': False, 'can_media_tag': True, 'followed_by': True, 'following': False, 'follow_request_sent': False, 'notifications': False, 'translator_type': 'none'}, id=257955411, id_str='257955411', name='Víctor Galán', screen_name='herreradelduque', location='Madrid', description='#HackingTime 👨🏻\\u200d💻☕️', url=None, entities={'description': {'urls': []}}, protected=False, followers_count=1570, friends_count=3361, listed_count=29, created_at=datetime.datetime(2011, 2, 26, 17, 2, 22), favourites_count=4351, utc_offset=None, time_zone=None, geo_enabled=True, verified=False, statuses_count=6414, lang=None, contributors_enabled=False, is_translator=False, is_translation_enabled=False, profile_background_color='091304', profile_background_image_url='http://abs.twimg.com/images/themes/theme1/bg.png', profile_background_image_url_https='https://abs.twimg.com/images/themes/theme1/bg.png', profile_background_tile=False, profile_image_url='http://pbs.twimg.com/profile_images/1187978256496111616/01ZOAlDq_normal.jpg', profile_image_url_https='https://pbs.twimg.com/profile_images/1187978256496111616/01ZOAlDq_normal.jpg', profile_banner_url='https://pbs.twimg.com/profile_banners/257955411/1354486616', profile_link_color='7D7D7D', profile_sidebar_border_color='FFFFFF', profile_sidebar_fill_color='262626', profile_text_color='696545', profile_use_background_image=True, has_extended_profile=True, default_profile=False, default_profile_image=False, can_media_tag=True, followed_by=True, following=False, follow_request_sent=False, notifications=False, translator_type='none'), geo=None, coordinates=None, place=None, contributors=None, is_quote_status=False, retweet_count=1, favorite_count=2, favorited=False, retweeted=False, possibly_sensitive=False, lang='es')"
      ]
     },
     "execution_count": 28,
     "metadata": {},
     "output_type": "execute_result"
    }
   ],
   "source": [
    "tweets[2]"
   ]
  },
  {
   "cell_type": "code",
   "execution_count": 29,
   "metadata": {},
   "outputs": [
    {
     "data": {
      "text/plain": [
       "{'created_at': 'Sat Nov 30 07:39:53 +0000 2019',\n",
       " 'id': 1200680835428618240,\n",
       " 'id_str': '1200680835428618240',\n",
       " 'full_text': 'Pablo Iglesias e Irene Montero: niñera, escolta-recadera, chalé... el ascenso de los líderes de Unidas Podemos\\n@elmundoes\\nhttps://t.co/QN6Ivqqwr5',\n",
       " 'truncated': False,\n",
       " 'display_text_range': [0, 145],\n",
       " 'entities': {'hashtags': [],\n",
       "  'symbols': [],\n",
       "  'user_mentions': [{'screen_name': 'elmundoes',\n",
       "    'name': 'EL MUNDO',\n",
       "    'id': 14436030,\n",
       "    'id_str': '14436030',\n",
       "    'indices': [111, 121]}],\n",
       "  'urls': [{'url': 'https://t.co/QN6Ivqqwr5',\n",
       "    'expanded_url': 'https://www.elmundo.es/loc/famosos/2019/11/30/5de104c921efa038118b4571.html',\n",
       "    'display_url': 'elmundo.es/loc/famosos/20…',\n",
       "    'indices': [122, 145]}]},\n",
       " 'source': '<a href=\"http://twitter.com/download/iphone\" rel=\"nofollow\">Twitter for iPhone</a>',\n",
       " 'in_reply_to_status_id': None,\n",
       " 'in_reply_to_status_id_str': None,\n",
       " 'in_reply_to_user_id': None,\n",
       " 'in_reply_to_user_id_str': None,\n",
       " 'in_reply_to_screen_name': None,\n",
       " 'user': {'id': 257955411,\n",
       "  'id_str': '257955411',\n",
       "  'name': 'Víctor Galán',\n",
       "  'screen_name': 'herreradelduque',\n",
       "  'location': 'Madrid',\n",
       "  'description': '#HackingTime 👨🏻\\u200d💻☕️',\n",
       "  'url': None,\n",
       "  'entities': {'description': {'urls': []}},\n",
       "  'protected': False,\n",
       "  'followers_count': 1570,\n",
       "  'friends_count': 3361,\n",
       "  'listed_count': 29,\n",
       "  'created_at': 'Sat Feb 26 17:02:22 +0000 2011',\n",
       "  'favourites_count': 4351,\n",
       "  'utc_offset': None,\n",
       "  'time_zone': None,\n",
       "  'geo_enabled': True,\n",
       "  'verified': False,\n",
       "  'statuses_count': 6414,\n",
       "  'lang': None,\n",
       "  'contributors_enabled': False,\n",
       "  'is_translator': False,\n",
       "  'is_translation_enabled': False,\n",
       "  'profile_background_color': '091304',\n",
       "  'profile_background_image_url': 'http://abs.twimg.com/images/themes/theme1/bg.png',\n",
       "  'profile_background_image_url_https': 'https://abs.twimg.com/images/themes/theme1/bg.png',\n",
       "  'profile_background_tile': False,\n",
       "  'profile_image_url': 'http://pbs.twimg.com/profile_images/1187978256496111616/01ZOAlDq_normal.jpg',\n",
       "  'profile_image_url_https': 'https://pbs.twimg.com/profile_images/1187978256496111616/01ZOAlDq_normal.jpg',\n",
       "  'profile_banner_url': 'https://pbs.twimg.com/profile_banners/257955411/1354486616',\n",
       "  'profile_link_color': '7D7D7D',\n",
       "  'profile_sidebar_border_color': 'FFFFFF',\n",
       "  'profile_sidebar_fill_color': '262626',\n",
       "  'profile_text_color': '696545',\n",
       "  'profile_use_background_image': True,\n",
       "  'has_extended_profile': True,\n",
       "  'default_profile': False,\n",
       "  'default_profile_image': False,\n",
       "  'can_media_tag': True,\n",
       "  'followed_by': True,\n",
       "  'following': False,\n",
       "  'follow_request_sent': False,\n",
       "  'notifications': False,\n",
       "  'translator_type': 'none'},\n",
       " 'geo': None,\n",
       " 'coordinates': None,\n",
       " 'place': None,\n",
       " 'contributors': None,\n",
       " 'is_quote_status': False,\n",
       " 'retweet_count': 1,\n",
       " 'favorite_count': 2,\n",
       " 'favorited': False,\n",
       " 'retweeted': False,\n",
       " 'possibly_sensitive': False,\n",
       " 'lang': 'es'}"
      ]
     },
     "execution_count": 29,
     "metadata": {},
     "output_type": "execute_result"
    }
   ],
   "source": [
    "tweets[2]._json"
   ]
  },
  {
   "cell_type": "code",
   "execution_count": 30,
   "metadata": {},
   "outputs": [
    {
     "data": {
      "text/plain": [
       "'EL MUNDO'"
      ]
     },
     "execution_count": 30,
     "metadata": {},
     "output_type": "execute_result"
    }
   ],
   "source": [
    "tweets[2]._json['entities']['user_mentions'][0]['name']"
   ]
  },
  {
   "cell_type": "code",
   "execution_count": 31,
   "metadata": {},
   "outputs": [
    {
     "data": {
      "text/plain": [
       "1200680835428618240"
      ]
     },
     "execution_count": 31,
     "metadata": {},
     "output_type": "execute_result"
    }
   ],
   "source": [
    "tweet_id = tweets[2]._json['id']\n",
    "\n",
    "tweet_id"
   ]
  },
  {
   "cell_type": "code",
   "execution_count": 32,
   "metadata": {},
   "outputs": [
    {
     "data": {
      "text/plain": [
       "Status(_api=<tweepy.api.API object at 0x7fbcd85ef890>, _json={'created_at': 'Sat Nov 30 07:39:53 +0000 2019', 'id': 1200680835428618240, 'id_str': '1200680835428618240', 'text': 'Pablo Iglesias e Irene Montero: niñera, escolta-recadera, chalé... el ascenso de los líderes de Unidas Podemos… https://t.co/gBtQCz7JbB', 'truncated': True, 'entities': {'hashtags': [], 'symbols': [], 'user_mentions': [], 'urls': [{'url': 'https://t.co/gBtQCz7JbB', 'expanded_url': 'https://twitter.com/i/web/status/1200680835428618240', 'display_url': 'twitter.com/i/web/status/1…', 'indices': [112, 135]}]}, 'source': '<a href=\"http://twitter.com/download/iphone\" rel=\"nofollow\">Twitter for iPhone</a>', 'in_reply_to_status_id': None, 'in_reply_to_status_id_str': None, 'in_reply_to_user_id': None, 'in_reply_to_user_id_str': None, 'in_reply_to_screen_name': None, 'user': {'id': 257955411, 'id_str': '257955411', 'name': 'Víctor Galán', 'screen_name': 'herreradelduque', 'location': 'Madrid', 'description': '#HackingTime 👨🏻\\u200d💻☕️', 'url': None, 'entities': {'description': {'urls': []}}, 'protected': False, 'followers_count': 1570, 'friends_count': 3361, 'listed_count': 29, 'created_at': 'Sat Feb 26 17:02:22 +0000 2011', 'favourites_count': 4351, 'utc_offset': None, 'time_zone': None, 'geo_enabled': True, 'verified': False, 'statuses_count': 6414, 'lang': None, 'contributors_enabled': False, 'is_translator': False, 'is_translation_enabled': False, 'profile_background_color': '091304', 'profile_background_image_url': 'http://abs.twimg.com/images/themes/theme1/bg.png', 'profile_background_image_url_https': 'https://abs.twimg.com/images/themes/theme1/bg.png', 'profile_background_tile': False, 'profile_image_url': 'http://pbs.twimg.com/profile_images/1187978256496111616/01ZOAlDq_normal.jpg', 'profile_image_url_https': 'https://pbs.twimg.com/profile_images/1187978256496111616/01ZOAlDq_normal.jpg', 'profile_banner_url': 'https://pbs.twimg.com/profile_banners/257955411/1354486616', 'profile_link_color': '7D7D7D', 'profile_sidebar_border_color': 'FFFFFF', 'profile_sidebar_fill_color': '262626', 'profile_text_color': '696545', 'profile_use_background_image': True, 'has_extended_profile': True, 'default_profile': False, 'default_profile_image': False, 'can_media_tag': True, 'followed_by': True, 'following': False, 'follow_request_sent': False, 'notifications': False, 'translator_type': 'none'}, 'geo': None, 'coordinates': None, 'place': None, 'contributors': None, 'is_quote_status': False, 'retweet_count': 1, 'favorite_count': 3, 'favorited': True, 'retweeted': False, 'possibly_sensitive': False, 'lang': 'es'}, created_at=datetime.datetime(2019, 11, 30, 7, 39, 53), id=1200680835428618240, id_str='1200680835428618240', text='Pablo Iglesias e Irene Montero: niñera, escolta-recadera, chalé... el ascenso de los líderes de Unidas Podemos… https://t.co/gBtQCz7JbB', truncated=True, entities={'hashtags': [], 'symbols': [], 'user_mentions': [], 'urls': [{'url': 'https://t.co/gBtQCz7JbB', 'expanded_url': 'https://twitter.com/i/web/status/1200680835428618240', 'display_url': 'twitter.com/i/web/status/1…', 'indices': [112, 135]}]}, source='Twitter for iPhone', source_url='http://twitter.com/download/iphone', in_reply_to_status_id=None, in_reply_to_status_id_str=None, in_reply_to_user_id=None, in_reply_to_user_id_str=None, in_reply_to_screen_name=None, author=User(_api=<tweepy.api.API object at 0x7fbcd85ef890>, _json={'id': 257955411, 'id_str': '257955411', 'name': 'Víctor Galán', 'screen_name': 'herreradelduque', 'location': 'Madrid', 'description': '#HackingTime 👨🏻\\u200d💻☕️', 'url': None, 'entities': {'description': {'urls': []}}, 'protected': False, 'followers_count': 1570, 'friends_count': 3361, 'listed_count': 29, 'created_at': 'Sat Feb 26 17:02:22 +0000 2011', 'favourites_count': 4351, 'utc_offset': None, 'time_zone': None, 'geo_enabled': True, 'verified': False, 'statuses_count': 6414, 'lang': None, 'contributors_enabled': False, 'is_translator': False, 'is_translation_enabled': False, 'profile_background_color': '091304', 'profile_background_image_url': 'http://abs.twimg.com/images/themes/theme1/bg.png', 'profile_background_image_url_https': 'https://abs.twimg.com/images/themes/theme1/bg.png', 'profile_background_tile': False, 'profile_image_url': 'http://pbs.twimg.com/profile_images/1187978256496111616/01ZOAlDq_normal.jpg', 'profile_image_url_https': 'https://pbs.twimg.com/profile_images/1187978256496111616/01ZOAlDq_normal.jpg', 'profile_banner_url': 'https://pbs.twimg.com/profile_banners/257955411/1354486616', 'profile_link_color': '7D7D7D', 'profile_sidebar_border_color': 'FFFFFF', 'profile_sidebar_fill_color': '262626', 'profile_text_color': '696545', 'profile_use_background_image': True, 'has_extended_profile': True, 'default_profile': False, 'default_profile_image': False, 'can_media_tag': True, 'followed_by': True, 'following': False, 'follow_request_sent': False, 'notifications': False, 'translator_type': 'none'}, id=257955411, id_str='257955411', name='Víctor Galán', screen_name='herreradelduque', location='Madrid', description='#HackingTime 👨🏻\\u200d💻☕️', url=None, entities={'description': {'urls': []}}, protected=False, followers_count=1570, friends_count=3361, listed_count=29, created_at=datetime.datetime(2011, 2, 26, 17, 2, 22), favourites_count=4351, utc_offset=None, time_zone=None, geo_enabled=True, verified=False, statuses_count=6414, lang=None, contributors_enabled=False, is_translator=False, is_translation_enabled=False, profile_background_color='091304', profile_background_image_url='http://abs.twimg.com/images/themes/theme1/bg.png', profile_background_image_url_https='https://abs.twimg.com/images/themes/theme1/bg.png', profile_background_tile=False, profile_image_url='http://pbs.twimg.com/profile_images/1187978256496111616/01ZOAlDq_normal.jpg', profile_image_url_https='https://pbs.twimg.com/profile_images/1187978256496111616/01ZOAlDq_normal.jpg', profile_banner_url='https://pbs.twimg.com/profile_banners/257955411/1354486616', profile_link_color='7D7D7D', profile_sidebar_border_color='FFFFFF', profile_sidebar_fill_color='262626', profile_text_color='696545', profile_use_background_image=True, has_extended_profile=True, default_profile=False, default_profile_image=False, can_media_tag=True, followed_by=True, following=False, follow_request_sent=False, notifications=False, translator_type='none'), user=User(_api=<tweepy.api.API object at 0x7fbcd85ef890>, _json={'id': 257955411, 'id_str': '257955411', 'name': 'Víctor Galán', 'screen_name': 'herreradelduque', 'location': 'Madrid', 'description': '#HackingTime 👨🏻\\u200d💻☕️', 'url': None, 'entities': {'description': {'urls': []}}, 'protected': False, 'followers_count': 1570, 'friends_count': 3361, 'listed_count': 29, 'created_at': 'Sat Feb 26 17:02:22 +0000 2011', 'favourites_count': 4351, 'utc_offset': None, 'time_zone': None, 'geo_enabled': True, 'verified': False, 'statuses_count': 6414, 'lang': None, 'contributors_enabled': False, 'is_translator': False, 'is_translation_enabled': False, 'profile_background_color': '091304', 'profile_background_image_url': 'http://abs.twimg.com/images/themes/theme1/bg.png', 'profile_background_image_url_https': 'https://abs.twimg.com/images/themes/theme1/bg.png', 'profile_background_tile': False, 'profile_image_url': 'http://pbs.twimg.com/profile_images/1187978256496111616/01ZOAlDq_normal.jpg', 'profile_image_url_https': 'https://pbs.twimg.com/profile_images/1187978256496111616/01ZOAlDq_normal.jpg', 'profile_banner_url': 'https://pbs.twimg.com/profile_banners/257955411/1354486616', 'profile_link_color': '7D7D7D', 'profile_sidebar_border_color': 'FFFFFF', 'profile_sidebar_fill_color': '262626', 'profile_text_color': '696545', 'profile_use_background_image': True, 'has_extended_profile': True, 'default_profile': False, 'default_profile_image': False, 'can_media_tag': True, 'followed_by': True, 'following': False, 'follow_request_sent': False, 'notifications': False, 'translator_type': 'none'}, id=257955411, id_str='257955411', name='Víctor Galán', screen_name='herreradelduque', location='Madrid', description='#HackingTime 👨🏻\\u200d💻☕️', url=None, entities={'description': {'urls': []}}, protected=False, followers_count=1570, friends_count=3361, listed_count=29, created_at=datetime.datetime(2011, 2, 26, 17, 2, 22), favourites_count=4351, utc_offset=None, time_zone=None, geo_enabled=True, verified=False, statuses_count=6414, lang=None, contributors_enabled=False, is_translator=False, is_translation_enabled=False, profile_background_color='091304', profile_background_image_url='http://abs.twimg.com/images/themes/theme1/bg.png', profile_background_image_url_https='https://abs.twimg.com/images/themes/theme1/bg.png', profile_background_tile=False, profile_image_url='http://pbs.twimg.com/profile_images/1187978256496111616/01ZOAlDq_normal.jpg', profile_image_url_https='https://pbs.twimg.com/profile_images/1187978256496111616/01ZOAlDq_normal.jpg', profile_banner_url='https://pbs.twimg.com/profile_banners/257955411/1354486616', profile_link_color='7D7D7D', profile_sidebar_border_color='FFFFFF', profile_sidebar_fill_color='262626', profile_text_color='696545', profile_use_background_image=True, has_extended_profile=True, default_profile=False, default_profile_image=False, can_media_tag=True, followed_by=True, following=False, follow_request_sent=False, notifications=False, translator_type='none'), geo=None, coordinates=None, place=None, contributors=None, is_quote_status=False, retweet_count=1, favorite_count=3, favorited=True, retweeted=False, possibly_sensitive=False, lang='es')"
      ]
     },
     "execution_count": 32,
     "metadata": {},
     "output_type": "execute_result"
    }
   ],
   "source": [
    "api.create_favorite(tweet_id)"
   ]
  },
  {
   "cell_type": "code",
   "execution_count": 33,
   "metadata": {},
   "outputs": [
    {
     "data": {
      "text/plain": [
       "Status(_api=<tweepy.api.API object at 0x7fbcd85ef890>, _json={'created_at': 'Tue Dec 17 19:25:23 +0000 2019', 'id': 1207018973642067969, 'id_str': '1207018973642067969', 'text': 'RT @herreradelduque: Pablo Iglesias e Irene Montero: niñera, escolta-recadera, chalé... el ascenso de los líderes de Unidas Podemos\\n@elmund…', 'truncated': False, 'entities': {'hashtags': [], 'symbols': [], 'user_mentions': [{'screen_name': 'herreradelduque', 'name': 'Víctor Galán', 'id': 257955411, 'id_str': '257955411', 'indices': [3, 19]}], 'urls': []}, 'source': '<a href=\"https://thegurus.tech\" rel=\"nofollow\">Gurus Publisher</a>', 'in_reply_to_status_id': None, 'in_reply_to_status_id_str': None, 'in_reply_to_user_id': None, 'in_reply_to_user_id_str': None, 'in_reply_to_screen_name': None, 'user': {'id': 1117774421777887232, 'id_str': '1117774421777887232', 'name': 'The Gurus Ⓖ 🧙🧙', 'screen_name': 'TheGurusTeam', 'location': 'Madrid, Spain', 'description': '📈 Data Scientists | ⚒️ Independent Makers | Creators of: 🤐 https://t.co/3Jie12amta, 📰 https://t.co/S3NiZD7DkB |  Ambassadors for #IndieHackers in 🇪🇺🇪🇸 Madrid', 'url': 'https://t.co/UGZrUIPAbc', 'entities': {'url': {'urls': [{'url': 'https://t.co/UGZrUIPAbc', 'expanded_url': 'https://thegurus.tech', 'display_url': 'thegurus.tech', 'indices': [0, 23]}]}, 'description': {'urls': [{'url': 'https://t.co/3Jie12amta', 'expanded_url': 'http://moderator-guru.com', 'display_url': 'moderator-guru.com', 'indices': [59, 82]}, {'url': 'https://t.co/S3NiZD7DkB', 'expanded_url': 'http://datatau.net', 'display_url': 'datatau.net', 'indices': [86, 109]}]}}, 'protected': False, 'followers_count': 36, 'friends_count': 85, 'listed_count': 0, 'created_at': 'Mon Apr 15 12:59:24 +0000 2019', 'favourites_count': 180, 'utc_offset': None, 'time_zone': None, 'geo_enabled': True, 'verified': False, 'statuses_count': 201, 'lang': None, 'contributors_enabled': False, 'is_translator': False, 'is_translation_enabled': False, 'profile_background_color': '000000', 'profile_background_image_url': 'http://abs.twimg.com/images/themes/theme1/bg.png', 'profile_background_image_url_https': 'https://abs.twimg.com/images/themes/theme1/bg.png', 'profile_background_tile': False, 'profile_image_url': 'http://pbs.twimg.com/profile_images/1124016491261779968/byaJ9aWz_normal.png', 'profile_image_url_https': 'https://pbs.twimg.com/profile_images/1124016491261779968/byaJ9aWz_normal.png', 'profile_banner_url': 'https://pbs.twimg.com/profile_banners/1117774421777887232/1556880472', 'profile_link_color': '1B95E0', 'profile_sidebar_border_color': '000000', 'profile_sidebar_fill_color': '000000', 'profile_text_color': '000000', 'profile_use_background_image': False, 'has_extended_profile': True, 'default_profile': False, 'default_profile_image': False, 'can_media_tag': True, 'followed_by': False, 'following': False, 'follow_request_sent': False, 'notifications': False, 'translator_type': 'none'}, 'geo': None, 'coordinates': None, 'place': None, 'contributors': None, 'retweeted_status': {'created_at': 'Sat Nov 30 07:39:53 +0000 2019', 'id': 1200680835428618240, 'id_str': '1200680835428618240', 'text': 'Pablo Iglesias e Irene Montero: niñera, escolta-recadera, chalé... el ascenso de los líderes de Unidas Podemos… https://t.co/gBtQCz7JbB', 'truncated': True, 'entities': {'hashtags': [], 'symbols': [], 'user_mentions': [], 'urls': [{'url': 'https://t.co/gBtQCz7JbB', 'expanded_url': 'https://twitter.com/i/web/status/1200680835428618240', 'display_url': 'twitter.com/i/web/status/1…', 'indices': [112, 135]}]}, 'source': '<a href=\"http://twitter.com/download/iphone\" rel=\"nofollow\">Twitter for iPhone</a>', 'in_reply_to_status_id': None, 'in_reply_to_status_id_str': None, 'in_reply_to_user_id': None, 'in_reply_to_user_id_str': None, 'in_reply_to_screen_name': None, 'user': {'id': 257955411, 'id_str': '257955411', 'name': 'Víctor Galán', 'screen_name': 'herreradelduque', 'location': 'Madrid', 'description': '#HackingTime 👨🏻\\u200d💻☕️', 'url': None, 'entities': {'description': {'urls': []}}, 'protected': False, 'followers_count': 1570, 'friends_count': 3361, 'listed_count': 29, 'created_at': 'Sat Feb 26 17:02:22 +0000 2011', 'favourites_count': 4351, 'utc_offset': None, 'time_zone': None, 'geo_enabled': True, 'verified': False, 'statuses_count': 6414, 'lang': None, 'contributors_enabled': False, 'is_translator': False, 'is_translation_enabled': False, 'profile_background_color': '091304', 'profile_background_image_url': 'http://abs.twimg.com/images/themes/theme1/bg.png', 'profile_background_image_url_https': 'https://abs.twimg.com/images/themes/theme1/bg.png', 'profile_background_tile': False, 'profile_image_url': 'http://pbs.twimg.com/profile_images/1187978256496111616/01ZOAlDq_normal.jpg', 'profile_image_url_https': 'https://pbs.twimg.com/profile_images/1187978256496111616/01ZOAlDq_normal.jpg', 'profile_banner_url': 'https://pbs.twimg.com/profile_banners/257955411/1354486616', 'profile_link_color': '7D7D7D', 'profile_sidebar_border_color': 'FFFFFF', 'profile_sidebar_fill_color': '262626', 'profile_text_color': '696545', 'profile_use_background_image': True, 'has_extended_profile': True, 'default_profile': False, 'default_profile_image': False, 'can_media_tag': True, 'followed_by': True, 'following': False, 'follow_request_sent': False, 'notifications': False, 'translator_type': 'none'}, 'geo': None, 'coordinates': None, 'place': None, 'contributors': None, 'is_quote_status': False, 'retweet_count': 2, 'favorite_count': 3, 'favorited': True, 'retweeted': True, 'possibly_sensitive': False, 'lang': 'es'}, 'is_quote_status': False, 'retweet_count': 2, 'favorite_count': 0, 'favorited': True, 'retweeted': True, 'lang': 'es'}, created_at=datetime.datetime(2019, 12, 17, 19, 25, 23), id=1207018973642067969, id_str='1207018973642067969', text='RT @herreradelduque: Pablo Iglesias e Irene Montero: niñera, escolta-recadera, chalé... el ascenso de los líderes de Unidas Podemos\\n@elmund…', truncated=False, entities={'hashtags': [], 'symbols': [], 'user_mentions': [{'screen_name': 'herreradelduque', 'name': 'Víctor Galán', 'id': 257955411, 'id_str': '257955411', 'indices': [3, 19]}], 'urls': []}, source='Gurus Publisher', source_url='https://thegurus.tech', in_reply_to_status_id=None, in_reply_to_status_id_str=None, in_reply_to_user_id=None, in_reply_to_user_id_str=None, in_reply_to_screen_name=None, author=User(_api=<tweepy.api.API object at 0x7fbcd85ef890>, _json={'id': 1117774421777887232, 'id_str': '1117774421777887232', 'name': 'The Gurus Ⓖ 🧙🧙', 'screen_name': 'TheGurusTeam', 'location': 'Madrid, Spain', 'description': '📈 Data Scientists | ⚒️ Independent Makers | Creators of: 🤐 https://t.co/3Jie12amta, 📰 https://t.co/S3NiZD7DkB |  Ambassadors for #IndieHackers in 🇪🇺🇪🇸 Madrid', 'url': 'https://t.co/UGZrUIPAbc', 'entities': {'url': {'urls': [{'url': 'https://t.co/UGZrUIPAbc', 'expanded_url': 'https://thegurus.tech', 'display_url': 'thegurus.tech', 'indices': [0, 23]}]}, 'description': {'urls': [{'url': 'https://t.co/3Jie12amta', 'expanded_url': 'http://moderator-guru.com', 'display_url': 'moderator-guru.com', 'indices': [59, 82]}, {'url': 'https://t.co/S3NiZD7DkB', 'expanded_url': 'http://datatau.net', 'display_url': 'datatau.net', 'indices': [86, 109]}]}}, 'protected': False, 'followers_count': 36, 'friends_count': 85, 'listed_count': 0, 'created_at': 'Mon Apr 15 12:59:24 +0000 2019', 'favourites_count': 180, 'utc_offset': None, 'time_zone': None, 'geo_enabled': True, 'verified': False, 'statuses_count': 201, 'lang': None, 'contributors_enabled': False, 'is_translator': False, 'is_translation_enabled': False, 'profile_background_color': '000000', 'profile_background_image_url': 'http://abs.twimg.com/images/themes/theme1/bg.png', 'profile_background_image_url_https': 'https://abs.twimg.com/images/themes/theme1/bg.png', 'profile_background_tile': False, 'profile_image_url': 'http://pbs.twimg.com/profile_images/1124016491261779968/byaJ9aWz_normal.png', 'profile_image_url_https': 'https://pbs.twimg.com/profile_images/1124016491261779968/byaJ9aWz_normal.png', 'profile_banner_url': 'https://pbs.twimg.com/profile_banners/1117774421777887232/1556880472', 'profile_link_color': '1B95E0', 'profile_sidebar_border_color': '000000', 'profile_sidebar_fill_color': '000000', 'profile_text_color': '000000', 'profile_use_background_image': False, 'has_extended_profile': True, 'default_profile': False, 'default_profile_image': False, 'can_media_tag': True, 'followed_by': False, 'following': False, 'follow_request_sent': False, 'notifications': False, 'translator_type': 'none'}, id=1117774421777887232, id_str='1117774421777887232', name='The Gurus Ⓖ 🧙🧙', screen_name='TheGurusTeam', location='Madrid, Spain', description='📈 Data Scientists | ⚒️ Independent Makers | Creators of: 🤐 https://t.co/3Jie12amta, 📰 https://t.co/S3NiZD7DkB |  Ambassadors for #IndieHackers in 🇪🇺🇪🇸 Madrid', url='https://t.co/UGZrUIPAbc', entities={'url': {'urls': [{'url': 'https://t.co/UGZrUIPAbc', 'expanded_url': 'https://thegurus.tech', 'display_url': 'thegurus.tech', 'indices': [0, 23]}]}, 'description': {'urls': [{'url': 'https://t.co/3Jie12amta', 'expanded_url': 'http://moderator-guru.com', 'display_url': 'moderator-guru.com', 'indices': [59, 82]}, {'url': 'https://t.co/S3NiZD7DkB', 'expanded_url': 'http://datatau.net', 'display_url': 'datatau.net', 'indices': [86, 109]}]}}, protected=False, followers_count=36, friends_count=85, listed_count=0, created_at=datetime.datetime(2019, 4, 15, 12, 59, 24), favourites_count=180, utc_offset=None, time_zone=None, geo_enabled=True, verified=False, statuses_count=201, lang=None, contributors_enabled=False, is_translator=False, is_translation_enabled=False, profile_background_color='000000', profile_background_image_url='http://abs.twimg.com/images/themes/theme1/bg.png', profile_background_image_url_https='https://abs.twimg.com/images/themes/theme1/bg.png', profile_background_tile=False, profile_image_url='http://pbs.twimg.com/profile_images/1124016491261779968/byaJ9aWz_normal.png', profile_image_url_https='https://pbs.twimg.com/profile_images/1124016491261779968/byaJ9aWz_normal.png', profile_banner_url='https://pbs.twimg.com/profile_banners/1117774421777887232/1556880472', profile_link_color='1B95E0', profile_sidebar_border_color='000000', profile_sidebar_fill_color='000000', profile_text_color='000000', profile_use_background_image=False, has_extended_profile=True, default_profile=False, default_profile_image=False, can_media_tag=True, followed_by=False, following=False, follow_request_sent=False, notifications=False, translator_type='none'), user=User(_api=<tweepy.api.API object at 0x7fbcd85ef890>, _json={'id': 1117774421777887232, 'id_str': '1117774421777887232', 'name': 'The Gurus Ⓖ 🧙🧙', 'screen_name': 'TheGurusTeam', 'location': 'Madrid, Spain', 'description': '📈 Data Scientists | ⚒️ Independent Makers | Creators of: 🤐 https://t.co/3Jie12amta, 📰 https://t.co/S3NiZD7DkB |  Ambassadors for #IndieHackers in 🇪🇺🇪🇸 Madrid', 'url': 'https://t.co/UGZrUIPAbc', 'entities': {'url': {'urls': [{'url': 'https://t.co/UGZrUIPAbc', 'expanded_url': 'https://thegurus.tech', 'display_url': 'thegurus.tech', 'indices': [0, 23]}]}, 'description': {'urls': [{'url': 'https://t.co/3Jie12amta', 'expanded_url': 'http://moderator-guru.com', 'display_url': 'moderator-guru.com', 'indices': [59, 82]}, {'url': 'https://t.co/S3NiZD7DkB', 'expanded_url': 'http://datatau.net', 'display_url': 'datatau.net', 'indices': [86, 109]}]}}, 'protected': False, 'followers_count': 36, 'friends_count': 85, 'listed_count': 0, 'created_at': 'Mon Apr 15 12:59:24 +0000 2019', 'favourites_count': 180, 'utc_offset': None, 'time_zone': None, 'geo_enabled': True, 'verified': False, 'statuses_count': 201, 'lang': None, 'contributors_enabled': False, 'is_translator': False, 'is_translation_enabled': False, 'profile_background_color': '000000', 'profile_background_image_url': 'http://abs.twimg.com/images/themes/theme1/bg.png', 'profile_background_image_url_https': 'https://abs.twimg.com/images/themes/theme1/bg.png', 'profile_background_tile': False, 'profile_image_url': 'http://pbs.twimg.com/profile_images/1124016491261779968/byaJ9aWz_normal.png', 'profile_image_url_https': 'https://pbs.twimg.com/profile_images/1124016491261779968/byaJ9aWz_normal.png', 'profile_banner_url': 'https://pbs.twimg.com/profile_banners/1117774421777887232/1556880472', 'profile_link_color': '1B95E0', 'profile_sidebar_border_color': '000000', 'profile_sidebar_fill_color': '000000', 'profile_text_color': '000000', 'profile_use_background_image': False, 'has_extended_profile': True, 'default_profile': False, 'default_profile_image': False, 'can_media_tag': True, 'followed_by': False, 'following': False, 'follow_request_sent': False, 'notifications': False, 'translator_type': 'none'}, id=1117774421777887232, id_str='1117774421777887232', name='The Gurus Ⓖ 🧙🧙', screen_name='TheGurusTeam', location='Madrid, Spain', description='📈 Data Scientists | ⚒️ Independent Makers | Creators of: 🤐 https://t.co/3Jie12amta, 📰 https://t.co/S3NiZD7DkB |  Ambassadors for #IndieHackers in 🇪🇺🇪🇸 Madrid', url='https://t.co/UGZrUIPAbc', entities={'url': {'urls': [{'url': 'https://t.co/UGZrUIPAbc', 'expanded_url': 'https://thegurus.tech', 'display_url': 'thegurus.tech', 'indices': [0, 23]}]}, 'description': {'urls': [{'url': 'https://t.co/3Jie12amta', 'expanded_url': 'http://moderator-guru.com', 'display_url': 'moderator-guru.com', 'indices': [59, 82]}, {'url': 'https://t.co/S3NiZD7DkB', 'expanded_url': 'http://datatau.net', 'display_url': 'datatau.net', 'indices': [86, 109]}]}}, protected=False, followers_count=36, friends_count=85, listed_count=0, created_at=datetime.datetime(2019, 4, 15, 12, 59, 24), favourites_count=180, utc_offset=None, time_zone=None, geo_enabled=True, verified=False, statuses_count=201, lang=None, contributors_enabled=False, is_translator=False, is_translation_enabled=False, profile_background_color='000000', profile_background_image_url='http://abs.twimg.com/images/themes/theme1/bg.png', profile_background_image_url_https='https://abs.twimg.com/images/themes/theme1/bg.png', profile_background_tile=False, profile_image_url='http://pbs.twimg.com/profile_images/1124016491261779968/byaJ9aWz_normal.png', profile_image_url_https='https://pbs.twimg.com/profile_images/1124016491261779968/byaJ9aWz_normal.png', profile_banner_url='https://pbs.twimg.com/profile_banners/1117774421777887232/1556880472', profile_link_color='1B95E0', profile_sidebar_border_color='000000', profile_sidebar_fill_color='000000', profile_text_color='000000', profile_use_background_image=False, has_extended_profile=True, default_profile=False, default_profile_image=False, can_media_tag=True, followed_by=False, following=False, follow_request_sent=False, notifications=False, translator_type='none'), geo=None, coordinates=None, place=None, contributors=None, retweeted_status=Status(_api=<tweepy.api.API object at 0x7fbcd85ef890>, _json={'created_at': 'Sat Nov 30 07:39:53 +0000 2019', 'id': 1200680835428618240, 'id_str': '1200680835428618240', 'text': 'Pablo Iglesias e Irene Montero: niñera, escolta-recadera, chalé... el ascenso de los líderes de Unidas Podemos… https://t.co/gBtQCz7JbB', 'truncated': True, 'entities': {'hashtags': [], 'symbols': [], 'user_mentions': [], 'urls': [{'url': 'https://t.co/gBtQCz7JbB', 'expanded_url': 'https://twitter.com/i/web/status/1200680835428618240', 'display_url': 'twitter.com/i/web/status/1…', 'indices': [112, 135]}]}, 'source': '<a href=\"http://twitter.com/download/iphone\" rel=\"nofollow\">Twitter for iPhone</a>', 'in_reply_to_status_id': None, 'in_reply_to_status_id_str': None, 'in_reply_to_user_id': None, 'in_reply_to_user_id_str': None, 'in_reply_to_screen_name': None, 'user': {'id': 257955411, 'id_str': '257955411', 'name': 'Víctor Galán', 'screen_name': 'herreradelduque', 'location': 'Madrid', 'description': '#HackingTime 👨🏻\\u200d💻☕️', 'url': None, 'entities': {'description': {'urls': []}}, 'protected': False, 'followers_count': 1570, 'friends_count': 3361, 'listed_count': 29, 'created_at': 'Sat Feb 26 17:02:22 +0000 2011', 'favourites_count': 4351, 'utc_offset': None, 'time_zone': None, 'geo_enabled': True, 'verified': False, 'statuses_count': 6414, 'lang': None, 'contributors_enabled': False, 'is_translator': False, 'is_translation_enabled': False, 'profile_background_color': '091304', 'profile_background_image_url': 'http://abs.twimg.com/images/themes/theme1/bg.png', 'profile_background_image_url_https': 'https://abs.twimg.com/images/themes/theme1/bg.png', 'profile_background_tile': False, 'profile_image_url': 'http://pbs.twimg.com/profile_images/1187978256496111616/01ZOAlDq_normal.jpg', 'profile_image_url_https': 'https://pbs.twimg.com/profile_images/1187978256496111616/01ZOAlDq_normal.jpg', 'profile_banner_url': 'https://pbs.twimg.com/profile_banners/257955411/1354486616', 'profile_link_color': '7D7D7D', 'profile_sidebar_border_color': 'FFFFFF', 'profile_sidebar_fill_color': '262626', 'profile_text_color': '696545', 'profile_use_background_image': True, 'has_extended_profile': True, 'default_profile': False, 'default_profile_image': False, 'can_media_tag': True, 'followed_by': True, 'following': False, 'follow_request_sent': False, 'notifications': False, 'translator_type': 'none'}, 'geo': None, 'coordinates': None, 'place': None, 'contributors': None, 'is_quote_status': False, 'retweet_count': 2, 'favorite_count': 3, 'favorited': True, 'retweeted': True, 'possibly_sensitive': False, 'lang': 'es'}, created_at=datetime.datetime(2019, 11, 30, 7, 39, 53), id=1200680835428618240, id_str='1200680835428618240', text='Pablo Iglesias e Irene Montero: niñera, escolta-recadera, chalé... el ascenso de los líderes de Unidas Podemos… https://t.co/gBtQCz7JbB', truncated=True, entities={'hashtags': [], 'symbols': [], 'user_mentions': [], 'urls': [{'url': 'https://t.co/gBtQCz7JbB', 'expanded_url': 'https://twitter.com/i/web/status/1200680835428618240', 'display_url': 'twitter.com/i/web/status/1…', 'indices': [112, 135]}]}, source='Twitter for iPhone', source_url='http://twitter.com/download/iphone', in_reply_to_status_id=None, in_reply_to_status_id_str=None, in_reply_to_user_id=None, in_reply_to_user_id_str=None, in_reply_to_screen_name=None, author=User(_api=<tweepy.api.API object at 0x7fbcd85ef890>, _json={'id': 257955411, 'id_str': '257955411', 'name': 'Víctor Galán', 'screen_name': 'herreradelduque', 'location': 'Madrid', 'description': '#HackingTime 👨🏻\\u200d💻☕️', 'url': None, 'entities': {'description': {'urls': []}}, 'protected': False, 'followers_count': 1570, 'friends_count': 3361, 'listed_count': 29, 'created_at': 'Sat Feb 26 17:02:22 +0000 2011', 'favourites_count': 4351, 'utc_offset': None, 'time_zone': None, 'geo_enabled': True, 'verified': False, 'statuses_count': 6414, 'lang': None, 'contributors_enabled': False, 'is_translator': False, 'is_translation_enabled': False, 'profile_background_color': '091304', 'profile_background_image_url': 'http://abs.twimg.com/images/themes/theme1/bg.png', 'profile_background_image_url_https': 'https://abs.twimg.com/images/themes/theme1/bg.png', 'profile_background_tile': False, 'profile_image_url': 'http://pbs.twimg.com/profile_images/1187978256496111616/01ZOAlDq_normal.jpg', 'profile_image_url_https': 'https://pbs.twimg.com/profile_images/1187978256496111616/01ZOAlDq_normal.jpg', 'profile_banner_url': 'https://pbs.twimg.com/profile_banners/257955411/1354486616', 'profile_link_color': '7D7D7D', 'profile_sidebar_border_color': 'FFFFFF', 'profile_sidebar_fill_color': '262626', 'profile_text_color': '696545', 'profile_use_background_image': True, 'has_extended_profile': True, 'default_profile': False, 'default_profile_image': False, 'can_media_tag': True, 'followed_by': True, 'following': False, 'follow_request_sent': False, 'notifications': False, 'translator_type': 'none'}, id=257955411, id_str='257955411', name='Víctor Galán', screen_name='herreradelduque', location='Madrid', description='#HackingTime 👨🏻\\u200d💻☕️', url=None, entities={'description': {'urls': []}}, protected=False, followers_count=1570, friends_count=3361, listed_count=29, created_at=datetime.datetime(2011, 2, 26, 17, 2, 22), favourites_count=4351, utc_offset=None, time_zone=None, geo_enabled=True, verified=False, statuses_count=6414, lang=None, contributors_enabled=False, is_translator=False, is_translation_enabled=False, profile_background_color='091304', profile_background_image_url='http://abs.twimg.com/images/themes/theme1/bg.png', profile_background_image_url_https='https://abs.twimg.com/images/themes/theme1/bg.png', profile_background_tile=False, profile_image_url='http://pbs.twimg.com/profile_images/1187978256496111616/01ZOAlDq_normal.jpg', profile_image_url_https='https://pbs.twimg.com/profile_images/1187978256496111616/01ZOAlDq_normal.jpg', profile_banner_url='https://pbs.twimg.com/profile_banners/257955411/1354486616', profile_link_color='7D7D7D', profile_sidebar_border_color='FFFFFF', profile_sidebar_fill_color='262626', profile_text_color='696545', profile_use_background_image=True, has_extended_profile=True, default_profile=False, default_profile_image=False, can_media_tag=True, followed_by=True, following=False, follow_request_sent=False, notifications=False, translator_type='none'), user=User(_api=<tweepy.api.API object at 0x7fbcd85ef890>, _json={'id': 257955411, 'id_str': '257955411', 'name': 'Víctor Galán', 'screen_name': 'herreradelduque', 'location': 'Madrid', 'description': '#HackingTime 👨🏻\\u200d💻☕️', 'url': None, 'entities': {'description': {'urls': []}}, 'protected': False, 'followers_count': 1570, 'friends_count': 3361, 'listed_count': 29, 'created_at': 'Sat Feb 26 17:02:22 +0000 2011', 'favourites_count': 4351, 'utc_offset': None, 'time_zone': None, 'geo_enabled': True, 'verified': False, 'statuses_count': 6414, 'lang': None, 'contributors_enabled': False, 'is_translator': False, 'is_translation_enabled': False, 'profile_background_color': '091304', 'profile_background_image_url': 'http://abs.twimg.com/images/themes/theme1/bg.png', 'profile_background_image_url_https': 'https://abs.twimg.com/images/themes/theme1/bg.png', 'profile_background_tile': False, 'profile_image_url': 'http://pbs.twimg.com/profile_images/1187978256496111616/01ZOAlDq_normal.jpg', 'profile_image_url_https': 'https://pbs.twimg.com/profile_images/1187978256496111616/01ZOAlDq_normal.jpg', 'profile_banner_url': 'https://pbs.twimg.com/profile_banners/257955411/1354486616', 'profile_link_color': '7D7D7D', 'profile_sidebar_border_color': 'FFFFFF', 'profile_sidebar_fill_color': '262626', 'profile_text_color': '696545', 'profile_use_background_image': True, 'has_extended_profile': True, 'default_profile': False, 'default_profile_image': False, 'can_media_tag': True, 'followed_by': True, 'following': False, 'follow_request_sent': False, 'notifications': False, 'translator_type': 'none'}, id=257955411, id_str='257955411', name='Víctor Galán', screen_name='herreradelduque', location='Madrid', description='#HackingTime 👨🏻\\u200d💻☕️', url=None, entities={'description': {'urls': []}}, protected=False, followers_count=1570, friends_count=3361, listed_count=29, created_at=datetime.datetime(2011, 2, 26, 17, 2, 22), favourites_count=4351, utc_offset=None, time_zone=None, geo_enabled=True, verified=False, statuses_count=6414, lang=None, contributors_enabled=False, is_translator=False, is_translation_enabled=False, profile_background_color='091304', profile_background_image_url='http://abs.twimg.com/images/themes/theme1/bg.png', profile_background_image_url_https='https://abs.twimg.com/images/themes/theme1/bg.png', profile_background_tile=False, profile_image_url='http://pbs.twimg.com/profile_images/1187978256496111616/01ZOAlDq_normal.jpg', profile_image_url_https='https://pbs.twimg.com/profile_images/1187978256496111616/01ZOAlDq_normal.jpg', profile_banner_url='https://pbs.twimg.com/profile_banners/257955411/1354486616', profile_link_color='7D7D7D', profile_sidebar_border_color='FFFFFF', profile_sidebar_fill_color='262626', profile_text_color='696545', profile_use_background_image=True, has_extended_profile=True, default_profile=False, default_profile_image=False, can_media_tag=True, followed_by=True, following=False, follow_request_sent=False, notifications=False, translator_type='none'), geo=None, coordinates=None, place=None, contributors=None, is_quote_status=False, retweet_count=2, favorite_count=3, favorited=True, retweeted=True, possibly_sensitive=False, lang='es'), is_quote_status=False, retweet_count=2, favorite_count=0, favorited=True, retweeted=True, lang='es')"
      ]
     },
     "execution_count": 33,
     "metadata": {},
     "output_type": "execute_result"
    }
   ],
   "source": [
    "api.retweet(tweet_id)"
   ]
  },
  {
   "cell_type": "code",
   "execution_count": 34,
   "metadata": {},
   "outputs": [
    {
     "data": {
      "text/plain": [
       "Status(_api=<tweepy.api.API object at 0x7fbcd85ef890>, _json={'created_at': 'Tue Dec 17 19:30:58 +0000 2019', 'id': 1207020380994576385, 'id_str': '1207020380994576385', 'text': '@herreradelduque eres el mejor alumno que hemos tenido nunca', 'truncated': False, 'entities': {'hashtags': [], 'symbols': [], 'user_mentions': [{'screen_name': 'herreradelduque', 'name': 'Víctor Galán', 'id': 257955411, 'id_str': '257955411', 'indices': [0, 16]}], 'urls': []}, 'source': '<a href=\"https://thegurus.tech\" rel=\"nofollow\">Gurus Publisher</a>', 'in_reply_to_status_id': 1200680835428618240, 'in_reply_to_status_id_str': '1200680835428618240', 'in_reply_to_user_id': 257955411, 'in_reply_to_user_id_str': '257955411', 'in_reply_to_screen_name': 'herreradelduque', 'user': {'id': 1117774421777887232, 'id_str': '1117774421777887232', 'name': 'The Gurus Ⓖ 🧙🧙', 'screen_name': 'TheGurusTeam', 'location': 'Madrid, Spain', 'description': '📈 Data Scientists | ⚒️ Independent Makers | Creators of: 🤐 https://t.co/3Jie12amta, 📰 https://t.co/S3NiZD7DkB |  Ambassadors for #IndieHackers in 🇪🇺🇪🇸 Madrid', 'url': 'https://t.co/UGZrUIPAbc', 'entities': {'url': {'urls': [{'url': 'https://t.co/UGZrUIPAbc', 'expanded_url': 'https://thegurus.tech', 'display_url': 'thegurus.tech', 'indices': [0, 23]}]}, 'description': {'urls': [{'url': 'https://t.co/3Jie12amta', 'expanded_url': 'http://moderator-guru.com', 'display_url': 'moderator-guru.com', 'indices': [59, 82]}, {'url': 'https://t.co/S3NiZD7DkB', 'expanded_url': 'http://datatau.net', 'display_url': 'datatau.net', 'indices': [86, 109]}]}}, 'protected': False, 'followers_count': 36, 'friends_count': 85, 'listed_count': 0, 'created_at': 'Mon Apr 15 12:59:24 +0000 2019', 'favourites_count': 180, 'utc_offset': None, 'time_zone': None, 'geo_enabled': True, 'verified': False, 'statuses_count': 201, 'lang': None, 'contributors_enabled': False, 'is_translator': False, 'is_translation_enabled': False, 'profile_background_color': '000000', 'profile_background_image_url': 'http://abs.twimg.com/images/themes/theme1/bg.png', 'profile_background_image_url_https': 'https://abs.twimg.com/images/themes/theme1/bg.png', 'profile_background_tile': False, 'profile_image_url': 'http://pbs.twimg.com/profile_images/1124016491261779968/byaJ9aWz_normal.png', 'profile_image_url_https': 'https://pbs.twimg.com/profile_images/1124016491261779968/byaJ9aWz_normal.png', 'profile_banner_url': 'https://pbs.twimg.com/profile_banners/1117774421777887232/1556880472', 'profile_link_color': '1B95E0', 'profile_sidebar_border_color': '000000', 'profile_sidebar_fill_color': '000000', 'profile_text_color': '000000', 'profile_use_background_image': False, 'has_extended_profile': True, 'default_profile': False, 'default_profile_image': False, 'can_media_tag': True, 'followed_by': False, 'following': False, 'follow_request_sent': False, 'notifications': False, 'translator_type': 'none'}, 'geo': None, 'coordinates': None, 'place': None, 'contributors': None, 'is_quote_status': False, 'retweet_count': 0, 'favorite_count': 0, 'favorited': False, 'retweeted': False, 'lang': 'es'}, created_at=datetime.datetime(2019, 12, 17, 19, 30, 58), id=1207020380994576385, id_str='1207020380994576385', text='@herreradelduque eres el mejor alumno que hemos tenido nunca', truncated=False, entities={'hashtags': [], 'symbols': [], 'user_mentions': [{'screen_name': 'herreradelduque', 'name': 'Víctor Galán', 'id': 257955411, 'id_str': '257955411', 'indices': [0, 16]}], 'urls': []}, source='Gurus Publisher', source_url='https://thegurus.tech', in_reply_to_status_id=1200680835428618240, in_reply_to_status_id_str='1200680835428618240', in_reply_to_user_id=257955411, in_reply_to_user_id_str='257955411', in_reply_to_screen_name='herreradelduque', author=User(_api=<tweepy.api.API object at 0x7fbcd85ef890>, _json={'id': 1117774421777887232, 'id_str': '1117774421777887232', 'name': 'The Gurus Ⓖ 🧙🧙', 'screen_name': 'TheGurusTeam', 'location': 'Madrid, Spain', 'description': '📈 Data Scientists | ⚒️ Independent Makers | Creators of: 🤐 https://t.co/3Jie12amta, 📰 https://t.co/S3NiZD7DkB |  Ambassadors for #IndieHackers in 🇪🇺🇪🇸 Madrid', 'url': 'https://t.co/UGZrUIPAbc', 'entities': {'url': {'urls': [{'url': 'https://t.co/UGZrUIPAbc', 'expanded_url': 'https://thegurus.tech', 'display_url': 'thegurus.tech', 'indices': [0, 23]}]}, 'description': {'urls': [{'url': 'https://t.co/3Jie12amta', 'expanded_url': 'http://moderator-guru.com', 'display_url': 'moderator-guru.com', 'indices': [59, 82]}, {'url': 'https://t.co/S3NiZD7DkB', 'expanded_url': 'http://datatau.net', 'display_url': 'datatau.net', 'indices': [86, 109]}]}}, 'protected': False, 'followers_count': 36, 'friends_count': 85, 'listed_count': 0, 'created_at': 'Mon Apr 15 12:59:24 +0000 2019', 'favourites_count': 180, 'utc_offset': None, 'time_zone': None, 'geo_enabled': True, 'verified': False, 'statuses_count': 201, 'lang': None, 'contributors_enabled': False, 'is_translator': False, 'is_translation_enabled': False, 'profile_background_color': '000000', 'profile_background_image_url': 'http://abs.twimg.com/images/themes/theme1/bg.png', 'profile_background_image_url_https': 'https://abs.twimg.com/images/themes/theme1/bg.png', 'profile_background_tile': False, 'profile_image_url': 'http://pbs.twimg.com/profile_images/1124016491261779968/byaJ9aWz_normal.png', 'profile_image_url_https': 'https://pbs.twimg.com/profile_images/1124016491261779968/byaJ9aWz_normal.png', 'profile_banner_url': 'https://pbs.twimg.com/profile_banners/1117774421777887232/1556880472', 'profile_link_color': '1B95E0', 'profile_sidebar_border_color': '000000', 'profile_sidebar_fill_color': '000000', 'profile_text_color': '000000', 'profile_use_background_image': False, 'has_extended_profile': True, 'default_profile': False, 'default_profile_image': False, 'can_media_tag': True, 'followed_by': False, 'following': False, 'follow_request_sent': False, 'notifications': False, 'translator_type': 'none'}, id=1117774421777887232, id_str='1117774421777887232', name='The Gurus Ⓖ 🧙🧙', screen_name='TheGurusTeam', location='Madrid, Spain', description='📈 Data Scientists | ⚒️ Independent Makers | Creators of: 🤐 https://t.co/3Jie12amta, 📰 https://t.co/S3NiZD7DkB |  Ambassadors for #IndieHackers in 🇪🇺🇪🇸 Madrid', url='https://t.co/UGZrUIPAbc', entities={'url': {'urls': [{'url': 'https://t.co/UGZrUIPAbc', 'expanded_url': 'https://thegurus.tech', 'display_url': 'thegurus.tech', 'indices': [0, 23]}]}, 'description': {'urls': [{'url': 'https://t.co/3Jie12amta', 'expanded_url': 'http://moderator-guru.com', 'display_url': 'moderator-guru.com', 'indices': [59, 82]}, {'url': 'https://t.co/S3NiZD7DkB', 'expanded_url': 'http://datatau.net', 'display_url': 'datatau.net', 'indices': [86, 109]}]}}, protected=False, followers_count=36, friends_count=85, listed_count=0, created_at=datetime.datetime(2019, 4, 15, 12, 59, 24), favourites_count=180, utc_offset=None, time_zone=None, geo_enabled=True, verified=False, statuses_count=201, lang=None, contributors_enabled=False, is_translator=False, is_translation_enabled=False, profile_background_color='000000', profile_background_image_url='http://abs.twimg.com/images/themes/theme1/bg.png', profile_background_image_url_https='https://abs.twimg.com/images/themes/theme1/bg.png', profile_background_tile=False, profile_image_url='http://pbs.twimg.com/profile_images/1124016491261779968/byaJ9aWz_normal.png', profile_image_url_https='https://pbs.twimg.com/profile_images/1124016491261779968/byaJ9aWz_normal.png', profile_banner_url='https://pbs.twimg.com/profile_banners/1117774421777887232/1556880472', profile_link_color='1B95E0', profile_sidebar_border_color='000000', profile_sidebar_fill_color='000000', profile_text_color='000000', profile_use_background_image=False, has_extended_profile=True, default_profile=False, default_profile_image=False, can_media_tag=True, followed_by=False, following=False, follow_request_sent=False, notifications=False, translator_type='none'), user=User(_api=<tweepy.api.API object at 0x7fbcd85ef890>, _json={'id': 1117774421777887232, 'id_str': '1117774421777887232', 'name': 'The Gurus Ⓖ 🧙🧙', 'screen_name': 'TheGurusTeam', 'location': 'Madrid, Spain', 'description': '📈 Data Scientists | ⚒️ Independent Makers | Creators of: 🤐 https://t.co/3Jie12amta, 📰 https://t.co/S3NiZD7DkB |  Ambassadors for #IndieHackers in 🇪🇺🇪🇸 Madrid', 'url': 'https://t.co/UGZrUIPAbc', 'entities': {'url': {'urls': [{'url': 'https://t.co/UGZrUIPAbc', 'expanded_url': 'https://thegurus.tech', 'display_url': 'thegurus.tech', 'indices': [0, 23]}]}, 'description': {'urls': [{'url': 'https://t.co/3Jie12amta', 'expanded_url': 'http://moderator-guru.com', 'display_url': 'moderator-guru.com', 'indices': [59, 82]}, {'url': 'https://t.co/S3NiZD7DkB', 'expanded_url': 'http://datatau.net', 'display_url': 'datatau.net', 'indices': [86, 109]}]}}, 'protected': False, 'followers_count': 36, 'friends_count': 85, 'listed_count': 0, 'created_at': 'Mon Apr 15 12:59:24 +0000 2019', 'favourites_count': 180, 'utc_offset': None, 'time_zone': None, 'geo_enabled': True, 'verified': False, 'statuses_count': 201, 'lang': None, 'contributors_enabled': False, 'is_translator': False, 'is_translation_enabled': False, 'profile_background_color': '000000', 'profile_background_image_url': 'http://abs.twimg.com/images/themes/theme1/bg.png', 'profile_background_image_url_https': 'https://abs.twimg.com/images/themes/theme1/bg.png', 'profile_background_tile': False, 'profile_image_url': 'http://pbs.twimg.com/profile_images/1124016491261779968/byaJ9aWz_normal.png', 'profile_image_url_https': 'https://pbs.twimg.com/profile_images/1124016491261779968/byaJ9aWz_normal.png', 'profile_banner_url': 'https://pbs.twimg.com/profile_banners/1117774421777887232/1556880472', 'profile_link_color': '1B95E0', 'profile_sidebar_border_color': '000000', 'profile_sidebar_fill_color': '000000', 'profile_text_color': '000000', 'profile_use_background_image': False, 'has_extended_profile': True, 'default_profile': False, 'default_profile_image': False, 'can_media_tag': True, 'followed_by': False, 'following': False, 'follow_request_sent': False, 'notifications': False, 'translator_type': 'none'}, id=1117774421777887232, id_str='1117774421777887232', name='The Gurus Ⓖ 🧙🧙', screen_name='TheGurusTeam', location='Madrid, Spain', description='📈 Data Scientists | ⚒️ Independent Makers | Creators of: 🤐 https://t.co/3Jie12amta, 📰 https://t.co/S3NiZD7DkB |  Ambassadors for #IndieHackers in 🇪🇺🇪🇸 Madrid', url='https://t.co/UGZrUIPAbc', entities={'url': {'urls': [{'url': 'https://t.co/UGZrUIPAbc', 'expanded_url': 'https://thegurus.tech', 'display_url': 'thegurus.tech', 'indices': [0, 23]}]}, 'description': {'urls': [{'url': 'https://t.co/3Jie12amta', 'expanded_url': 'http://moderator-guru.com', 'display_url': 'moderator-guru.com', 'indices': [59, 82]}, {'url': 'https://t.co/S3NiZD7DkB', 'expanded_url': 'http://datatau.net', 'display_url': 'datatau.net', 'indices': [86, 109]}]}}, protected=False, followers_count=36, friends_count=85, listed_count=0, created_at=datetime.datetime(2019, 4, 15, 12, 59, 24), favourites_count=180, utc_offset=None, time_zone=None, geo_enabled=True, verified=False, statuses_count=201, lang=None, contributors_enabled=False, is_translator=False, is_translation_enabled=False, profile_background_color='000000', profile_background_image_url='http://abs.twimg.com/images/themes/theme1/bg.png', profile_background_image_url_https='https://abs.twimg.com/images/themes/theme1/bg.png', profile_background_tile=False, profile_image_url='http://pbs.twimg.com/profile_images/1124016491261779968/byaJ9aWz_normal.png', profile_image_url_https='https://pbs.twimg.com/profile_images/1124016491261779968/byaJ9aWz_normal.png', profile_banner_url='https://pbs.twimg.com/profile_banners/1117774421777887232/1556880472', profile_link_color='1B95E0', profile_sidebar_border_color='000000', profile_sidebar_fill_color='000000', profile_text_color='000000', profile_use_background_image=False, has_extended_profile=True, default_profile=False, default_profile_image=False, can_media_tag=True, followed_by=False, following=False, follow_request_sent=False, notifications=False, translator_type='none'), geo=None, coordinates=None, place=None, contributors=None, is_quote_status=False, retweet_count=0, favorite_count=0, favorited=False, retweeted=False, lang='es')"
      ]
     },
     "execution_count": 34,
     "metadata": {},
     "output_type": "execute_result"
    }
   ],
   "source": [
    "api.update_status(f'@herreradelduque eres el mejor alumno que hemos tenido nunca', tweet_id)"
   ]
  },
  {
   "cell_type": "code",
   "execution_count": null,
   "metadata": {},
   "outputs": [],
   "source": []
  }
 ],
 "metadata": {
  "kernelspec": {
   "display_name": "Python [conda env:ironhack_env]",
   "language": "python",
   "name": "conda-env-ironhack_env-py"
  },
  "language_info": {
   "codemirror_mode": {
    "name": "ipython",
    "version": 3
   },
   "file_extension": ".py",
   "mimetype": "text/x-python",
   "name": "python",
   "nbconvert_exporter": "python",
   "pygments_lexer": "ipython3",
   "version": "3.7.4"
  }
 },
 "nbformat": 4,
 "nbformat_minor": 4
}
